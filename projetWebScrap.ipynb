{
 "cells": [
  {
   "cell_type": "code",
   "execution_count": 1,
   "id": "e4569e91",
   "metadata": {},
   "outputs": [],
   "source": [
    "import requests\n",
    "from bs4 import BeautifulSoup\n",
    "import time\n",
    "\n",
    "from selenium import webdriver\n",
    "from selenium.webdriver.common.keys import Keys\n",
    "from selenium.webdriver.support.ui import WebDriverWait\n",
    "from selenium.webdriver.chrome.options import Options\n",
    "from selenium.common.exceptions import NoSuchElementException\n",
    "\n",
    "import pandas as pd\n",
    "\n",
    "from random import randint"
   ]
  },
  {
   "cell_type": "code",
   "execution_count": 2,
   "id": "60dd4664",
   "metadata": {},
   "outputs": [
    {
     "name": "stderr",
     "output_type": "stream",
     "text": [
      "/var/folders/vz/b_9qpnp10351c7xlbrnq72880000gn/T/ipykernel_10120/4202193537.py:10: DeprecationWarning: executable_path has been deprecated, please pass in a Service object\n",
      "  driver = webdriver.Chrome(r'C:\\Users\\valan\\Downloads\\chromedriver.exe', options = options)\n"
     ]
    }
   ],
   "source": [
    "options = webdriver.ChromeOptions()\n",
    "# options.add_argument('-headless')\n",
    "# options.add_argument('-no-sandbox')\n",
    "# options.add_argument('-disable-dev-shm-usage')\n",
    "options.add_argument(\"enable-automation\")\n",
    "options.add_argument(\"--window-size=1920,1080\")\n",
    "options.add_argument(\"--disable-extensions\")\n",
    "options.add_argument(\"--dns-prefetch-disable\")\n",
    "options.add_argument(\"--disable-gpu\")\n",
    "driver = webdriver.Chrome(r'C:\\Users\\valan\\Downloads\\chromedriver.exe', options = options)\n",
    "# web_link =\"https://python.org\"\n",
    "# driver.get(web_link)"
   ]
  },
  {
   "cell_type": "markdown",
   "id": "9b5c45b7",
   "metadata": {},
   "source": [
    "# Top villes vacances France"
   ]
  },
  {
   "cell_type": "code",
   "execution_count": 3,
   "id": "fddb04b3",
   "metadata": {},
   "outputs": [],
   "source": [
    "url = \"https://www.geo.fr/voyage/decouvrez-le-top-10-des-villes-les-plus-touristiques-de-france-212253\""
   ]
  },
  {
   "cell_type": "code",
   "execution_count": 4,
   "id": "a32e1830",
   "metadata": {},
   "outputs": [],
   "source": [
    "data = requests.get(url).text"
   ]
  },
  {
   "cell_type": "code",
   "execution_count": 5,
   "id": "a0bf1c21",
   "metadata": {},
   "outputs": [],
   "source": [
    "soup = BeautifulSoup(data, 'html.parser')"
   ]
  },
  {
   "cell_type": "code",
   "execution_count": 6,
   "id": "35bd546f",
   "metadata": {},
   "outputs": [],
   "source": [
    "element = soup.findAll('ul')[12]\n",
    "villes = element.findAll('li')\n",
    "\n",
    "classement=[]\n",
    "ville=[]\n",
    "region=[]\n",
    "    \n",
    "for v in villes:\n",
    "    classement.append(v.text.split(',')[0].split(\"-\")[0])\n",
    "    ville.append(v.text.split(',')[0][3:].strip())\n",
    "    region.append(v.text.split(',')[1].strip())\n",
    "    \n",
    "headers=[\"Classement\", \"Ville\", \"Région\"]\n",
    "# Create a dataframe\n",
    "villes = pd.DataFrame(columns = headers)\n",
    "\n",
    "villes = pd.DataFrame({'Classement': classement,  'Ville': ville, 'Région': region})"
   ]
  },
  {
   "cell_type": "code",
   "execution_count": 7,
   "id": "327efdc9",
   "metadata": {},
   "outputs": [
    {
     "data": {
      "text/html": [
       "<div>\n",
       "<style scoped>\n",
       "    .dataframe tbody tr th:only-of-type {\n",
       "        vertical-align: middle;\n",
       "    }\n",
       "\n",
       "    .dataframe tbody tr th {\n",
       "        vertical-align: top;\n",
       "    }\n",
       "\n",
       "    .dataframe thead th {\n",
       "        text-align: right;\n",
       "    }\n",
       "</style>\n",
       "<table border=\"1\" class=\"dataframe\">\n",
       "  <thead>\n",
       "    <tr style=\"text-align: right;\">\n",
       "      <th></th>\n",
       "      <th>Classement</th>\n",
       "      <th>Ville</th>\n",
       "      <th>Région</th>\n",
       "    </tr>\n",
       "  </thead>\n",
       "  <tbody>\n",
       "    <tr>\n",
       "      <th>0</th>\n",
       "      <td>1</td>\n",
       "      <td>Agde</td>\n",
       "      <td>Occitanie</td>\n",
       "    </tr>\n",
       "    <tr>\n",
       "      <th>1</th>\n",
       "      <td>2</td>\n",
       "      <td>Chamonix-Mont-Blanc</td>\n",
       "      <td>Auvergne-Rhône-Alpes</td>\n",
       "    </tr>\n",
       "    <tr>\n",
       "      <th>2</th>\n",
       "      <td>3</td>\n",
       "      <td>Carnac</td>\n",
       "      <td>Bretagne</td>\n",
       "    </tr>\n",
       "    <tr>\n",
       "      <th>3</th>\n",
       "      <td>4</td>\n",
       "      <td>Argelès-sur-Mer</td>\n",
       "      <td>Occitanie</td>\n",
       "    </tr>\n",
       "    <tr>\n",
       "      <th>4</th>\n",
       "      <td>5</td>\n",
       "      <td>Quiberon</td>\n",
       "      <td>Bretagne</td>\n",
       "    </tr>\n",
       "    <tr>\n",
       "      <th>5</th>\n",
       "      <td>6</td>\n",
       "      <td>Le Lavandou</td>\n",
       "      <td>Provence-Alpes-Côte-D’Azur</td>\n",
       "    </tr>\n",
       "    <tr>\n",
       "      <th>6</th>\n",
       "      <td>7</td>\n",
       "      <td>La Grande-Motte</td>\n",
       "      <td>Occitanie</td>\n",
       "    </tr>\n",
       "    <tr>\n",
       "      <th>7</th>\n",
       "      <td>8</td>\n",
       "      <td>Ramatuelle</td>\n",
       "      <td>Provence-Alpes-Côte-D’Azur</td>\n",
       "    </tr>\n",
       "    <tr>\n",
       "      <th>8</th>\n",
       "      <td>9</td>\n",
       "      <td>Saint-Raphaël</td>\n",
       "      <td>Provence-Alpes-Côte-D’Azur</td>\n",
       "    </tr>\n",
       "    <tr>\n",
       "      <th>9</th>\n",
       "      <td>10</td>\n",
       "      <td>La Baule-Escoublac</td>\n",
       "      <td>Pays de La Loire</td>\n",
       "    </tr>\n",
       "  </tbody>\n",
       "</table>\n",
       "</div>"
      ],
      "text/plain": [
       "  Classement                Ville                      Région\n",
       "0          1                 Agde                   Occitanie\n",
       "1          2  Chamonix-Mont-Blanc        Auvergne-Rhône-Alpes\n",
       "2          3               Carnac                    Bretagne\n",
       "3          4      Argelès-sur-Mer                   Occitanie\n",
       "4          5             Quiberon                    Bretagne\n",
       "5          6          Le Lavandou  Provence-Alpes-Côte-D’Azur\n",
       "6          7      La Grande-Motte                   Occitanie\n",
       "7          8           Ramatuelle  Provence-Alpes-Côte-D’Azur\n",
       "8          9        Saint-Raphaël  Provence-Alpes-Côte-D’Azur\n",
       "9         10   La Baule-Escoublac            Pays de La Loire"
      ]
     },
     "execution_count": 7,
     "metadata": {},
     "output_type": "execute_result"
    }
   ],
   "source": [
    "villes"
   ]
  },
  {
   "cell_type": "markdown",
   "id": "74bb46c0",
   "metadata": {},
   "source": [
    "# Code postal de ces villes"
   ]
  },
  {
   "cell_type": "code",
   "execution_count": 8,
   "id": "3de7687b",
   "metadata": {},
   "outputs": [
    {
     "name": "stderr",
     "output_type": "stream",
     "text": [
      "/var/folders/vz/b_9qpnp10351c7xlbrnq72880000gn/T/ipykernel_10120/3121359295.py:6: DeprecationWarning: executable_path has been deprecated, please pass in a Service object\n",
      "  driver = webdriver.Chrome(r'C:\\Users\\valan\\Downloads\\chromedriver.exe', options = options)\n"
     ]
    },
    {
     "name": "stdout",
     "output_type": "stream",
     "text": [
      "Agde\n",
      "Chamonix-Mont-Blanc\n",
      "Carnac\n",
      "Argelès-sur-Mer\n",
      "Quiberon\n",
      "Le Lavandou\n",
      "La Grande-Motte\n",
      "Ramatuelle\n",
      "Saint-Raphaël\n",
      "La Baule-Escoublac\n"
     ]
    }
   ],
   "source": [
    "url = \"https://www.code-postal.com/\"\n",
    "\n",
    "villes['Code Postal']=\"\"\n",
    "\n",
    "options = Options()\n",
    "driver = webdriver.Chrome(r'C:\\Users\\valan\\Downloads\\chromedriver.exe', options = options)\n",
    "\n",
    "for i in range(len(villes)):\n",
    "    \n",
    "    ville = villes['Ville'][i]\n",
    "    driver.get(url)\n",
    "    \n",
    "    search_box = driver.find_element(\"xpath\",'//*[@id=\"mots_cles\"]')\n",
    "\n",
    "    #Searched city in serch box\n",
    "    search_box.send_keys(ville)\n",
    "    print(ville)\n",
    "    search_box.send_keys(Keys.RETURN)\n",
    "    \n",
    "    #si la ville n'est pas directement trouvée\n",
    "    try:\n",
    "        code = driver.find_element(\"xpath\",'/html/body/div[1]/div[4]/a/div').text\n",
    "        villes['Code Postal'][i] = code\n",
    "        \n",
    "    #si la ville est directement trouvée\n",
    "    except NoSuchElementException:\n",
    "        code = driver.find_element(\"xpath\",'/html/body/div[1]/h1').text\n",
    "        code = code.split('(')[1].strip(')')\n",
    "\n",
    "        villes['Code Postal'][i] = code\n",
    "    \n",
    "driver.quit()"
   ]
  },
  {
   "cell_type": "code",
   "execution_count": 9,
   "id": "178411b1",
   "metadata": {},
   "outputs": [
    {
     "data": {
      "text/html": [
       "<div>\n",
       "<style scoped>\n",
       "    .dataframe tbody tr th:only-of-type {\n",
       "        vertical-align: middle;\n",
       "    }\n",
       "\n",
       "    .dataframe tbody tr th {\n",
       "        vertical-align: top;\n",
       "    }\n",
       "\n",
       "    .dataframe thead th {\n",
       "        text-align: right;\n",
       "    }\n",
       "</style>\n",
       "<table border=\"1\" class=\"dataframe\">\n",
       "  <thead>\n",
       "    <tr style=\"text-align: right;\">\n",
       "      <th></th>\n",
       "      <th>Classement</th>\n",
       "      <th>Ville</th>\n",
       "      <th>Région</th>\n",
       "      <th>Code Postal</th>\n",
       "    </tr>\n",
       "  </thead>\n",
       "  <tbody>\n",
       "    <tr>\n",
       "      <th>0</th>\n",
       "      <td>1</td>\n",
       "      <td>Agde</td>\n",
       "      <td>Occitanie</td>\n",
       "      <td>34300</td>\n",
       "    </tr>\n",
       "    <tr>\n",
       "      <th>1</th>\n",
       "      <td>2</td>\n",
       "      <td>Chamonix-Mont-Blanc</td>\n",
       "      <td>Auvergne-Rhône-Alpes</td>\n",
       "      <td>74400</td>\n",
       "    </tr>\n",
       "    <tr>\n",
       "      <th>2</th>\n",
       "      <td>3</td>\n",
       "      <td>Carnac</td>\n",
       "      <td>Bretagne</td>\n",
       "      <td>56340</td>\n",
       "    </tr>\n",
       "    <tr>\n",
       "      <th>3</th>\n",
       "      <td>4</td>\n",
       "      <td>Argelès-sur-Mer</td>\n",
       "      <td>Occitanie</td>\n",
       "      <td>66700</td>\n",
       "    </tr>\n",
       "    <tr>\n",
       "      <th>4</th>\n",
       "      <td>5</td>\n",
       "      <td>Quiberon</td>\n",
       "      <td>Bretagne</td>\n",
       "      <td>56170</td>\n",
       "    </tr>\n",
       "    <tr>\n",
       "      <th>5</th>\n",
       "      <td>6</td>\n",
       "      <td>Le Lavandou</td>\n",
       "      <td>Provence-Alpes-Côte-D’Azur</td>\n",
       "      <td>83980</td>\n",
       "    </tr>\n",
       "    <tr>\n",
       "      <th>6</th>\n",
       "      <td>7</td>\n",
       "      <td>La Grande-Motte</td>\n",
       "      <td>Occitanie</td>\n",
       "      <td>34280</td>\n",
       "    </tr>\n",
       "    <tr>\n",
       "      <th>7</th>\n",
       "      <td>8</td>\n",
       "      <td>Ramatuelle</td>\n",
       "      <td>Provence-Alpes-Côte-D’Azur</td>\n",
       "      <td>83350</td>\n",
       "    </tr>\n",
       "    <tr>\n",
       "      <th>8</th>\n",
       "      <td>9</td>\n",
       "      <td>Saint-Raphaël</td>\n",
       "      <td>Provence-Alpes-Côte-D’Azur</td>\n",
       "      <td>24160</td>\n",
       "    </tr>\n",
       "    <tr>\n",
       "      <th>9</th>\n",
       "      <td>10</td>\n",
       "      <td>La Baule-Escoublac</td>\n",
       "      <td>Pays de La Loire</td>\n",
       "      <td>44500</td>\n",
       "    </tr>\n",
       "  </tbody>\n",
       "</table>\n",
       "</div>"
      ],
      "text/plain": [
       "  Classement                Ville                      Région Code Postal\n",
       "0          1                 Agde                   Occitanie       34300\n",
       "1          2  Chamonix-Mont-Blanc        Auvergne-Rhône-Alpes       74400\n",
       "2          3               Carnac                    Bretagne       56340\n",
       "3          4      Argelès-sur-Mer                   Occitanie       66700\n",
       "4          5             Quiberon                    Bretagne       56170\n",
       "5          6          Le Lavandou  Provence-Alpes-Côte-D’Azur       83980\n",
       "6          7      La Grande-Motte                   Occitanie       34280\n",
       "7          8           Ramatuelle  Provence-Alpes-Côte-D’Azur       83350\n",
       "8          9        Saint-Raphaël  Provence-Alpes-Côte-D’Azur       24160\n",
       "9         10   La Baule-Escoublac            Pays de La Loire       44500"
      ]
     },
     "execution_count": 9,
     "metadata": {},
     "output_type": "execute_result"
    }
   ],
   "source": [
    "villes"
   ]
  },
  {
   "cell_type": "markdown",
   "id": "aee552de",
   "metadata": {},
   "source": [
    "# Nombre de logements par ville via Airbnb"
   ]
  },
  {
   "cell_type": "code",
   "execution_count": null,
   "id": "95ce67de",
   "metadata": {},
   "outputs": [],
   "source": [
    "from datetime import datetime, timedelta"
   ]
  },
  {
   "cell_type": "code",
   "execution_count": null,
   "id": "0ad439b8",
   "metadata": {},
   "outputs": [],
   "source": [
    "datetime.now().isocalendar()[1]"
   ]
  },
  {
   "cell_type": "code",
   "execution_count": null,
   "id": "b9a99d53",
   "metadata": {},
   "outputs": [],
   "source": [
    "import calendar\n",
    "from datetime import datetime\n",
    "\n",
    "def get_saturday_dates(year, month):\n",
    "    c = calendar.Calendar(firstweekday=calendar.SATURDAY)\n",
    "    monthcal = c.monthdatescalendar(year, month)\n",
    "    saturday_dates = [d for week in monthcal for d in week if d.weekday() == calendar.SATURDAY and d.month == month]\n",
    "    return saturday_dates\n",
    "\n",
    "# Exemple d'utilisation\n",
    "dates = get_saturday_dates(2023, 1)\n",
    "for date in dates:\n",
    "    print(date.strftime(\"%d/%m/%Y\"))"
   ]
  },
  {
   "cell_type": "code",
   "execution_count": null,
   "id": "d3b52dc5",
   "metadata": {},
   "outputs": [],
   "source": [
    "mois = 1\n",
    "dates = []\n",
    "while mois <= 12 :\n",
    "    samedi = get_saturday_dates(2023, mois)\n",
    "    dates.append((samedi[1].strftime(\"%Y-%m-%d\"), samedi[2].strftime(\"%Y-%m-%d\")))\n",
    "    mois += 1\n",
    "dates                "
   ]
  },
  {
   "cell_type": "code",
   "execution_count": null,
   "id": "ee64dd89",
   "metadata": {},
   "outputs": [],
   "source": [
    "dates[0][0][5:7]"
   ]
  },
  {
   "cell_type": "code",
   "execution_count": null,
   "id": "1e45ee2f",
   "metadata": {
    "scrolled": true
   },
   "outputs": [],
   "source": [
    "villes"
   ]
  },
  {
   "cell_type": "code",
   "execution_count": null,
   "id": "4df94458",
   "metadata": {},
   "outputs": [],
   "source": [
    "for date in dates :\n",
    "    villes[f'prix_{date[0][5:7]}'] = 0"
   ]
  },
  {
   "cell_type": "code",
   "execution_count": null,
   "id": "8972fb2e",
   "metadata": {},
   "outputs": [],
   "source": [
    "villes"
   ]
  },
  {
   "cell_type": "code",
   "execution_count": 3,
   "id": "06071947",
   "metadata": {},
   "outputs": [],
   "source": [
    "from statistics import mean\n",
    "from selenium.webdriver.common.keys import Keys\n",
    "from selenium.webdriver.common.by import By"
   ]
  },
  {
   "cell_type": "code",
   "execution_count": null,
   "id": "26a9d0e6",
   "metadata": {},
   "outputs": [],
   "source": []
  },
  {
   "cell_type": "code",
   "execution_count": null,
   "id": "974824a7",
   "metadata": {},
   "outputs": [],
   "source": []
  },
  {
   "cell_type": "code",
   "execution_count": null,
   "id": "36dae3f0",
   "metadata": {},
   "outputs": [],
   "source": []
  },
  {
   "cell_type": "code",
   "execution_count": null,
   "id": "a5851eeb",
   "metadata": {},
   "outputs": [],
   "source": []
  },
  {
   "cell_type": "code",
   "execution_count": null,
   "id": "f8db006f",
   "metadata": {},
   "outputs": [],
   "source": [
    "from statistics import mean\n",
    "from selenium.webdriver.common.keys import Keys\n",
    "from selenium.webdriver.common.by import By\n",
    "\n",
    "\n",
    "mois = dates[0][0][5:7]\n",
    "\n",
    "for ville in villes.Ville :\n",
    "    for date in dates :\n",
    "        options.add_argument(\"--start-maximized\")\n",
    "        options.add_argument(\"--incognito\")\n",
    "        driver = webdriver.Chrome(r'C:\\Users\\valan\\Downloads\\chromedriver.exe', options = options)\n",
    "        url = f'https://www.airbnb.fr/s/{ville}--France/homes?adults=2&l2_property_type_ids%5B%5D=3&room_types%5B%5D=Entire%20home%2Fapt&search_type=filter_change&min_bathrooms=1&min_bedrooms=1&date_picker_type=calendar&checkin={date[0]}&checkout={date[1]}&source=structured_search_input_header'\n",
    "        driver.get(url)\n",
    "        l = []\n",
    "        if date[0][5:7] != mois :\n",
    "            mois = date[0][5:7]\n",
    "        i = 1\n",
    "        while i <= 18 :\n",
    "            try :\n",
    "                price = driver.find_element(By.XPATH, f'//*[@id=\"site-content\"]/div[2]/div[3]/div/div/div/div/div/div[{i}]/div/div[2]/div/div/div/div[1]/div/div[1]/div[5]/div/div/span[1]/div/span[1]').text\n",
    "                \n",
    "            except :\n",
    "                try :\n",
    "                    price = driver.find_element(By.XPATH, f'//*[@id=\"site-content\"]/div[2]/div[4]/div/div/div/div/div/div[1]/div/div[2]/div/div/div/div[1]/div/div[1]/div[5]/div/div/span[1]/div/span[2]').text\n",
    "                except :\n",
    "                    continue\n",
    "            try :\n",
    "                price = price.split(' ')\n",
    "                price_int = int(price[0])\n",
    "                l.append(price_int)\n",
    "            except :\n",
    "                continue\n",
    "            i += 1\n",
    "        print(ville, l, '---------')\n",
    "        villes.loc[villes['Ville'] == ville, [f'prix_{mois}']] = mean(l) \n",
    "        driver.quit()"
   ]
  },
  {
   "cell_type": "code",
   "execution_count": null,
   "id": "9293646c",
   "metadata": {
    "scrolled": false
   },
   "outputs": [],
   "source": [
    "villes"
   ]
  },
  {
   "cell_type": "code",
   "execution_count": null,
   "id": "66306b45",
   "metadata": {},
   "outputs": [],
   "source": [
    "villes.to_csv('villes_prix_moy.csv')"
   ]
  },
  {
   "cell_type": "code",
   "execution_count": 14,
   "id": "7c25d5a5",
   "metadata": {},
   "outputs": [],
   "source": [
    "villes = pd.read_csv('villes_prix_moy.csv')\n",
    "villes.drop(['Unnamed: 0'], axis = 1, inplace = True)"
   ]
  },
  {
   "cell_type": "code",
   "execution_count": 16,
   "id": "43a539ad",
   "metadata": {},
   "outputs": [
    {
     "data": {
      "text/html": [
       "<div>\n",
       "<style scoped>\n",
       "    .dataframe tbody tr th:only-of-type {\n",
       "        vertical-align: middle;\n",
       "    }\n",
       "\n",
       "    .dataframe tbody tr th {\n",
       "        vertical-align: top;\n",
       "    }\n",
       "\n",
       "    .dataframe thead th {\n",
       "        text-align: right;\n",
       "    }\n",
       "</style>\n",
       "<table border=\"1\" class=\"dataframe\">\n",
       "  <thead>\n",
       "    <tr style=\"text-align: right;\">\n",
       "      <th></th>\n",
       "      <th>Classement</th>\n",
       "      <th>Ville</th>\n",
       "      <th>Région</th>\n",
       "      <th>Code Postal</th>\n",
       "      <th>prix_01</th>\n",
       "      <th>prix_02</th>\n",
       "      <th>prix_03</th>\n",
       "      <th>prix_04</th>\n",
       "      <th>prix_05</th>\n",
       "      <th>prix_06</th>\n",
       "      <th>prix_07</th>\n",
       "      <th>prix_08</th>\n",
       "      <th>prix_09</th>\n",
       "      <th>prix_10</th>\n",
       "      <th>prix_11</th>\n",
       "      <th>prix_12</th>\n",
       "    </tr>\n",
       "  </thead>\n",
       "  <tbody>\n",
       "    <tr>\n",
       "      <th>0</th>\n",
       "      <td>1</td>\n",
       "      <td>Agde</td>\n",
       "      <td>Occitanie</td>\n",
       "      <td>34300</td>\n",
       "      <td>57.000000</td>\n",
       "      <td>60.777778</td>\n",
       "      <td>52.944444</td>\n",
       "      <td>70.111111</td>\n",
       "      <td>74.555556</td>\n",
       "      <td>72.722222</td>\n",
       "      <td>126.666667</td>\n",
       "      <td>131.222222</td>\n",
       "      <td>76.166667</td>\n",
       "      <td>62.333333</td>\n",
       "      <td>59.777778</td>\n",
       "      <td>62.277778</td>\n",
       "    </tr>\n",
       "    <tr>\n",
       "      <th>1</th>\n",
       "      <td>2</td>\n",
       "      <td>Chamonix-Mont-Blanc</td>\n",
       "      <td>Auvergne-Rhône-Alpes</td>\n",
       "      <td>74400</td>\n",
       "      <td>115.555556</td>\n",
       "      <td>159.000000</td>\n",
       "      <td>113.388889</td>\n",
       "      <td>121.666667</td>\n",
       "      <td>100.888889</td>\n",
       "      <td>107.555556</td>\n",
       "      <td>120.277778</td>\n",
       "      <td>133.611111</td>\n",
       "      <td>96.111111</td>\n",
       "      <td>116.722222</td>\n",
       "      <td>121.333333</td>\n",
       "      <td>124.444444</td>\n",
       "    </tr>\n",
       "    <tr>\n",
       "      <th>2</th>\n",
       "      <td>3</td>\n",
       "      <td>Carnac</td>\n",
       "      <td>Bretagne</td>\n",
       "      <td>56340</td>\n",
       "      <td>85.111111</td>\n",
       "      <td>74.944444</td>\n",
       "      <td>72.555556</td>\n",
       "      <td>79.500000</td>\n",
       "      <td>81.722222</td>\n",
       "      <td>93.333333</td>\n",
       "      <td>108.111111</td>\n",
       "      <td>128.722222</td>\n",
       "      <td>89.444444</td>\n",
       "      <td>82.722222</td>\n",
       "      <td>73.111111</td>\n",
       "      <td>74.555556</td>\n",
       "    </tr>\n",
       "    <tr>\n",
       "      <th>3</th>\n",
       "      <td>4</td>\n",
       "      <td>Argelès-sur-Mer</td>\n",
       "      <td>Occitanie</td>\n",
       "      <td>66700</td>\n",
       "      <td>62.000000</td>\n",
       "      <td>67.555556</td>\n",
       "      <td>74.277778</td>\n",
       "      <td>77.555556</td>\n",
       "      <td>87.222222</td>\n",
       "      <td>76.222222</td>\n",
       "      <td>110.666667</td>\n",
       "      <td>113.222222</td>\n",
       "      <td>72.111111</td>\n",
       "      <td>71.388889</td>\n",
       "      <td>77.222222</td>\n",
       "      <td>77.222222</td>\n",
       "    </tr>\n",
       "    <tr>\n",
       "      <th>4</th>\n",
       "      <td>5</td>\n",
       "      <td>Quiberon</td>\n",
       "      <td>Bretagne</td>\n",
       "      <td>56170</td>\n",
       "      <td>80.666667</td>\n",
       "      <td>94.777778</td>\n",
       "      <td>88.944444</td>\n",
       "      <td>93.611111</td>\n",
       "      <td>94.388889</td>\n",
       "      <td>94.277778</td>\n",
       "      <td>111.500000</td>\n",
       "      <td>129.222222</td>\n",
       "      <td>87.944444</td>\n",
       "      <td>92.222222</td>\n",
       "      <td>87.500000</td>\n",
       "      <td>86.166667</td>\n",
       "    </tr>\n",
       "    <tr>\n",
       "      <th>5</th>\n",
       "      <td>6</td>\n",
       "      <td>Le Lavandou</td>\n",
       "      <td>Provence-Alpes-Côte-D’Azur</td>\n",
       "      <td>83980</td>\n",
       "      <td>78.833333</td>\n",
       "      <td>76.500000</td>\n",
       "      <td>76.333333</td>\n",
       "      <td>87.611111</td>\n",
       "      <td>88.111111</td>\n",
       "      <td>95.777778</td>\n",
       "      <td>134.888889</td>\n",
       "      <td>152.888889</td>\n",
       "      <td>94.388889</td>\n",
       "      <td>87.888889</td>\n",
       "      <td>75.555556</td>\n",
       "      <td>75.611111</td>\n",
       "    </tr>\n",
       "    <tr>\n",
       "      <th>6</th>\n",
       "      <td>7</td>\n",
       "      <td>La Grande-Motte</td>\n",
       "      <td>Occitanie</td>\n",
       "      <td>34280</td>\n",
       "      <td>51.777778</td>\n",
       "      <td>66.777778</td>\n",
       "      <td>55.333333</td>\n",
       "      <td>73.555556</td>\n",
       "      <td>77.666667</td>\n",
       "      <td>69.833333</td>\n",
       "      <td>86.777778</td>\n",
       "      <td>86.444444</td>\n",
       "      <td>84.000000</td>\n",
       "      <td>78.777778</td>\n",
       "      <td>78.000000</td>\n",
       "      <td>77.833333</td>\n",
       "    </tr>\n",
       "    <tr>\n",
       "      <th>7</th>\n",
       "      <td>8</td>\n",
       "      <td>Ramatuelle</td>\n",
       "      <td>Provence-Alpes-Côte-D’Azur</td>\n",
       "      <td>83350</td>\n",
       "      <td>79.166667</td>\n",
       "      <td>89.666667</td>\n",
       "      <td>80.944444</td>\n",
       "      <td>117.777778</td>\n",
       "      <td>143.666667</td>\n",
       "      <td>147.222222</td>\n",
       "      <td>176.222222</td>\n",
       "      <td>211.000000</td>\n",
       "      <td>141.111111</td>\n",
       "      <td>112.833333</td>\n",
       "      <td>102.722222</td>\n",
       "      <td>116.944444</td>\n",
       "    </tr>\n",
       "    <tr>\n",
       "      <th>8</th>\n",
       "      <td>9</td>\n",
       "      <td>Saint-Raphaël</td>\n",
       "      <td>Provence-Alpes-Côte-D’Azur</td>\n",
       "      <td>24160</td>\n",
       "      <td>91.277778</td>\n",
       "      <td>84.333333</td>\n",
       "      <td>74.833333</td>\n",
       "      <td>81.611111</td>\n",
       "      <td>83.944444</td>\n",
       "      <td>97.722222</td>\n",
       "      <td>126.277778</td>\n",
       "      <td>131.555556</td>\n",
       "      <td>102.555556</td>\n",
       "      <td>86.222222</td>\n",
       "      <td>85.444444</td>\n",
       "      <td>88.166667</td>\n",
       "    </tr>\n",
       "    <tr>\n",
       "      <th>9</th>\n",
       "      <td>10</td>\n",
       "      <td>La Baule-Escoublac</td>\n",
       "      <td>Pays de La Loire</td>\n",
       "      <td>44500</td>\n",
       "      <td>77.833333</td>\n",
       "      <td>89.944444</td>\n",
       "      <td>88.000000</td>\n",
       "      <td>91.611111</td>\n",
       "      <td>98.222222</td>\n",
       "      <td>85.333333</td>\n",
       "      <td>101.388889</td>\n",
       "      <td>102.611111</td>\n",
       "      <td>87.388889</td>\n",
       "      <td>80.555556</td>\n",
       "      <td>83.944444</td>\n",
       "      <td>90.666667</td>\n",
       "    </tr>\n",
       "  </tbody>\n",
       "</table>\n",
       "</div>"
      ],
      "text/plain": [
       "   Classement                Ville                      Région  Code Postal  \\\n",
       "0           1                 Agde                   Occitanie        34300   \n",
       "1           2  Chamonix-Mont-Blanc        Auvergne-Rhône-Alpes        74400   \n",
       "2           3               Carnac                    Bretagne        56340   \n",
       "3           4      Argelès-sur-Mer                   Occitanie        66700   \n",
       "4           5             Quiberon                    Bretagne        56170   \n",
       "5           6          Le Lavandou  Provence-Alpes-Côte-D’Azur        83980   \n",
       "6           7      La Grande-Motte                   Occitanie        34280   \n",
       "7           8           Ramatuelle  Provence-Alpes-Côte-D’Azur        83350   \n",
       "8           9        Saint-Raphaël  Provence-Alpes-Côte-D’Azur        24160   \n",
       "9          10   La Baule-Escoublac            Pays de La Loire        44500   \n",
       "\n",
       "      prix_01     prix_02     prix_03     prix_04     prix_05     prix_06  \\\n",
       "0   57.000000   60.777778   52.944444   70.111111   74.555556   72.722222   \n",
       "1  115.555556  159.000000  113.388889  121.666667  100.888889  107.555556   \n",
       "2   85.111111   74.944444   72.555556   79.500000   81.722222   93.333333   \n",
       "3   62.000000   67.555556   74.277778   77.555556   87.222222   76.222222   \n",
       "4   80.666667   94.777778   88.944444   93.611111   94.388889   94.277778   \n",
       "5   78.833333   76.500000   76.333333   87.611111   88.111111   95.777778   \n",
       "6   51.777778   66.777778   55.333333   73.555556   77.666667   69.833333   \n",
       "7   79.166667   89.666667   80.944444  117.777778  143.666667  147.222222   \n",
       "8   91.277778   84.333333   74.833333   81.611111   83.944444   97.722222   \n",
       "9   77.833333   89.944444   88.000000   91.611111   98.222222   85.333333   \n",
       "\n",
       "      prix_07     prix_08     prix_09     prix_10     prix_11     prix_12  \n",
       "0  126.666667  131.222222   76.166667   62.333333   59.777778   62.277778  \n",
       "1  120.277778  133.611111   96.111111  116.722222  121.333333  124.444444  \n",
       "2  108.111111  128.722222   89.444444   82.722222   73.111111   74.555556  \n",
       "3  110.666667  113.222222   72.111111   71.388889   77.222222   77.222222  \n",
       "4  111.500000  129.222222   87.944444   92.222222   87.500000   86.166667  \n",
       "5  134.888889  152.888889   94.388889   87.888889   75.555556   75.611111  \n",
       "6   86.777778   86.444444   84.000000   78.777778   78.000000   77.833333  \n",
       "7  176.222222  211.000000  141.111111  112.833333  102.722222  116.944444  \n",
       "8  126.277778  131.555556  102.555556   86.222222   85.444444   88.166667  \n",
       "9  101.388889  102.611111   87.388889   80.555556   83.944444   90.666667  "
      ]
     },
     "execution_count": 16,
     "metadata": {},
     "output_type": "execute_result"
    }
   ],
   "source": [
    "villes"
   ]
  },
  {
   "cell_type": "markdown",
   "id": "2bb9a666",
   "metadata": {},
   "source": [
    "# Prix moyen m^2 logements\n",
    "https://www.efficity.com/prix-immobilier-m2/"
   ]
  },
  {
   "cell_type": "code",
   "execution_count": 17,
   "id": "85e1a68b",
   "metadata": {},
   "outputs": [],
   "source": [
    "# Création colonne Ville2 pour utilisation des noms des villes dans l'url\n",
    "villes['Ville2']= villes['Ville'].apply(lambda x: x.lower().replace(\"è\",'e').replace(\"ë\",'e').replace(\" \",\"-\"))"
   ]
  },
  {
   "cell_type": "code",
   "execution_count": 18,
   "id": "1d5a44e0",
   "metadata": {},
   "outputs": [
    {
     "data": {
      "text/html": [
       "<div>\n",
       "<style scoped>\n",
       "    .dataframe tbody tr th:only-of-type {\n",
       "        vertical-align: middle;\n",
       "    }\n",
       "\n",
       "    .dataframe tbody tr th {\n",
       "        vertical-align: top;\n",
       "    }\n",
       "\n",
       "    .dataframe thead th {\n",
       "        text-align: right;\n",
       "    }\n",
       "</style>\n",
       "<table border=\"1\" class=\"dataframe\">\n",
       "  <thead>\n",
       "    <tr style=\"text-align: right;\">\n",
       "      <th></th>\n",
       "      <th>Classement</th>\n",
       "      <th>Ville</th>\n",
       "      <th>Région</th>\n",
       "      <th>Code Postal</th>\n",
       "      <th>prix_01</th>\n",
       "      <th>prix_02</th>\n",
       "      <th>prix_03</th>\n",
       "      <th>prix_04</th>\n",
       "      <th>prix_05</th>\n",
       "      <th>prix_06</th>\n",
       "      <th>prix_07</th>\n",
       "      <th>prix_08</th>\n",
       "      <th>prix_09</th>\n",
       "      <th>prix_10</th>\n",
       "      <th>prix_11</th>\n",
       "      <th>prix_12</th>\n",
       "      <th>Ville2</th>\n",
       "    </tr>\n",
       "  </thead>\n",
       "  <tbody>\n",
       "    <tr>\n",
       "      <th>0</th>\n",
       "      <td>1</td>\n",
       "      <td>Agde</td>\n",
       "      <td>Occitanie</td>\n",
       "      <td>34300</td>\n",
       "      <td>57.000000</td>\n",
       "      <td>60.777778</td>\n",
       "      <td>52.944444</td>\n",
       "      <td>70.111111</td>\n",
       "      <td>74.555556</td>\n",
       "      <td>72.722222</td>\n",
       "      <td>126.666667</td>\n",
       "      <td>131.222222</td>\n",
       "      <td>76.166667</td>\n",
       "      <td>62.333333</td>\n",
       "      <td>59.777778</td>\n",
       "      <td>62.277778</td>\n",
       "      <td>agde</td>\n",
       "    </tr>\n",
       "    <tr>\n",
       "      <th>1</th>\n",
       "      <td>2</td>\n",
       "      <td>Chamonix-Mont-Blanc</td>\n",
       "      <td>Auvergne-Rhône-Alpes</td>\n",
       "      <td>74400</td>\n",
       "      <td>115.555556</td>\n",
       "      <td>159.000000</td>\n",
       "      <td>113.388889</td>\n",
       "      <td>121.666667</td>\n",
       "      <td>100.888889</td>\n",
       "      <td>107.555556</td>\n",
       "      <td>120.277778</td>\n",
       "      <td>133.611111</td>\n",
       "      <td>96.111111</td>\n",
       "      <td>116.722222</td>\n",
       "      <td>121.333333</td>\n",
       "      <td>124.444444</td>\n",
       "      <td>chamonix-mont-blanc</td>\n",
       "    </tr>\n",
       "    <tr>\n",
       "      <th>2</th>\n",
       "      <td>3</td>\n",
       "      <td>Carnac</td>\n",
       "      <td>Bretagne</td>\n",
       "      <td>56340</td>\n",
       "      <td>85.111111</td>\n",
       "      <td>74.944444</td>\n",
       "      <td>72.555556</td>\n",
       "      <td>79.500000</td>\n",
       "      <td>81.722222</td>\n",
       "      <td>93.333333</td>\n",
       "      <td>108.111111</td>\n",
       "      <td>128.722222</td>\n",
       "      <td>89.444444</td>\n",
       "      <td>82.722222</td>\n",
       "      <td>73.111111</td>\n",
       "      <td>74.555556</td>\n",
       "      <td>carnac</td>\n",
       "    </tr>\n",
       "    <tr>\n",
       "      <th>3</th>\n",
       "      <td>4</td>\n",
       "      <td>Argelès-sur-Mer</td>\n",
       "      <td>Occitanie</td>\n",
       "      <td>66700</td>\n",
       "      <td>62.000000</td>\n",
       "      <td>67.555556</td>\n",
       "      <td>74.277778</td>\n",
       "      <td>77.555556</td>\n",
       "      <td>87.222222</td>\n",
       "      <td>76.222222</td>\n",
       "      <td>110.666667</td>\n",
       "      <td>113.222222</td>\n",
       "      <td>72.111111</td>\n",
       "      <td>71.388889</td>\n",
       "      <td>77.222222</td>\n",
       "      <td>77.222222</td>\n",
       "      <td>argeles-sur-mer</td>\n",
       "    </tr>\n",
       "    <tr>\n",
       "      <th>4</th>\n",
       "      <td>5</td>\n",
       "      <td>Quiberon</td>\n",
       "      <td>Bretagne</td>\n",
       "      <td>56170</td>\n",
       "      <td>80.666667</td>\n",
       "      <td>94.777778</td>\n",
       "      <td>88.944444</td>\n",
       "      <td>93.611111</td>\n",
       "      <td>94.388889</td>\n",
       "      <td>94.277778</td>\n",
       "      <td>111.500000</td>\n",
       "      <td>129.222222</td>\n",
       "      <td>87.944444</td>\n",
       "      <td>92.222222</td>\n",
       "      <td>87.500000</td>\n",
       "      <td>86.166667</td>\n",
       "      <td>quiberon</td>\n",
       "    </tr>\n",
       "    <tr>\n",
       "      <th>5</th>\n",
       "      <td>6</td>\n",
       "      <td>Le Lavandou</td>\n",
       "      <td>Provence-Alpes-Côte-D’Azur</td>\n",
       "      <td>83980</td>\n",
       "      <td>78.833333</td>\n",
       "      <td>76.500000</td>\n",
       "      <td>76.333333</td>\n",
       "      <td>87.611111</td>\n",
       "      <td>88.111111</td>\n",
       "      <td>95.777778</td>\n",
       "      <td>134.888889</td>\n",
       "      <td>152.888889</td>\n",
       "      <td>94.388889</td>\n",
       "      <td>87.888889</td>\n",
       "      <td>75.555556</td>\n",
       "      <td>75.611111</td>\n",
       "      <td>le-lavandou</td>\n",
       "    </tr>\n",
       "    <tr>\n",
       "      <th>6</th>\n",
       "      <td>7</td>\n",
       "      <td>La Grande-Motte</td>\n",
       "      <td>Occitanie</td>\n",
       "      <td>34280</td>\n",
       "      <td>51.777778</td>\n",
       "      <td>66.777778</td>\n",
       "      <td>55.333333</td>\n",
       "      <td>73.555556</td>\n",
       "      <td>77.666667</td>\n",
       "      <td>69.833333</td>\n",
       "      <td>86.777778</td>\n",
       "      <td>86.444444</td>\n",
       "      <td>84.000000</td>\n",
       "      <td>78.777778</td>\n",
       "      <td>78.000000</td>\n",
       "      <td>77.833333</td>\n",
       "      <td>la-grande-motte</td>\n",
       "    </tr>\n",
       "    <tr>\n",
       "      <th>7</th>\n",
       "      <td>8</td>\n",
       "      <td>Ramatuelle</td>\n",
       "      <td>Provence-Alpes-Côte-D’Azur</td>\n",
       "      <td>83350</td>\n",
       "      <td>79.166667</td>\n",
       "      <td>89.666667</td>\n",
       "      <td>80.944444</td>\n",
       "      <td>117.777778</td>\n",
       "      <td>143.666667</td>\n",
       "      <td>147.222222</td>\n",
       "      <td>176.222222</td>\n",
       "      <td>211.000000</td>\n",
       "      <td>141.111111</td>\n",
       "      <td>112.833333</td>\n",
       "      <td>102.722222</td>\n",
       "      <td>116.944444</td>\n",
       "      <td>ramatuelle</td>\n",
       "    </tr>\n",
       "    <tr>\n",
       "      <th>8</th>\n",
       "      <td>9</td>\n",
       "      <td>Saint-Raphaël</td>\n",
       "      <td>Provence-Alpes-Côte-D’Azur</td>\n",
       "      <td>24160</td>\n",
       "      <td>91.277778</td>\n",
       "      <td>84.333333</td>\n",
       "      <td>74.833333</td>\n",
       "      <td>81.611111</td>\n",
       "      <td>83.944444</td>\n",
       "      <td>97.722222</td>\n",
       "      <td>126.277778</td>\n",
       "      <td>131.555556</td>\n",
       "      <td>102.555556</td>\n",
       "      <td>86.222222</td>\n",
       "      <td>85.444444</td>\n",
       "      <td>88.166667</td>\n",
       "      <td>saint-raphael</td>\n",
       "    </tr>\n",
       "    <tr>\n",
       "      <th>9</th>\n",
       "      <td>10</td>\n",
       "      <td>La Baule-Escoublac</td>\n",
       "      <td>Pays de La Loire</td>\n",
       "      <td>44500</td>\n",
       "      <td>77.833333</td>\n",
       "      <td>89.944444</td>\n",
       "      <td>88.000000</td>\n",
       "      <td>91.611111</td>\n",
       "      <td>98.222222</td>\n",
       "      <td>85.333333</td>\n",
       "      <td>101.388889</td>\n",
       "      <td>102.611111</td>\n",
       "      <td>87.388889</td>\n",
       "      <td>80.555556</td>\n",
       "      <td>83.944444</td>\n",
       "      <td>90.666667</td>\n",
       "      <td>la-baule-escoublac</td>\n",
       "    </tr>\n",
       "  </tbody>\n",
       "</table>\n",
       "</div>"
      ],
      "text/plain": [
       "   Classement                Ville                      Région  Code Postal  \\\n",
       "0           1                 Agde                   Occitanie        34300   \n",
       "1           2  Chamonix-Mont-Blanc        Auvergne-Rhône-Alpes        74400   \n",
       "2           3               Carnac                    Bretagne        56340   \n",
       "3           4      Argelès-sur-Mer                   Occitanie        66700   \n",
       "4           5             Quiberon                    Bretagne        56170   \n",
       "5           6          Le Lavandou  Provence-Alpes-Côte-D’Azur        83980   \n",
       "6           7      La Grande-Motte                   Occitanie        34280   \n",
       "7           8           Ramatuelle  Provence-Alpes-Côte-D’Azur        83350   \n",
       "8           9        Saint-Raphaël  Provence-Alpes-Côte-D’Azur        24160   \n",
       "9          10   La Baule-Escoublac            Pays de La Loire        44500   \n",
       "\n",
       "      prix_01     prix_02     prix_03     prix_04     prix_05     prix_06  \\\n",
       "0   57.000000   60.777778   52.944444   70.111111   74.555556   72.722222   \n",
       "1  115.555556  159.000000  113.388889  121.666667  100.888889  107.555556   \n",
       "2   85.111111   74.944444   72.555556   79.500000   81.722222   93.333333   \n",
       "3   62.000000   67.555556   74.277778   77.555556   87.222222   76.222222   \n",
       "4   80.666667   94.777778   88.944444   93.611111   94.388889   94.277778   \n",
       "5   78.833333   76.500000   76.333333   87.611111   88.111111   95.777778   \n",
       "6   51.777778   66.777778   55.333333   73.555556   77.666667   69.833333   \n",
       "7   79.166667   89.666667   80.944444  117.777778  143.666667  147.222222   \n",
       "8   91.277778   84.333333   74.833333   81.611111   83.944444   97.722222   \n",
       "9   77.833333   89.944444   88.000000   91.611111   98.222222   85.333333   \n",
       "\n",
       "      prix_07     prix_08     prix_09     prix_10     prix_11     prix_12  \\\n",
       "0  126.666667  131.222222   76.166667   62.333333   59.777778   62.277778   \n",
       "1  120.277778  133.611111   96.111111  116.722222  121.333333  124.444444   \n",
       "2  108.111111  128.722222   89.444444   82.722222   73.111111   74.555556   \n",
       "3  110.666667  113.222222   72.111111   71.388889   77.222222   77.222222   \n",
       "4  111.500000  129.222222   87.944444   92.222222   87.500000   86.166667   \n",
       "5  134.888889  152.888889   94.388889   87.888889   75.555556   75.611111   \n",
       "6   86.777778   86.444444   84.000000   78.777778   78.000000   77.833333   \n",
       "7  176.222222  211.000000  141.111111  112.833333  102.722222  116.944444   \n",
       "8  126.277778  131.555556  102.555556   86.222222   85.444444   88.166667   \n",
       "9  101.388889  102.611111   87.388889   80.555556   83.944444   90.666667   \n",
       "\n",
       "                Ville2  \n",
       "0                 agde  \n",
       "1  chamonix-mont-blanc  \n",
       "2               carnac  \n",
       "3      argeles-sur-mer  \n",
       "4             quiberon  \n",
       "5          le-lavandou  \n",
       "6      la-grande-motte  \n",
       "7           ramatuelle  \n",
       "8        saint-raphael  \n",
       "9   la-baule-escoublac  "
      ]
     },
     "execution_count": 18,
     "metadata": {},
     "output_type": "execute_result"
    }
   ],
   "source": [
    "villes"
   ]
  },
  {
   "cell_type": "code",
   "execution_count": 19,
   "id": "09117117",
   "metadata": {},
   "outputs": [],
   "source": [
    "villes[\"prix_moyen\"]=\"\"\n",
    "\n",
    "villes[\"evolution_3_mois\"]=\"\"\n",
    "villes[\"evolution_6_mois\"]=\"\"\n",
    "villes[\"evolution_12_mois\"]=\"\""
   ]
  },
  {
   "cell_type": "code",
   "execution_count": 20,
   "id": "1af14ceb",
   "metadata": {},
   "outputs": [
    {
     "name": "stderr",
     "output_type": "stream",
     "text": [
      "C:\\Users\\valan\\AppData\\Local\\Temp\\ipykernel_31304\\3683500950.py:22: SettingWithCopyWarning: \n",
      "A value is trying to be set on a copy of a slice from a DataFrame\n",
      "\n",
      "See the caveats in the documentation: https://pandas.pydata.org/pandas-docs/stable/user_guide/indexing.html#returning-a-view-versus-a-copy\n",
      "  villes[\"prix_moyen\"][i]=driver.find_element(\"xpath\",'/html/body/div[4]/div[1]/div[3]/div[1]/div[1]/div/p[2]/strong').text\n",
      "C:\\Users\\valan\\AppData\\Local\\Temp\\ipykernel_31304\\3683500950.py:33: SettingWithCopyWarning: \n",
      "A value is trying to be set on a copy of a slice from a DataFrame\n",
      "\n",
      "See the caveats in the documentation: https://pandas.pydata.org/pandas-docs/stable/user_guide/indexing.html#returning-a-view-versus-a-copy\n",
      "  villes[\"evolution_3_mois\"][i]=driver.find_element(\"xpath\",'/html/body/div[4]/div[1]/div[3]/div[1]/div[4]/div/p[1]/strong').text\n",
      "C:\\Users\\valan\\AppData\\Local\\Temp\\ipykernel_31304\\3683500950.py:34: SettingWithCopyWarning: \n",
      "A value is trying to be set on a copy of a slice from a DataFrame\n",
      "\n",
      "See the caveats in the documentation: https://pandas.pydata.org/pandas-docs/stable/user_guide/indexing.html#returning-a-view-versus-a-copy\n",
      "  villes[\"evolution_6_mois\"][i]=driver.find_element(\"xpath\",'/html/body/div[4]/div[1]/div[3]/div[1]/div[4]/div/p[2]/strong').text\n",
      "C:\\Users\\valan\\AppData\\Local\\Temp\\ipykernel_31304\\3683500950.py:35: SettingWithCopyWarning: \n",
      "A value is trying to be set on a copy of a slice from a DataFrame\n",
      "\n",
      "See the caveats in the documentation: https://pandas.pydata.org/pandas-docs/stable/user_guide/indexing.html#returning-a-view-versus-a-copy\n",
      "  villes[\"evolution_12_mois\"][i]=driver.find_element(\"xpath\",'/html/body/div[4]/div[1]/div[3]/div[1]/div[4]/div/p[3]/strong').text\n",
      "C:\\Users\\valan\\AppData\\Local\\Temp\\ipykernel_31304\\3683500950.py:39: SettingWithCopyWarning: \n",
      "A value is trying to be set on a copy of a slice from a DataFrame\n",
      "\n",
      "See the caveats in the documentation: https://pandas.pydata.org/pandas-docs/stable/user_guide/indexing.html#returning-a-view-versus-a-copy\n",
      "  villes[\"evolution_3_mois\"][i]=\"NaN\"\n",
      "C:\\Users\\valan\\AppData\\Local\\Temp\\ipykernel_31304\\3683500950.py:40: SettingWithCopyWarning: \n",
      "A value is trying to be set on a copy of a slice from a DataFrame\n",
      "\n",
      "See the caveats in the documentation: https://pandas.pydata.org/pandas-docs/stable/user_guide/indexing.html#returning-a-view-versus-a-copy\n",
      "  villes[\"evolution_6_mois\"][i]=\"NaN\"\n",
      "C:\\Users\\valan\\AppData\\Local\\Temp\\ipykernel_31304\\3683500950.py:41: SettingWithCopyWarning: \n",
      "A value is trying to be set on a copy of a slice from a DataFrame\n",
      "\n",
      "See the caveats in the documentation: https://pandas.pydata.org/pandas-docs/stable/user_guide/indexing.html#returning-a-view-versus-a-copy\n",
      "  villes[\"evolution_12_mois\"][i]=\"NaN\"\n",
      "C:\\Users\\valan\\AppData\\Local\\Temp\\ipykernel_31304\\3683500950.py:28: SettingWithCopyWarning: \n",
      "A value is trying to be set on a copy of a slice from a DataFrame\n",
      "\n",
      "See the caveats in the documentation: https://pandas.pydata.org/pandas-docs/stable/user_guide/indexing.html#returning-a-view-versus-a-copy\n",
      "  villes[\"prix_moyen\"][i]=price\n"
     ]
    }
   ],
   "source": [
    "options = Options()\n",
    "options.add_argument(\"--headless\") #ne pas afficher la fenêtre\n",
    "options.add_argument(\"--disable-notifications\") #enlever notifications pop-up\n",
    "driver = webdriver.Chrome(r'C:\\Users\\valan\\Downloads\\chromedriver.exe', options = options)\n",
    "\n",
    "\n",
    "for i in range(len(villes)):\n",
    "    ville = villes['Ville2'][i]\n",
    "    CP = villes['Code Postal'][i]\n",
    "\n",
    "    url2 = f\"https://www.efficity.com/prix-immobilier-m2/v_{ville}_{CP}/\"\n",
    "\n",
    "    driver.get(url2)\n",
    "\n",
    "    time.sleep(randint(2,5))\n",
    "    \n",
    "    #print(\"Starting :\", ville)\n",
    "    \n",
    "    # PRIX MOYEN\n",
    "    try: # si toutes les infos\n",
    "        #print(\"Trying prix 1\")\n",
    "        villes[\"prix_moyen\"][i]=driver.find_element(\"xpath\",'/html/body/div[4]/div[1]/div[3]/div[1]/div[1]/div/p[2]/strong').text\n",
    "    \n",
    "    except:\n",
    "        #print(\"Trying prix 2\")\n",
    "        price=driver.find_element(\"xpath\",'/html/body/div[4]/div[1]/div[3]/div[1]/div[2]/div/p[2]/strong').text\n",
    "        if (price)!=\"\":\n",
    "            villes[\"prix_moyen\"][i]=price\n",
    "            \n",
    "    # EVOLUTION PRIX\n",
    "    try:\n",
    "        #print(\"Trying evolution 1\")\n",
    "        villes[\"evolution_3_mois\"][i]=driver.find_element(\"xpath\",'/html/body/div[4]/div[1]/div[3]/div[1]/div[4]/div/p[1]/strong').text\n",
    "        villes[\"evolution_6_mois\"][i]=driver.find_element(\"xpath\",'/html/body/div[4]/div[1]/div[3]/div[1]/div[4]/div/p[2]/strong').text\n",
    "        villes[\"evolution_12_mois\"][i]=driver.find_element(\"xpath\",'/html/body/div[4]/div[1]/div[3]/div[1]/div[4]/div/p[3]/strong').text\n",
    "    except:\n",
    "        #try: # si pas d'infos sur l'évolution sur x mois & les prix moyens par nombre de pièces\n",
    "        #print(\"Trying evolution 2\")\n",
    "        villes[\"evolution_3_mois\"][i]=\"NaN\"\n",
    "        villes[\"evolution_6_mois\"][i]=\"NaN\"\n",
    "        villes[\"evolution_12_mois\"][i]=\"NaN\"\n",
    "                \n",
    "    #print(\"Done :\", ville)#, price)\n",
    "    \n",
    "    time.sleep(randint(2,5))\n",
    "    \n",
    "driver.quit()"
   ]
  },
  {
   "cell_type": "code",
   "execution_count": 21,
   "id": "d23cffbe",
   "metadata": {},
   "outputs": [
    {
     "data": {
      "text/html": [
       "<div>\n",
       "<style scoped>\n",
       "    .dataframe tbody tr th:only-of-type {\n",
       "        vertical-align: middle;\n",
       "    }\n",
       "\n",
       "    .dataframe tbody tr th {\n",
       "        vertical-align: top;\n",
       "    }\n",
       "\n",
       "    .dataframe thead th {\n",
       "        text-align: right;\n",
       "    }\n",
       "</style>\n",
       "<table border=\"1\" class=\"dataframe\">\n",
       "  <thead>\n",
       "    <tr style=\"text-align: right;\">\n",
       "      <th></th>\n",
       "      <th>Classement</th>\n",
       "      <th>Ville</th>\n",
       "      <th>Région</th>\n",
       "      <th>Code Postal</th>\n",
       "      <th>prix_01</th>\n",
       "      <th>prix_02</th>\n",
       "      <th>prix_03</th>\n",
       "      <th>prix_04</th>\n",
       "      <th>prix_05</th>\n",
       "      <th>prix_06</th>\n",
       "      <th>...</th>\n",
       "      <th>prix_08</th>\n",
       "      <th>prix_09</th>\n",
       "      <th>prix_10</th>\n",
       "      <th>prix_11</th>\n",
       "      <th>prix_12</th>\n",
       "      <th>Ville2</th>\n",
       "      <th>prix_moyen</th>\n",
       "      <th>evolution_3_mois</th>\n",
       "      <th>evolution_6_mois</th>\n",
       "      <th>evolution_12_mois</th>\n",
       "    </tr>\n",
       "  </thead>\n",
       "  <tbody>\n",
       "    <tr>\n",
       "      <th>0</th>\n",
       "      <td>1</td>\n",
       "      <td>Agde</td>\n",
       "      <td>Occitanie</td>\n",
       "      <td>34300</td>\n",
       "      <td>57.000000</td>\n",
       "      <td>60.777778</td>\n",
       "      <td>52.944444</td>\n",
       "      <td>70.111111</td>\n",
       "      <td>74.555556</td>\n",
       "      <td>72.722222</td>\n",
       "      <td>...</td>\n",
       "      <td>131.222222</td>\n",
       "      <td>76.166667</td>\n",
       "      <td>62.333333</td>\n",
       "      <td>59.777778</td>\n",
       "      <td>62.277778</td>\n",
       "      <td>agde</td>\n",
       "      <td>3 080 €</td>\n",
       "      <td>+0.9%</td>\n",
       "      <td>+2.3%</td>\n",
       "      <td>+4.1%</td>\n",
       "    </tr>\n",
       "    <tr>\n",
       "      <th>1</th>\n",
       "      <td>2</td>\n",
       "      <td>Chamonix-Mont-Blanc</td>\n",
       "      <td>Auvergne-Rhône-Alpes</td>\n",
       "      <td>74400</td>\n",
       "      <td>115.555556</td>\n",
       "      <td>159.000000</td>\n",
       "      <td>113.388889</td>\n",
       "      <td>121.666667</td>\n",
       "      <td>100.888889</td>\n",
       "      <td>107.555556</td>\n",
       "      <td>...</td>\n",
       "      <td>133.611111</td>\n",
       "      <td>96.111111</td>\n",
       "      <td>116.722222</td>\n",
       "      <td>121.333333</td>\n",
       "      <td>124.444444</td>\n",
       "      <td>chamonix-mont-blanc</td>\n",
       "      <td>8 710 €</td>\n",
       "      <td>NaN</td>\n",
       "      <td>NaN</td>\n",
       "      <td>NaN</td>\n",
       "    </tr>\n",
       "    <tr>\n",
       "      <th>2</th>\n",
       "      <td>3</td>\n",
       "      <td>Carnac</td>\n",
       "      <td>Bretagne</td>\n",
       "      <td>56340</td>\n",
       "      <td>85.111111</td>\n",
       "      <td>74.944444</td>\n",
       "      <td>72.555556</td>\n",
       "      <td>79.500000</td>\n",
       "      <td>81.722222</td>\n",
       "      <td>93.333333</td>\n",
       "      <td>...</td>\n",
       "      <td>128.722222</td>\n",
       "      <td>89.444444</td>\n",
       "      <td>82.722222</td>\n",
       "      <td>73.111111</td>\n",
       "      <td>74.555556</td>\n",
       "      <td>carnac</td>\n",
       "      <td>5 350 €</td>\n",
       "      <td>+1.1%</td>\n",
       "      <td>+1.7%</td>\n",
       "      <td>+2.9%</td>\n",
       "    </tr>\n",
       "    <tr>\n",
       "      <th>3</th>\n",
       "      <td>4</td>\n",
       "      <td>Argelès-sur-Mer</td>\n",
       "      <td>Occitanie</td>\n",
       "      <td>66700</td>\n",
       "      <td>62.000000</td>\n",
       "      <td>67.555556</td>\n",
       "      <td>74.277778</td>\n",
       "      <td>77.555556</td>\n",
       "      <td>87.222222</td>\n",
       "      <td>76.222222</td>\n",
       "      <td>...</td>\n",
       "      <td>113.222222</td>\n",
       "      <td>72.111111</td>\n",
       "      <td>71.388889</td>\n",
       "      <td>77.222222</td>\n",
       "      <td>77.222222</td>\n",
       "      <td>argeles-sur-mer</td>\n",
       "      <td>3 320 €</td>\n",
       "      <td>NaN</td>\n",
       "      <td>NaN</td>\n",
       "      <td>NaN</td>\n",
       "    </tr>\n",
       "    <tr>\n",
       "      <th>4</th>\n",
       "      <td>5</td>\n",
       "      <td>Quiberon</td>\n",
       "      <td>Bretagne</td>\n",
       "      <td>56170</td>\n",
       "      <td>80.666667</td>\n",
       "      <td>94.777778</td>\n",
       "      <td>88.944444</td>\n",
       "      <td>93.611111</td>\n",
       "      <td>94.388889</td>\n",
       "      <td>94.277778</td>\n",
       "      <td>...</td>\n",
       "      <td>129.222222</td>\n",
       "      <td>87.944444</td>\n",
       "      <td>92.222222</td>\n",
       "      <td>87.500000</td>\n",
       "      <td>86.166667</td>\n",
       "      <td>quiberon</td>\n",
       "      <td>5 610 €</td>\n",
       "      <td>NaN</td>\n",
       "      <td>NaN</td>\n",
       "      <td>NaN</td>\n",
       "    </tr>\n",
       "    <tr>\n",
       "      <th>5</th>\n",
       "      <td>6</td>\n",
       "      <td>Le Lavandou</td>\n",
       "      <td>Provence-Alpes-Côte-D’Azur</td>\n",
       "      <td>83980</td>\n",
       "      <td>78.833333</td>\n",
       "      <td>76.500000</td>\n",
       "      <td>76.333333</td>\n",
       "      <td>87.611111</td>\n",
       "      <td>88.111111</td>\n",
       "      <td>95.777778</td>\n",
       "      <td>...</td>\n",
       "      <td>152.888889</td>\n",
       "      <td>94.388889</td>\n",
       "      <td>87.888889</td>\n",
       "      <td>75.555556</td>\n",
       "      <td>75.611111</td>\n",
       "      <td>le-lavandou</td>\n",
       "      <td>5 410 €</td>\n",
       "      <td>NaN</td>\n",
       "      <td>NaN</td>\n",
       "      <td>NaN</td>\n",
       "    </tr>\n",
       "    <tr>\n",
       "      <th>6</th>\n",
       "      <td>7</td>\n",
       "      <td>La Grande-Motte</td>\n",
       "      <td>Occitanie</td>\n",
       "      <td>34280</td>\n",
       "      <td>51.777778</td>\n",
       "      <td>66.777778</td>\n",
       "      <td>55.333333</td>\n",
       "      <td>73.555556</td>\n",
       "      <td>77.666667</td>\n",
       "      <td>69.833333</td>\n",
       "      <td>...</td>\n",
       "      <td>86.444444</td>\n",
       "      <td>84.000000</td>\n",
       "      <td>78.777778</td>\n",
       "      <td>78.000000</td>\n",
       "      <td>77.833333</td>\n",
       "      <td>la-grande-motte</td>\n",
       "      <td>4 460 €</td>\n",
       "      <td>NaN</td>\n",
       "      <td>NaN</td>\n",
       "      <td>NaN</td>\n",
       "    </tr>\n",
       "    <tr>\n",
       "      <th>7</th>\n",
       "      <td>8</td>\n",
       "      <td>Ramatuelle</td>\n",
       "      <td>Provence-Alpes-Côte-D’Azur</td>\n",
       "      <td>83350</td>\n",
       "      <td>79.166667</td>\n",
       "      <td>89.666667</td>\n",
       "      <td>80.944444</td>\n",
       "      <td>117.777778</td>\n",
       "      <td>143.666667</td>\n",
       "      <td>147.222222</td>\n",
       "      <td>...</td>\n",
       "      <td>211.000000</td>\n",
       "      <td>141.111111</td>\n",
       "      <td>112.833333</td>\n",
       "      <td>102.722222</td>\n",
       "      <td>116.944444</td>\n",
       "      <td>ramatuelle</td>\n",
       "      <td>6 050 €</td>\n",
       "      <td>-0.2%</td>\n",
       "      <td>-0.6%</td>\n",
       "      <td>-1%</td>\n",
       "    </tr>\n",
       "    <tr>\n",
       "      <th>8</th>\n",
       "      <td>9</td>\n",
       "      <td>Saint-Raphaël</td>\n",
       "      <td>Provence-Alpes-Côte-D’Azur</td>\n",
       "      <td>24160</td>\n",
       "      <td>91.277778</td>\n",
       "      <td>84.333333</td>\n",
       "      <td>74.833333</td>\n",
       "      <td>81.611111</td>\n",
       "      <td>83.944444</td>\n",
       "      <td>97.722222</td>\n",
       "      <td>...</td>\n",
       "      <td>131.555556</td>\n",
       "      <td>102.555556</td>\n",
       "      <td>86.222222</td>\n",
       "      <td>85.444444</td>\n",
       "      <td>88.166667</td>\n",
       "      <td>saint-raphael</td>\n",
       "      <td>1 170 €</td>\n",
       "      <td>+1.8%</td>\n",
       "      <td>+2.8%</td>\n",
       "      <td>+2.5%</td>\n",
       "    </tr>\n",
       "    <tr>\n",
       "      <th>9</th>\n",
       "      <td>10</td>\n",
       "      <td>La Baule-Escoublac</td>\n",
       "      <td>Pays de La Loire</td>\n",
       "      <td>44500</td>\n",
       "      <td>77.833333</td>\n",
       "      <td>89.944444</td>\n",
       "      <td>88.000000</td>\n",
       "      <td>91.611111</td>\n",
       "      <td>98.222222</td>\n",
       "      <td>85.333333</td>\n",
       "      <td>...</td>\n",
       "      <td>102.611111</td>\n",
       "      <td>87.388889</td>\n",
       "      <td>80.555556</td>\n",
       "      <td>83.944444</td>\n",
       "      <td>90.666667</td>\n",
       "      <td>la-baule-escoublac</td>\n",
       "      <td>6 090 €</td>\n",
       "      <td>+0.3%</td>\n",
       "      <td>+1%</td>\n",
       "      <td>+3.1%</td>\n",
       "    </tr>\n",
       "  </tbody>\n",
       "</table>\n",
       "<p>10 rows × 21 columns</p>\n",
       "</div>"
      ],
      "text/plain": [
       "   Classement                Ville                      Région  Code Postal  \\\n",
       "0           1                 Agde                   Occitanie        34300   \n",
       "1           2  Chamonix-Mont-Blanc        Auvergne-Rhône-Alpes        74400   \n",
       "2           3               Carnac                    Bretagne        56340   \n",
       "3           4      Argelès-sur-Mer                   Occitanie        66700   \n",
       "4           5             Quiberon                    Bretagne        56170   \n",
       "5           6          Le Lavandou  Provence-Alpes-Côte-D’Azur        83980   \n",
       "6           7      La Grande-Motte                   Occitanie        34280   \n",
       "7           8           Ramatuelle  Provence-Alpes-Côte-D’Azur        83350   \n",
       "8           9        Saint-Raphaël  Provence-Alpes-Côte-D’Azur        24160   \n",
       "9          10   La Baule-Escoublac            Pays de La Loire        44500   \n",
       "\n",
       "      prix_01     prix_02     prix_03     prix_04     prix_05     prix_06  \\\n",
       "0   57.000000   60.777778   52.944444   70.111111   74.555556   72.722222   \n",
       "1  115.555556  159.000000  113.388889  121.666667  100.888889  107.555556   \n",
       "2   85.111111   74.944444   72.555556   79.500000   81.722222   93.333333   \n",
       "3   62.000000   67.555556   74.277778   77.555556   87.222222   76.222222   \n",
       "4   80.666667   94.777778   88.944444   93.611111   94.388889   94.277778   \n",
       "5   78.833333   76.500000   76.333333   87.611111   88.111111   95.777778   \n",
       "6   51.777778   66.777778   55.333333   73.555556   77.666667   69.833333   \n",
       "7   79.166667   89.666667   80.944444  117.777778  143.666667  147.222222   \n",
       "8   91.277778   84.333333   74.833333   81.611111   83.944444   97.722222   \n",
       "9   77.833333   89.944444   88.000000   91.611111   98.222222   85.333333   \n",
       "\n",
       "   ...     prix_08     prix_09     prix_10     prix_11     prix_12  \\\n",
       "0  ...  131.222222   76.166667   62.333333   59.777778   62.277778   \n",
       "1  ...  133.611111   96.111111  116.722222  121.333333  124.444444   \n",
       "2  ...  128.722222   89.444444   82.722222   73.111111   74.555556   \n",
       "3  ...  113.222222   72.111111   71.388889   77.222222   77.222222   \n",
       "4  ...  129.222222   87.944444   92.222222   87.500000   86.166667   \n",
       "5  ...  152.888889   94.388889   87.888889   75.555556   75.611111   \n",
       "6  ...   86.444444   84.000000   78.777778   78.000000   77.833333   \n",
       "7  ...  211.000000  141.111111  112.833333  102.722222  116.944444   \n",
       "8  ...  131.555556  102.555556   86.222222   85.444444   88.166667   \n",
       "9  ...  102.611111   87.388889   80.555556   83.944444   90.666667   \n",
       "\n",
       "                Ville2 prix_moyen evolution_3_mois evolution_6_mois  \\\n",
       "0                 agde    3 080 €            +0.9%            +2.3%   \n",
       "1  chamonix-mont-blanc    8 710 €              NaN              NaN   \n",
       "2               carnac    5 350 €            +1.1%            +1.7%   \n",
       "3      argeles-sur-mer    3 320 €              NaN              NaN   \n",
       "4             quiberon    5 610 €              NaN              NaN   \n",
       "5          le-lavandou    5 410 €              NaN              NaN   \n",
       "6      la-grande-motte    4 460 €              NaN              NaN   \n",
       "7           ramatuelle    6 050 €            -0.2%            -0.6%   \n",
       "8        saint-raphael    1 170 €            +1.8%            +2.8%   \n",
       "9   la-baule-escoublac    6 090 €            +0.3%              +1%   \n",
       "\n",
       "  evolution_12_mois  \n",
       "0             +4.1%  \n",
       "1               NaN  \n",
       "2             +2.9%  \n",
       "3               NaN  \n",
       "4               NaN  \n",
       "5               NaN  \n",
       "6               NaN  \n",
       "7               -1%  \n",
       "8             +2.5%  \n",
       "9             +3.1%  \n",
       "\n",
       "[10 rows x 21 columns]"
      ]
     },
     "execution_count": 21,
     "metadata": {},
     "output_type": "execute_result"
    }
   ],
   "source": [
    "villes"
   ]
  },
  {
   "cell_type": "markdown",
   "id": "94f4793a",
   "metadata": {},
   "source": [
    "# visus"
   ]
  },
  {
   "cell_type": "code",
   "execution_count": 11,
   "id": "2f3f2c48",
   "metadata": {},
   "outputs": [],
   "source": [
    "import numpy as np\n",
    "import pandas as pd\n",
    "from pandas_profiling import ProfileReport\n",
    "import plotly.express as px\n",
    "from tqdm import tqdm\n",
    "import numpy as np"
   ]
  },
  {
   "cell_type": "code",
   "execution_count": 22,
   "id": "3f9e8fa4",
   "metadata": {},
   "outputs": [
    {
     "data": {
      "text/html": [
       "<div>\n",
       "<style scoped>\n",
       "    .dataframe tbody tr th:only-of-type {\n",
       "        vertical-align: middle;\n",
       "    }\n",
       "\n",
       "    .dataframe tbody tr th {\n",
       "        vertical-align: top;\n",
       "    }\n",
       "\n",
       "    .dataframe thead th {\n",
       "        text-align: right;\n",
       "    }\n",
       "</style>\n",
       "<table border=\"1\" class=\"dataframe\">\n",
       "  <thead>\n",
       "    <tr style=\"text-align: right;\">\n",
       "      <th></th>\n",
       "      <th>Classement</th>\n",
       "      <th>Code Postal</th>\n",
       "      <th>prix_01</th>\n",
       "      <th>prix_02</th>\n",
       "      <th>prix_03</th>\n",
       "      <th>prix_04</th>\n",
       "      <th>prix_05</th>\n",
       "      <th>prix_06</th>\n",
       "      <th>prix_07</th>\n",
       "      <th>prix_08</th>\n",
       "      <th>prix_09</th>\n",
       "      <th>prix_10</th>\n",
       "      <th>prix_11</th>\n",
       "      <th>prix_12</th>\n",
       "    </tr>\n",
       "  </thead>\n",
       "  <tbody>\n",
       "    <tr>\n",
       "      <th>count</th>\n",
       "      <td>10.00000</td>\n",
       "      <td>10.00000</td>\n",
       "      <td>10.000000</td>\n",
       "      <td>10.000000</td>\n",
       "      <td>10.000000</td>\n",
       "      <td>10.000000</td>\n",
       "      <td>10.000000</td>\n",
       "      <td>10.000000</td>\n",
       "      <td>10.000000</td>\n",
       "      <td>10.000000</td>\n",
       "      <td>10.000000</td>\n",
       "      <td>10.000000</td>\n",
       "      <td>10.000000</td>\n",
       "      <td>10.000000</td>\n",
       "    </tr>\n",
       "    <tr>\n",
       "      <th>mean</th>\n",
       "      <td>5.50000</td>\n",
       "      <td>55818.00000</td>\n",
       "      <td>77.922222</td>\n",
       "      <td>86.427778</td>\n",
       "      <td>77.755556</td>\n",
       "      <td>89.461111</td>\n",
       "      <td>93.038889</td>\n",
       "      <td>94.000000</td>\n",
       "      <td>120.277778</td>\n",
       "      <td>132.050000</td>\n",
       "      <td>93.122222</td>\n",
       "      <td>87.166667</td>\n",
       "      <td>84.461111</td>\n",
       "      <td>87.388889</td>\n",
       "    </tr>\n",
       "    <tr>\n",
       "      <th>std</th>\n",
       "      <td>3.02765</td>\n",
       "      <td>21271.91722</td>\n",
       "      <td>18.351585</td>\n",
       "      <td>27.877365</td>\n",
       "      <td>17.250081</td>\n",
       "      <td>17.620369</td>\n",
       "      <td>19.721154</td>\n",
       "      <td>22.265637</td>\n",
       "      <td>24.075285</td>\n",
       "      <td>33.317995</td>\n",
       "      <td>19.113225</td>\n",
       "      <td>16.861353</td>\n",
       "      <td>17.045832</td>\n",
       "      <td>19.402565</td>\n",
       "    </tr>\n",
       "    <tr>\n",
       "      <th>min</th>\n",
       "      <td>1.00000</td>\n",
       "      <td>24160.00000</td>\n",
       "      <td>51.777778</td>\n",
       "      <td>60.777778</td>\n",
       "      <td>52.944444</td>\n",
       "      <td>70.111111</td>\n",
       "      <td>74.555556</td>\n",
       "      <td>69.833333</td>\n",
       "      <td>86.777778</td>\n",
       "      <td>86.444444</td>\n",
       "      <td>72.111111</td>\n",
       "      <td>62.333333</td>\n",
       "      <td>59.777778</td>\n",
       "      <td>62.277778</td>\n",
       "    </tr>\n",
       "    <tr>\n",
       "      <th>25%</th>\n",
       "      <td>3.25000</td>\n",
       "      <td>36850.00000</td>\n",
       "      <td>65.958333</td>\n",
       "      <td>69.402778</td>\n",
       "      <td>72.986111</td>\n",
       "      <td>78.041667</td>\n",
       "      <td>82.277778</td>\n",
       "      <td>78.500000</td>\n",
       "      <td>108.750000</td>\n",
       "      <td>117.097222</td>\n",
       "      <td>84.847222</td>\n",
       "      <td>79.222222</td>\n",
       "      <td>75.972222</td>\n",
       "      <td>76.013889</td>\n",
       "    </tr>\n",
       "    <tr>\n",
       "      <th>50%</th>\n",
       "      <td>5.50000</td>\n",
       "      <td>56255.00000</td>\n",
       "      <td>79.000000</td>\n",
       "      <td>80.416667</td>\n",
       "      <td>75.583333</td>\n",
       "      <td>84.611111</td>\n",
       "      <td>87.666667</td>\n",
       "      <td>93.805556</td>\n",
       "      <td>115.888889</td>\n",
       "      <td>130.222222</td>\n",
       "      <td>88.694444</td>\n",
       "      <td>84.472222</td>\n",
       "      <td>80.972222</td>\n",
       "      <td>82.000000</td>\n",
       "    </tr>\n",
       "    <tr>\n",
       "      <th>75%</th>\n",
       "      <td>7.75000</td>\n",
       "      <td>72475.00000</td>\n",
       "      <td>84.000000</td>\n",
       "      <td>89.875000</td>\n",
       "      <td>86.236111</td>\n",
       "      <td>93.111111</td>\n",
       "      <td>97.263889</td>\n",
       "      <td>97.236111</td>\n",
       "      <td>126.569444</td>\n",
       "      <td>133.097222</td>\n",
       "      <td>95.680556</td>\n",
       "      <td>91.138889</td>\n",
       "      <td>86.986111</td>\n",
       "      <td>90.041667</td>\n",
       "    </tr>\n",
       "    <tr>\n",
       "      <th>max</th>\n",
       "      <td>10.00000</td>\n",
       "      <td>83980.00000</td>\n",
       "      <td>115.555556</td>\n",
       "      <td>159.000000</td>\n",
       "      <td>113.388889</td>\n",
       "      <td>121.666667</td>\n",
       "      <td>143.666667</td>\n",
       "      <td>147.222222</td>\n",
       "      <td>176.222222</td>\n",
       "      <td>211.000000</td>\n",
       "      <td>141.111111</td>\n",
       "      <td>116.722222</td>\n",
       "      <td>121.333333</td>\n",
       "      <td>124.444444</td>\n",
       "    </tr>\n",
       "  </tbody>\n",
       "</table>\n",
       "</div>"
      ],
      "text/plain": [
       "       Classement  Code Postal     prix_01     prix_02     prix_03  \\\n",
       "count    10.00000     10.00000   10.000000   10.000000   10.000000   \n",
       "mean      5.50000  55818.00000   77.922222   86.427778   77.755556   \n",
       "std       3.02765  21271.91722   18.351585   27.877365   17.250081   \n",
       "min       1.00000  24160.00000   51.777778   60.777778   52.944444   \n",
       "25%       3.25000  36850.00000   65.958333   69.402778   72.986111   \n",
       "50%       5.50000  56255.00000   79.000000   80.416667   75.583333   \n",
       "75%       7.75000  72475.00000   84.000000   89.875000   86.236111   \n",
       "max      10.00000  83980.00000  115.555556  159.000000  113.388889   \n",
       "\n",
       "          prix_04     prix_05     prix_06     prix_07     prix_08     prix_09  \\\n",
       "count   10.000000   10.000000   10.000000   10.000000   10.000000   10.000000   \n",
       "mean    89.461111   93.038889   94.000000  120.277778  132.050000   93.122222   \n",
       "std     17.620369   19.721154   22.265637   24.075285   33.317995   19.113225   \n",
       "min     70.111111   74.555556   69.833333   86.777778   86.444444   72.111111   \n",
       "25%     78.041667   82.277778   78.500000  108.750000  117.097222   84.847222   \n",
       "50%     84.611111   87.666667   93.805556  115.888889  130.222222   88.694444   \n",
       "75%     93.111111   97.263889   97.236111  126.569444  133.097222   95.680556   \n",
       "max    121.666667  143.666667  147.222222  176.222222  211.000000  141.111111   \n",
       "\n",
       "          prix_10     prix_11     prix_12  \n",
       "count   10.000000   10.000000   10.000000  \n",
       "mean    87.166667   84.461111   87.388889  \n",
       "std     16.861353   17.045832   19.402565  \n",
       "min     62.333333   59.777778   62.277778  \n",
       "25%     79.222222   75.972222   76.013889  \n",
       "50%     84.472222   80.972222   82.000000  \n",
       "75%     91.138889   86.986111   90.041667  \n",
       "max    116.722222  121.333333  124.444444  "
      ]
     },
     "execution_count": 22,
     "metadata": {},
     "output_type": "execute_result"
    }
   ],
   "source": [
    "villes.describe()"
   ]
  },
  {
   "cell_type": "code",
   "execution_count": 45,
   "id": "6a39c1c5",
   "metadata": {},
   "outputs": [
    {
     "data": {
      "application/vnd.plotly.v1+json": {
       "config": {
        "plotlyServerURL": "https://plot.ly"
       },
       "data": [
        {
         "alignmentgroup": "True",
         "hovertemplate": "variable=prix_01<br>value=%{x}<br>Ville=%{y}<extra></extra>",
         "legendgroup": "prix_01",
         "marker": {
          "color": "#636efa",
          "pattern": {
           "shape": ""
          }
         },
         "name": "prix_01",
         "offsetgroup": "prix_01",
         "orientation": "h",
         "showlegend": true,
         "textposition": "auto",
         "type": "bar",
         "x": [
          57,
          115.55555555555556,
          85.11111111111111,
          62,
          80.66666666666667,
          78.83333333333333,
          51.77777777777778,
          79.16666666666667,
          91.27777777777776,
          77.83333333333333
         ],
         "xaxis": "x",
         "y": [
          "Agde",
          "Chamonix-Mont-Blanc",
          "Carnac",
          "Argelès-sur-Mer",
          "Quiberon",
          "Le Lavandou",
          "La Grande-Motte",
          "Ramatuelle",
          "Saint-Raphaël",
          "La Baule-Escoublac"
         ],
         "yaxis": "y"
        },
        {
         "alignmentgroup": "True",
         "hovertemplate": "variable=prix_02<br>value=%{x}<br>Ville=%{y}<extra></extra>",
         "legendgroup": "prix_02",
         "marker": {
          "color": "#EF553B",
          "pattern": {
           "shape": ""
          }
         },
         "name": "prix_02",
         "offsetgroup": "prix_02",
         "orientation": "h",
         "showlegend": true,
         "textposition": "auto",
         "type": "bar",
         "x": [
          60.77777777777778,
          159,
          74.94444444444444,
          67.55555555555556,
          94.77777777777776,
          76.5,
          66.77777777777777,
          89.66666666666667,
          84.33333333333333,
          89.94444444444444
         ],
         "xaxis": "x",
         "y": [
          "Agde",
          "Chamonix-Mont-Blanc",
          "Carnac",
          "Argelès-sur-Mer",
          "Quiberon",
          "Le Lavandou",
          "La Grande-Motte",
          "Ramatuelle",
          "Saint-Raphaël",
          "La Baule-Escoublac"
         ],
         "yaxis": "y"
        },
        {
         "alignmentgroup": "True",
         "hovertemplate": "variable=prix_03<br>value=%{x}<br>Ville=%{y}<extra></extra>",
         "legendgroup": "prix_03",
         "marker": {
          "color": "#00cc96",
          "pattern": {
           "shape": ""
          }
         },
         "name": "prix_03",
         "offsetgroup": "prix_03",
         "orientation": "h",
         "showlegend": true,
         "textposition": "auto",
         "type": "bar",
         "x": [
          52.94444444444444,
          113.38888888888889,
          72.55555555555556,
          74.27777777777777,
          88.94444444444444,
          76.33333333333333,
          55.333333333333336,
          80.94444444444444,
          74.83333333333333,
          88
         ],
         "xaxis": "x",
         "y": [
          "Agde",
          "Chamonix-Mont-Blanc",
          "Carnac",
          "Argelès-sur-Mer",
          "Quiberon",
          "Le Lavandou",
          "La Grande-Motte",
          "Ramatuelle",
          "Saint-Raphaël",
          "La Baule-Escoublac"
         ],
         "yaxis": "y"
        },
        {
         "alignmentgroup": "True",
         "hovertemplate": "variable=prix_04<br>value=%{x}<br>Ville=%{y}<extra></extra>",
         "legendgroup": "prix_04",
         "marker": {
          "color": "#ab63fa",
          "pattern": {
           "shape": ""
          }
         },
         "name": "prix_04",
         "offsetgroup": "prix_04",
         "orientation": "h",
         "showlegend": true,
         "textposition": "auto",
         "type": "bar",
         "x": [
          70.11111111111111,
          121.66666666666669,
          79.5,
          77.55555555555556,
          93.61111111111111,
          87.61111111111111,
          73.55555555555556,
          117.77777777777776,
          81.61111111111111,
          91.61111111111111
         ],
         "xaxis": "x",
         "y": [
          "Agde",
          "Chamonix-Mont-Blanc",
          "Carnac",
          "Argelès-sur-Mer",
          "Quiberon",
          "Le Lavandou",
          "La Grande-Motte",
          "Ramatuelle",
          "Saint-Raphaël",
          "La Baule-Escoublac"
         ],
         "yaxis": "y"
        },
        {
         "alignmentgroup": "True",
         "hovertemplate": "variable=prix_05<br>value=%{x}<br>Ville=%{y}<extra></extra>",
         "legendgroup": "prix_05",
         "marker": {
          "color": "#FFA15A",
          "pattern": {
           "shape": ""
          }
         },
         "name": "prix_05",
         "offsetgroup": "prix_05",
         "orientation": "h",
         "showlegend": true,
         "textposition": "auto",
         "type": "bar",
         "x": [
          74.55555555555556,
          100.88888888888889,
          81.72222222222223,
          87.22222222222223,
          94.38888888888889,
          88.11111111111111,
          77.66666666666667,
          143.66666666666666,
          83.94444444444444,
          98.22222222222224
         ],
         "xaxis": "x",
         "y": [
          "Agde",
          "Chamonix-Mont-Blanc",
          "Carnac",
          "Argelès-sur-Mer",
          "Quiberon",
          "Le Lavandou",
          "La Grande-Motte",
          "Ramatuelle",
          "Saint-Raphaël",
          "La Baule-Escoublac"
         ],
         "yaxis": "y"
        },
        {
         "alignmentgroup": "True",
         "hovertemplate": "variable=prix_06<br>value=%{x}<br>Ville=%{y}<extra></extra>",
         "legendgroup": "prix_06",
         "marker": {
          "color": "#19d3f3",
          "pattern": {
           "shape": ""
          }
         },
         "name": "prix_06",
         "offsetgroup": "prix_06",
         "orientation": "h",
         "showlegend": true,
         "textposition": "auto",
         "type": "bar",
         "x": [
          72.72222222222223,
          107.55555555555556,
          93.33333333333331,
          76.22222222222223,
          94.27777777777776,
          95.77777777777776,
          69.83333333333333,
          147.22222222222223,
          97.72222222222224,
          85.33333333333333
         ],
         "xaxis": "x",
         "y": [
          "Agde",
          "Chamonix-Mont-Blanc",
          "Carnac",
          "Argelès-sur-Mer",
          "Quiberon",
          "Le Lavandou",
          "La Grande-Motte",
          "Ramatuelle",
          "Saint-Raphaël",
          "La Baule-Escoublac"
         ],
         "yaxis": "y"
        },
        {
         "alignmentgroup": "True",
         "hovertemplate": "variable=prix_07<br>value=%{x}<br>Ville=%{y}<extra></extra>",
         "legendgroup": "prix_07",
         "marker": {
          "color": "#FF6692",
          "pattern": {
           "shape": ""
          }
         },
         "name": "prix_07",
         "offsetgroup": "prix_07",
         "orientation": "h",
         "showlegend": true,
         "textposition": "auto",
         "type": "bar",
         "x": [
          126.66666666666669,
          120.27777777777776,
          108.11111111111111,
          110.66666666666669,
          111.5,
          134.88888888888889,
          86.77777777777777,
          176.22222222222223,
          126.27777777777776,
          101.38888888888889
         ],
         "xaxis": "x",
         "y": [
          "Agde",
          "Chamonix-Mont-Blanc",
          "Carnac",
          "Argelès-sur-Mer",
          "Quiberon",
          "Le Lavandou",
          "La Grande-Motte",
          "Ramatuelle",
          "Saint-Raphaël",
          "La Baule-Escoublac"
         ],
         "yaxis": "y"
        },
        {
         "alignmentgroup": "True",
         "hovertemplate": "variable=prix_08<br>value=%{x}<br>Ville=%{y}<extra></extra>",
         "legendgroup": "prix_08",
         "marker": {
          "color": "#B6E880",
          "pattern": {
           "shape": ""
          }
         },
         "name": "prix_08",
         "offsetgroup": "prix_08",
         "orientation": "h",
         "showlegend": true,
         "textposition": "auto",
         "type": "bar",
         "x": [
          131.22222222222223,
          133.61111111111111,
          128.72222222222223,
          113.22222222222224,
          129.22222222222223,
          152.88888888888889,
          86.44444444444444,
          211,
          131.55555555555554,
          102.61111111111111
         ],
         "xaxis": "x",
         "y": [
          "Agde",
          "Chamonix-Mont-Blanc",
          "Carnac",
          "Argelès-sur-Mer",
          "Quiberon",
          "Le Lavandou",
          "La Grande-Motte",
          "Ramatuelle",
          "Saint-Raphaël",
          "La Baule-Escoublac"
         ],
         "yaxis": "y"
        },
        {
         "alignmentgroup": "True",
         "hovertemplate": "variable=prix_09<br>value=%{x}<br>Ville=%{y}<extra></extra>",
         "legendgroup": "prix_09",
         "marker": {
          "color": "#FF97FF",
          "pattern": {
           "shape": ""
          }
         },
         "name": "prix_09",
         "offsetgroup": "prix_09",
         "orientation": "h",
         "showlegend": true,
         "textposition": "auto",
         "type": "bar",
         "x": [
          76.16666666666667,
          96.11111111111111,
          89.44444444444444,
          72.11111111111111,
          87.94444444444444,
          94.38888888888889,
          84,
          141.11111111111111,
          102.55555555555556,
          87.38888888888889
         ],
         "xaxis": "x",
         "y": [
          "Agde",
          "Chamonix-Mont-Blanc",
          "Carnac",
          "Argelès-sur-Mer",
          "Quiberon",
          "Le Lavandou",
          "La Grande-Motte",
          "Ramatuelle",
          "Saint-Raphaël",
          "La Baule-Escoublac"
         ],
         "yaxis": "y"
        },
        {
         "alignmentgroup": "True",
         "hovertemplate": "variable=prix_10<br>value=%{x}<br>Ville=%{y}<extra></extra>",
         "legendgroup": "prix_10",
         "marker": {
          "color": "#FECB52",
          "pattern": {
           "shape": ""
          }
         },
         "name": "prix_10",
         "offsetgroup": "prix_10",
         "orientation": "h",
         "showlegend": true,
         "textposition": "auto",
         "type": "bar",
         "x": [
          62.333333333333336,
          116.72222222222224,
          82.72222222222223,
          71.38888888888889,
          92.22222222222224,
          87.88888888888889,
          78.77777777777777,
          112.83333333333331,
          86.22222222222223,
          80.55555555555556
         ],
         "xaxis": "x",
         "y": [
          "Agde",
          "Chamonix-Mont-Blanc",
          "Carnac",
          "Argelès-sur-Mer",
          "Quiberon",
          "Le Lavandou",
          "La Grande-Motte",
          "Ramatuelle",
          "Saint-Raphaël",
          "La Baule-Escoublac"
         ],
         "yaxis": "y"
        },
        {
         "alignmentgroup": "True",
         "hovertemplate": "variable=prix_11<br>value=%{x}<br>Ville=%{y}<extra></extra>",
         "legendgroup": "prix_11",
         "marker": {
          "color": "#636efa",
          "pattern": {
           "shape": ""
          }
         },
         "name": "prix_11",
         "offsetgroup": "prix_11",
         "orientation": "h",
         "showlegend": true,
         "textposition": "auto",
         "type": "bar",
         "x": [
          59.77777777777778,
          121.33333333333331,
          73.11111111111111,
          77.22222222222223,
          87.5,
          75.55555555555556,
          78,
          102.72222222222224,
          85.44444444444444,
          83.94444444444444
         ],
         "xaxis": "x",
         "y": [
          "Agde",
          "Chamonix-Mont-Blanc",
          "Carnac",
          "Argelès-sur-Mer",
          "Quiberon",
          "Le Lavandou",
          "La Grande-Motte",
          "Ramatuelle",
          "Saint-Raphaël",
          "La Baule-Escoublac"
         ],
         "yaxis": "y"
        },
        {
         "alignmentgroup": "True",
         "hovertemplate": "variable=prix_12<br>value=%{x}<br>Ville=%{y}<extra></extra>",
         "legendgroup": "prix_12",
         "marker": {
          "color": "#EF553B",
          "pattern": {
           "shape": ""
          }
         },
         "name": "prix_12",
         "offsetgroup": "prix_12",
         "orientation": "h",
         "showlegend": true,
         "textposition": "auto",
         "type": "bar",
         "x": [
          62.27777777777778,
          124.44444444444444,
          74.55555555555556,
          77.22222222222223,
          86.16666666666667,
          75.61111111111111,
          77.83333333333333,
          116.94444444444444,
          88.16666666666667,
          90.66666666666669
         ],
         "xaxis": "x",
         "y": [
          "Agde",
          "Chamonix-Mont-Blanc",
          "Carnac",
          "Argelès-sur-Mer",
          "Quiberon",
          "Le Lavandou",
          "La Grande-Motte",
          "Ramatuelle",
          "Saint-Raphaël",
          "La Baule-Escoublac"
         ],
         "yaxis": "y"
        }
       ],
       "layout": {
        "barmode": "relative",
        "legend": {
         "title": {
          "text": "variable"
         },
         "tracegroupgap": 0
        },
        "margin": {
         "t": 60
        },
        "template": {
         "data": {
          "bar": [
           {
            "error_x": {
             "color": "#2a3f5f"
            },
            "error_y": {
             "color": "#2a3f5f"
            },
            "marker": {
             "line": {
              "color": "#E5ECF6",
              "width": 0.5
             },
             "pattern": {
              "fillmode": "overlay",
              "size": 10,
              "solidity": 0.2
             }
            },
            "type": "bar"
           }
          ],
          "barpolar": [
           {
            "marker": {
             "line": {
              "color": "#E5ECF6",
              "width": 0.5
             },
             "pattern": {
              "fillmode": "overlay",
              "size": 10,
              "solidity": 0.2
             }
            },
            "type": "barpolar"
           }
          ],
          "carpet": [
           {
            "aaxis": {
             "endlinecolor": "#2a3f5f",
             "gridcolor": "white",
             "linecolor": "white",
             "minorgridcolor": "white",
             "startlinecolor": "#2a3f5f"
            },
            "baxis": {
             "endlinecolor": "#2a3f5f",
             "gridcolor": "white",
             "linecolor": "white",
             "minorgridcolor": "white",
             "startlinecolor": "#2a3f5f"
            },
            "type": "carpet"
           }
          ],
          "choropleth": [
           {
            "colorbar": {
             "outlinewidth": 0,
             "ticks": ""
            },
            "type": "choropleth"
           }
          ],
          "contour": [
           {
            "colorbar": {
             "outlinewidth": 0,
             "ticks": ""
            },
            "colorscale": [
             [
              0,
              "#0d0887"
             ],
             [
              0.1111111111111111,
              "#46039f"
             ],
             [
              0.2222222222222222,
              "#7201a8"
             ],
             [
              0.3333333333333333,
              "#9c179e"
             ],
             [
              0.4444444444444444,
              "#bd3786"
             ],
             [
              0.5555555555555556,
              "#d8576b"
             ],
             [
              0.6666666666666666,
              "#ed7953"
             ],
             [
              0.7777777777777778,
              "#fb9f3a"
             ],
             [
              0.8888888888888888,
              "#fdca26"
             ],
             [
              1,
              "#f0f921"
             ]
            ],
            "type": "contour"
           }
          ],
          "contourcarpet": [
           {
            "colorbar": {
             "outlinewidth": 0,
             "ticks": ""
            },
            "type": "contourcarpet"
           }
          ],
          "heatmap": [
           {
            "colorbar": {
             "outlinewidth": 0,
             "ticks": ""
            },
            "colorscale": [
             [
              0,
              "#0d0887"
             ],
             [
              0.1111111111111111,
              "#46039f"
             ],
             [
              0.2222222222222222,
              "#7201a8"
             ],
             [
              0.3333333333333333,
              "#9c179e"
             ],
             [
              0.4444444444444444,
              "#bd3786"
             ],
             [
              0.5555555555555556,
              "#d8576b"
             ],
             [
              0.6666666666666666,
              "#ed7953"
             ],
             [
              0.7777777777777778,
              "#fb9f3a"
             ],
             [
              0.8888888888888888,
              "#fdca26"
             ],
             [
              1,
              "#f0f921"
             ]
            ],
            "type": "heatmap"
           }
          ],
          "heatmapgl": [
           {
            "colorbar": {
             "outlinewidth": 0,
             "ticks": ""
            },
            "colorscale": [
             [
              0,
              "#0d0887"
             ],
             [
              0.1111111111111111,
              "#46039f"
             ],
             [
              0.2222222222222222,
              "#7201a8"
             ],
             [
              0.3333333333333333,
              "#9c179e"
             ],
             [
              0.4444444444444444,
              "#bd3786"
             ],
             [
              0.5555555555555556,
              "#d8576b"
             ],
             [
              0.6666666666666666,
              "#ed7953"
             ],
             [
              0.7777777777777778,
              "#fb9f3a"
             ],
             [
              0.8888888888888888,
              "#fdca26"
             ],
             [
              1,
              "#f0f921"
             ]
            ],
            "type": "heatmapgl"
           }
          ],
          "histogram": [
           {
            "marker": {
             "pattern": {
              "fillmode": "overlay",
              "size": 10,
              "solidity": 0.2
             }
            },
            "type": "histogram"
           }
          ],
          "histogram2d": [
           {
            "colorbar": {
             "outlinewidth": 0,
             "ticks": ""
            },
            "colorscale": [
             [
              0,
              "#0d0887"
             ],
             [
              0.1111111111111111,
              "#46039f"
             ],
             [
              0.2222222222222222,
              "#7201a8"
             ],
             [
              0.3333333333333333,
              "#9c179e"
             ],
             [
              0.4444444444444444,
              "#bd3786"
             ],
             [
              0.5555555555555556,
              "#d8576b"
             ],
             [
              0.6666666666666666,
              "#ed7953"
             ],
             [
              0.7777777777777778,
              "#fb9f3a"
             ],
             [
              0.8888888888888888,
              "#fdca26"
             ],
             [
              1,
              "#f0f921"
             ]
            ],
            "type": "histogram2d"
           }
          ],
          "histogram2dcontour": [
           {
            "colorbar": {
             "outlinewidth": 0,
             "ticks": ""
            },
            "colorscale": [
             [
              0,
              "#0d0887"
             ],
             [
              0.1111111111111111,
              "#46039f"
             ],
             [
              0.2222222222222222,
              "#7201a8"
             ],
             [
              0.3333333333333333,
              "#9c179e"
             ],
             [
              0.4444444444444444,
              "#bd3786"
             ],
             [
              0.5555555555555556,
              "#d8576b"
             ],
             [
              0.6666666666666666,
              "#ed7953"
             ],
             [
              0.7777777777777778,
              "#fb9f3a"
             ],
             [
              0.8888888888888888,
              "#fdca26"
             ],
             [
              1,
              "#f0f921"
             ]
            ],
            "type": "histogram2dcontour"
           }
          ],
          "mesh3d": [
           {
            "colorbar": {
             "outlinewidth": 0,
             "ticks": ""
            },
            "type": "mesh3d"
           }
          ],
          "parcoords": [
           {
            "line": {
             "colorbar": {
              "outlinewidth": 0,
              "ticks": ""
             }
            },
            "type": "parcoords"
           }
          ],
          "pie": [
           {
            "automargin": true,
            "type": "pie"
           }
          ],
          "scatter": [
           {
            "fillpattern": {
             "fillmode": "overlay",
             "size": 10,
             "solidity": 0.2
            },
            "type": "scatter"
           }
          ],
          "scatter3d": [
           {
            "line": {
             "colorbar": {
              "outlinewidth": 0,
              "ticks": ""
             }
            },
            "marker": {
             "colorbar": {
              "outlinewidth": 0,
              "ticks": ""
             }
            },
            "type": "scatter3d"
           }
          ],
          "scattercarpet": [
           {
            "marker": {
             "colorbar": {
              "outlinewidth": 0,
              "ticks": ""
             }
            },
            "type": "scattercarpet"
           }
          ],
          "scattergeo": [
           {
            "marker": {
             "colorbar": {
              "outlinewidth": 0,
              "ticks": ""
             }
            },
            "type": "scattergeo"
           }
          ],
          "scattergl": [
           {
            "marker": {
             "colorbar": {
              "outlinewidth": 0,
              "ticks": ""
             }
            },
            "type": "scattergl"
           }
          ],
          "scattermapbox": [
           {
            "marker": {
             "colorbar": {
              "outlinewidth": 0,
              "ticks": ""
             }
            },
            "type": "scattermapbox"
           }
          ],
          "scatterpolar": [
           {
            "marker": {
             "colorbar": {
              "outlinewidth": 0,
              "ticks": ""
             }
            },
            "type": "scatterpolar"
           }
          ],
          "scatterpolargl": [
           {
            "marker": {
             "colorbar": {
              "outlinewidth": 0,
              "ticks": ""
             }
            },
            "type": "scatterpolargl"
           }
          ],
          "scatterternary": [
           {
            "marker": {
             "colorbar": {
              "outlinewidth": 0,
              "ticks": ""
             }
            },
            "type": "scatterternary"
           }
          ],
          "surface": [
           {
            "colorbar": {
             "outlinewidth": 0,
             "ticks": ""
            },
            "colorscale": [
             [
              0,
              "#0d0887"
             ],
             [
              0.1111111111111111,
              "#46039f"
             ],
             [
              0.2222222222222222,
              "#7201a8"
             ],
             [
              0.3333333333333333,
              "#9c179e"
             ],
             [
              0.4444444444444444,
              "#bd3786"
             ],
             [
              0.5555555555555556,
              "#d8576b"
             ],
             [
              0.6666666666666666,
              "#ed7953"
             ],
             [
              0.7777777777777778,
              "#fb9f3a"
             ],
             [
              0.8888888888888888,
              "#fdca26"
             ],
             [
              1,
              "#f0f921"
             ]
            ],
            "type": "surface"
           }
          ],
          "table": [
           {
            "cells": {
             "fill": {
              "color": "#EBF0F8"
             },
             "line": {
              "color": "white"
             }
            },
            "header": {
             "fill": {
              "color": "#C8D4E3"
             },
             "line": {
              "color": "white"
             }
            },
            "type": "table"
           }
          ]
         },
         "layout": {
          "annotationdefaults": {
           "arrowcolor": "#2a3f5f",
           "arrowhead": 0,
           "arrowwidth": 1
          },
          "autotypenumbers": "strict",
          "coloraxis": {
           "colorbar": {
            "outlinewidth": 0,
            "ticks": ""
           }
          },
          "colorscale": {
           "diverging": [
            [
             0,
             "#8e0152"
            ],
            [
             0.1,
             "#c51b7d"
            ],
            [
             0.2,
             "#de77ae"
            ],
            [
             0.3,
             "#f1b6da"
            ],
            [
             0.4,
             "#fde0ef"
            ],
            [
             0.5,
             "#f7f7f7"
            ],
            [
             0.6,
             "#e6f5d0"
            ],
            [
             0.7,
             "#b8e186"
            ],
            [
             0.8,
             "#7fbc41"
            ],
            [
             0.9,
             "#4d9221"
            ],
            [
             1,
             "#276419"
            ]
           ],
           "sequential": [
            [
             0,
             "#0d0887"
            ],
            [
             0.1111111111111111,
             "#46039f"
            ],
            [
             0.2222222222222222,
             "#7201a8"
            ],
            [
             0.3333333333333333,
             "#9c179e"
            ],
            [
             0.4444444444444444,
             "#bd3786"
            ],
            [
             0.5555555555555556,
             "#d8576b"
            ],
            [
             0.6666666666666666,
             "#ed7953"
            ],
            [
             0.7777777777777778,
             "#fb9f3a"
            ],
            [
             0.8888888888888888,
             "#fdca26"
            ],
            [
             1,
             "#f0f921"
            ]
           ],
           "sequentialminus": [
            [
             0,
             "#0d0887"
            ],
            [
             0.1111111111111111,
             "#46039f"
            ],
            [
             0.2222222222222222,
             "#7201a8"
            ],
            [
             0.3333333333333333,
             "#9c179e"
            ],
            [
             0.4444444444444444,
             "#bd3786"
            ],
            [
             0.5555555555555556,
             "#d8576b"
            ],
            [
             0.6666666666666666,
             "#ed7953"
            ],
            [
             0.7777777777777778,
             "#fb9f3a"
            ],
            [
             0.8888888888888888,
             "#fdca26"
            ],
            [
             1,
             "#f0f921"
            ]
           ]
          },
          "colorway": [
           "#636efa",
           "#EF553B",
           "#00cc96",
           "#ab63fa",
           "#FFA15A",
           "#19d3f3",
           "#FF6692",
           "#B6E880",
           "#FF97FF",
           "#FECB52"
          ],
          "font": {
           "color": "#2a3f5f"
          },
          "geo": {
           "bgcolor": "white",
           "lakecolor": "white",
           "landcolor": "#E5ECF6",
           "showlakes": true,
           "showland": true,
           "subunitcolor": "white"
          },
          "hoverlabel": {
           "align": "left"
          },
          "hovermode": "closest",
          "mapbox": {
           "style": "light"
          },
          "paper_bgcolor": "white",
          "plot_bgcolor": "#E5ECF6",
          "polar": {
           "angularaxis": {
            "gridcolor": "white",
            "linecolor": "white",
            "ticks": ""
           },
           "bgcolor": "#E5ECF6",
           "radialaxis": {
            "gridcolor": "white",
            "linecolor": "white",
            "ticks": ""
           }
          },
          "scene": {
           "xaxis": {
            "backgroundcolor": "#E5ECF6",
            "gridcolor": "white",
            "gridwidth": 2,
            "linecolor": "white",
            "showbackground": true,
            "ticks": "",
            "zerolinecolor": "white"
           },
           "yaxis": {
            "backgroundcolor": "#E5ECF6",
            "gridcolor": "white",
            "gridwidth": 2,
            "linecolor": "white",
            "showbackground": true,
            "ticks": "",
            "zerolinecolor": "white"
           },
           "zaxis": {
            "backgroundcolor": "#E5ECF6",
            "gridcolor": "white",
            "gridwidth": 2,
            "linecolor": "white",
            "showbackground": true,
            "ticks": "",
            "zerolinecolor": "white"
           }
          },
          "shapedefaults": {
           "line": {
            "color": "#2a3f5f"
           }
          },
          "ternary": {
           "aaxis": {
            "gridcolor": "white",
            "linecolor": "white",
            "ticks": ""
           },
           "baxis": {
            "gridcolor": "white",
            "linecolor": "white",
            "ticks": ""
           },
           "bgcolor": "#E5ECF6",
           "caxis": {
            "gridcolor": "white",
            "linecolor": "white",
            "ticks": ""
           }
          },
          "title": {
           "x": 0.05
          },
          "xaxis": {
           "automargin": true,
           "gridcolor": "white",
           "linecolor": "white",
           "ticks": "",
           "title": {
            "standoff": 15
           },
           "zerolinecolor": "white",
           "zerolinewidth": 2
          },
          "yaxis": {
           "automargin": true,
           "gridcolor": "white",
           "linecolor": "white",
           "ticks": "",
           "title": {
            "standoff": 15
           },
           "zerolinecolor": "white",
           "zerolinewidth": 2
          }
         }
        },
        "xaxis": {
         "anchor": "y",
         "domain": [
          0,
          1
         ],
         "title": {
          "text": "value"
         }
        },
        "yaxis": {
         "anchor": "x",
         "domain": [
          0,
          1
         ],
         "title": {
          "text": "Ville"
         }
        }
       }
      },
      "text/html": [
       "<div>                            <div id=\"eed995ce-8470-412e-ab8d-d782eb7562cf\" class=\"plotly-graph-div\" style=\"height:525px; width:100%;\"></div>            <script type=\"text/javascript\">                require([\"plotly\"], function(Plotly) {                    window.PLOTLYENV=window.PLOTLYENV || {};                                    if (document.getElementById(\"eed995ce-8470-412e-ab8d-d782eb7562cf\")) {                    Plotly.newPlot(                        \"eed995ce-8470-412e-ab8d-d782eb7562cf\",                        [{\"alignmentgroup\":\"True\",\"hovertemplate\":\"variable=prix_01<br>value=%{x}<br>Ville=%{y}<extra></extra>\",\"legendgroup\":\"prix_01\",\"marker\":{\"color\":\"#636efa\",\"pattern\":{\"shape\":\"\"}},\"name\":\"prix_01\",\"offsetgroup\":\"prix_01\",\"orientation\":\"h\",\"showlegend\":true,\"textposition\":\"auto\",\"x\":[57.0,115.55555555555556,85.11111111111111,62.0,80.66666666666667,78.83333333333333,51.77777777777778,79.16666666666667,91.27777777777776,77.83333333333333],\"xaxis\":\"x\",\"y\":[\"Agde\",\"Chamonix-Mont-Blanc\",\"Carnac\",\"Argel\\u00e8s-sur-Mer\",\"Quiberon\",\"Le Lavandou\",\"La Grande-Motte\",\"Ramatuelle\",\"Saint-Rapha\\u00ebl\",\"La Baule-Escoublac\"],\"yaxis\":\"y\",\"type\":\"bar\"},{\"alignmentgroup\":\"True\",\"hovertemplate\":\"variable=prix_02<br>value=%{x}<br>Ville=%{y}<extra></extra>\",\"legendgroup\":\"prix_02\",\"marker\":{\"color\":\"#EF553B\",\"pattern\":{\"shape\":\"\"}},\"name\":\"prix_02\",\"offsetgroup\":\"prix_02\",\"orientation\":\"h\",\"showlegend\":true,\"textposition\":\"auto\",\"x\":[60.77777777777778,159.0,74.94444444444444,67.55555555555556,94.77777777777776,76.5,66.77777777777777,89.66666666666667,84.33333333333333,89.94444444444444],\"xaxis\":\"x\",\"y\":[\"Agde\",\"Chamonix-Mont-Blanc\",\"Carnac\",\"Argel\\u00e8s-sur-Mer\",\"Quiberon\",\"Le Lavandou\",\"La Grande-Motte\",\"Ramatuelle\",\"Saint-Rapha\\u00ebl\",\"La Baule-Escoublac\"],\"yaxis\":\"y\",\"type\":\"bar\"},{\"alignmentgroup\":\"True\",\"hovertemplate\":\"variable=prix_03<br>value=%{x}<br>Ville=%{y}<extra></extra>\",\"legendgroup\":\"prix_03\",\"marker\":{\"color\":\"#00cc96\",\"pattern\":{\"shape\":\"\"}},\"name\":\"prix_03\",\"offsetgroup\":\"prix_03\",\"orientation\":\"h\",\"showlegend\":true,\"textposition\":\"auto\",\"x\":[52.94444444444444,113.38888888888889,72.55555555555556,74.27777777777777,88.94444444444444,76.33333333333333,55.333333333333336,80.94444444444444,74.83333333333333,88.0],\"xaxis\":\"x\",\"y\":[\"Agde\",\"Chamonix-Mont-Blanc\",\"Carnac\",\"Argel\\u00e8s-sur-Mer\",\"Quiberon\",\"Le Lavandou\",\"La Grande-Motte\",\"Ramatuelle\",\"Saint-Rapha\\u00ebl\",\"La Baule-Escoublac\"],\"yaxis\":\"y\",\"type\":\"bar\"},{\"alignmentgroup\":\"True\",\"hovertemplate\":\"variable=prix_04<br>value=%{x}<br>Ville=%{y}<extra></extra>\",\"legendgroup\":\"prix_04\",\"marker\":{\"color\":\"#ab63fa\",\"pattern\":{\"shape\":\"\"}},\"name\":\"prix_04\",\"offsetgroup\":\"prix_04\",\"orientation\":\"h\",\"showlegend\":true,\"textposition\":\"auto\",\"x\":[70.11111111111111,121.66666666666669,79.5,77.55555555555556,93.61111111111111,87.61111111111111,73.55555555555556,117.77777777777776,81.61111111111111,91.61111111111111],\"xaxis\":\"x\",\"y\":[\"Agde\",\"Chamonix-Mont-Blanc\",\"Carnac\",\"Argel\\u00e8s-sur-Mer\",\"Quiberon\",\"Le Lavandou\",\"La Grande-Motte\",\"Ramatuelle\",\"Saint-Rapha\\u00ebl\",\"La Baule-Escoublac\"],\"yaxis\":\"y\",\"type\":\"bar\"},{\"alignmentgroup\":\"True\",\"hovertemplate\":\"variable=prix_05<br>value=%{x}<br>Ville=%{y}<extra></extra>\",\"legendgroup\":\"prix_05\",\"marker\":{\"color\":\"#FFA15A\",\"pattern\":{\"shape\":\"\"}},\"name\":\"prix_05\",\"offsetgroup\":\"prix_05\",\"orientation\":\"h\",\"showlegend\":true,\"textposition\":\"auto\",\"x\":[74.55555555555556,100.88888888888889,81.72222222222223,87.22222222222223,94.38888888888889,88.11111111111111,77.66666666666667,143.66666666666666,83.94444444444444,98.22222222222224],\"xaxis\":\"x\",\"y\":[\"Agde\",\"Chamonix-Mont-Blanc\",\"Carnac\",\"Argel\\u00e8s-sur-Mer\",\"Quiberon\",\"Le Lavandou\",\"La Grande-Motte\",\"Ramatuelle\",\"Saint-Rapha\\u00ebl\",\"La Baule-Escoublac\"],\"yaxis\":\"y\",\"type\":\"bar\"},{\"alignmentgroup\":\"True\",\"hovertemplate\":\"variable=prix_06<br>value=%{x}<br>Ville=%{y}<extra></extra>\",\"legendgroup\":\"prix_06\",\"marker\":{\"color\":\"#19d3f3\",\"pattern\":{\"shape\":\"\"}},\"name\":\"prix_06\",\"offsetgroup\":\"prix_06\",\"orientation\":\"h\",\"showlegend\":true,\"textposition\":\"auto\",\"x\":[72.72222222222223,107.55555555555556,93.33333333333331,76.22222222222223,94.27777777777776,95.77777777777776,69.83333333333333,147.22222222222223,97.72222222222224,85.33333333333333],\"xaxis\":\"x\",\"y\":[\"Agde\",\"Chamonix-Mont-Blanc\",\"Carnac\",\"Argel\\u00e8s-sur-Mer\",\"Quiberon\",\"Le Lavandou\",\"La Grande-Motte\",\"Ramatuelle\",\"Saint-Rapha\\u00ebl\",\"La Baule-Escoublac\"],\"yaxis\":\"y\",\"type\":\"bar\"},{\"alignmentgroup\":\"True\",\"hovertemplate\":\"variable=prix_07<br>value=%{x}<br>Ville=%{y}<extra></extra>\",\"legendgroup\":\"prix_07\",\"marker\":{\"color\":\"#FF6692\",\"pattern\":{\"shape\":\"\"}},\"name\":\"prix_07\",\"offsetgroup\":\"prix_07\",\"orientation\":\"h\",\"showlegend\":true,\"textposition\":\"auto\",\"x\":[126.66666666666669,120.27777777777776,108.11111111111111,110.66666666666669,111.5,134.88888888888889,86.77777777777777,176.22222222222223,126.27777777777776,101.38888888888889],\"xaxis\":\"x\",\"y\":[\"Agde\",\"Chamonix-Mont-Blanc\",\"Carnac\",\"Argel\\u00e8s-sur-Mer\",\"Quiberon\",\"Le Lavandou\",\"La Grande-Motte\",\"Ramatuelle\",\"Saint-Rapha\\u00ebl\",\"La Baule-Escoublac\"],\"yaxis\":\"y\",\"type\":\"bar\"},{\"alignmentgroup\":\"True\",\"hovertemplate\":\"variable=prix_08<br>value=%{x}<br>Ville=%{y}<extra></extra>\",\"legendgroup\":\"prix_08\",\"marker\":{\"color\":\"#B6E880\",\"pattern\":{\"shape\":\"\"}},\"name\":\"prix_08\",\"offsetgroup\":\"prix_08\",\"orientation\":\"h\",\"showlegend\":true,\"textposition\":\"auto\",\"x\":[131.22222222222223,133.61111111111111,128.72222222222223,113.22222222222224,129.22222222222223,152.88888888888889,86.44444444444444,211.0,131.55555555555554,102.61111111111111],\"xaxis\":\"x\",\"y\":[\"Agde\",\"Chamonix-Mont-Blanc\",\"Carnac\",\"Argel\\u00e8s-sur-Mer\",\"Quiberon\",\"Le Lavandou\",\"La Grande-Motte\",\"Ramatuelle\",\"Saint-Rapha\\u00ebl\",\"La Baule-Escoublac\"],\"yaxis\":\"y\",\"type\":\"bar\"},{\"alignmentgroup\":\"True\",\"hovertemplate\":\"variable=prix_09<br>value=%{x}<br>Ville=%{y}<extra></extra>\",\"legendgroup\":\"prix_09\",\"marker\":{\"color\":\"#FF97FF\",\"pattern\":{\"shape\":\"\"}},\"name\":\"prix_09\",\"offsetgroup\":\"prix_09\",\"orientation\":\"h\",\"showlegend\":true,\"textposition\":\"auto\",\"x\":[76.16666666666667,96.11111111111111,89.44444444444444,72.11111111111111,87.94444444444444,94.38888888888889,84.0,141.11111111111111,102.55555555555556,87.38888888888889],\"xaxis\":\"x\",\"y\":[\"Agde\",\"Chamonix-Mont-Blanc\",\"Carnac\",\"Argel\\u00e8s-sur-Mer\",\"Quiberon\",\"Le Lavandou\",\"La Grande-Motte\",\"Ramatuelle\",\"Saint-Rapha\\u00ebl\",\"La Baule-Escoublac\"],\"yaxis\":\"y\",\"type\":\"bar\"},{\"alignmentgroup\":\"True\",\"hovertemplate\":\"variable=prix_10<br>value=%{x}<br>Ville=%{y}<extra></extra>\",\"legendgroup\":\"prix_10\",\"marker\":{\"color\":\"#FECB52\",\"pattern\":{\"shape\":\"\"}},\"name\":\"prix_10\",\"offsetgroup\":\"prix_10\",\"orientation\":\"h\",\"showlegend\":true,\"textposition\":\"auto\",\"x\":[62.333333333333336,116.72222222222224,82.72222222222223,71.38888888888889,92.22222222222224,87.88888888888889,78.77777777777777,112.83333333333331,86.22222222222223,80.55555555555556],\"xaxis\":\"x\",\"y\":[\"Agde\",\"Chamonix-Mont-Blanc\",\"Carnac\",\"Argel\\u00e8s-sur-Mer\",\"Quiberon\",\"Le Lavandou\",\"La Grande-Motte\",\"Ramatuelle\",\"Saint-Rapha\\u00ebl\",\"La Baule-Escoublac\"],\"yaxis\":\"y\",\"type\":\"bar\"},{\"alignmentgroup\":\"True\",\"hovertemplate\":\"variable=prix_11<br>value=%{x}<br>Ville=%{y}<extra></extra>\",\"legendgroup\":\"prix_11\",\"marker\":{\"color\":\"#636efa\",\"pattern\":{\"shape\":\"\"}},\"name\":\"prix_11\",\"offsetgroup\":\"prix_11\",\"orientation\":\"h\",\"showlegend\":true,\"textposition\":\"auto\",\"x\":[59.77777777777778,121.33333333333331,73.11111111111111,77.22222222222223,87.5,75.55555555555556,78.0,102.72222222222224,85.44444444444444,83.94444444444444],\"xaxis\":\"x\",\"y\":[\"Agde\",\"Chamonix-Mont-Blanc\",\"Carnac\",\"Argel\\u00e8s-sur-Mer\",\"Quiberon\",\"Le Lavandou\",\"La Grande-Motte\",\"Ramatuelle\",\"Saint-Rapha\\u00ebl\",\"La Baule-Escoublac\"],\"yaxis\":\"y\",\"type\":\"bar\"},{\"alignmentgroup\":\"True\",\"hovertemplate\":\"variable=prix_12<br>value=%{x}<br>Ville=%{y}<extra></extra>\",\"legendgroup\":\"prix_12\",\"marker\":{\"color\":\"#EF553B\",\"pattern\":{\"shape\":\"\"}},\"name\":\"prix_12\",\"offsetgroup\":\"prix_12\",\"orientation\":\"h\",\"showlegend\":true,\"textposition\":\"auto\",\"x\":[62.27777777777778,124.44444444444444,74.55555555555556,77.22222222222223,86.16666666666667,75.61111111111111,77.83333333333333,116.94444444444444,88.16666666666667,90.66666666666669],\"xaxis\":\"x\",\"y\":[\"Agde\",\"Chamonix-Mont-Blanc\",\"Carnac\",\"Argel\\u00e8s-sur-Mer\",\"Quiberon\",\"Le Lavandou\",\"La Grande-Motte\",\"Ramatuelle\",\"Saint-Rapha\\u00ebl\",\"La Baule-Escoublac\"],\"yaxis\":\"y\",\"type\":\"bar\"}],                        {\"template\":{\"data\":{\"histogram2dcontour\":[{\"type\":\"histogram2dcontour\",\"colorbar\":{\"outlinewidth\":0,\"ticks\":\"\"},\"colorscale\":[[0.0,\"#0d0887\"],[0.1111111111111111,\"#46039f\"],[0.2222222222222222,\"#7201a8\"],[0.3333333333333333,\"#9c179e\"],[0.4444444444444444,\"#bd3786\"],[0.5555555555555556,\"#d8576b\"],[0.6666666666666666,\"#ed7953\"],[0.7777777777777778,\"#fb9f3a\"],[0.8888888888888888,\"#fdca26\"],[1.0,\"#f0f921\"]]}],\"choropleth\":[{\"type\":\"choropleth\",\"colorbar\":{\"outlinewidth\":0,\"ticks\":\"\"}}],\"histogram2d\":[{\"type\":\"histogram2d\",\"colorbar\":{\"outlinewidth\":0,\"ticks\":\"\"},\"colorscale\":[[0.0,\"#0d0887\"],[0.1111111111111111,\"#46039f\"],[0.2222222222222222,\"#7201a8\"],[0.3333333333333333,\"#9c179e\"],[0.4444444444444444,\"#bd3786\"],[0.5555555555555556,\"#d8576b\"],[0.6666666666666666,\"#ed7953\"],[0.7777777777777778,\"#fb9f3a\"],[0.8888888888888888,\"#fdca26\"],[1.0,\"#f0f921\"]]}],\"heatmap\":[{\"type\":\"heatmap\",\"colorbar\":{\"outlinewidth\":0,\"ticks\":\"\"},\"colorscale\":[[0.0,\"#0d0887\"],[0.1111111111111111,\"#46039f\"],[0.2222222222222222,\"#7201a8\"],[0.3333333333333333,\"#9c179e\"],[0.4444444444444444,\"#bd3786\"],[0.5555555555555556,\"#d8576b\"],[0.6666666666666666,\"#ed7953\"],[0.7777777777777778,\"#fb9f3a\"],[0.8888888888888888,\"#fdca26\"],[1.0,\"#f0f921\"]]}],\"heatmapgl\":[{\"type\":\"heatmapgl\",\"colorbar\":{\"outlinewidth\":0,\"ticks\":\"\"},\"colorscale\":[[0.0,\"#0d0887\"],[0.1111111111111111,\"#46039f\"],[0.2222222222222222,\"#7201a8\"],[0.3333333333333333,\"#9c179e\"],[0.4444444444444444,\"#bd3786\"],[0.5555555555555556,\"#d8576b\"],[0.6666666666666666,\"#ed7953\"],[0.7777777777777778,\"#fb9f3a\"],[0.8888888888888888,\"#fdca26\"],[1.0,\"#f0f921\"]]}],\"contourcarpet\":[{\"type\":\"contourcarpet\",\"colorbar\":{\"outlinewidth\":0,\"ticks\":\"\"}}],\"contour\":[{\"type\":\"contour\",\"colorbar\":{\"outlinewidth\":0,\"ticks\":\"\"},\"colorscale\":[[0.0,\"#0d0887\"],[0.1111111111111111,\"#46039f\"],[0.2222222222222222,\"#7201a8\"],[0.3333333333333333,\"#9c179e\"],[0.4444444444444444,\"#bd3786\"],[0.5555555555555556,\"#d8576b\"],[0.6666666666666666,\"#ed7953\"],[0.7777777777777778,\"#fb9f3a\"],[0.8888888888888888,\"#fdca26\"],[1.0,\"#f0f921\"]]}],\"surface\":[{\"type\":\"surface\",\"colorbar\":{\"outlinewidth\":0,\"ticks\":\"\"},\"colorscale\":[[0.0,\"#0d0887\"],[0.1111111111111111,\"#46039f\"],[0.2222222222222222,\"#7201a8\"],[0.3333333333333333,\"#9c179e\"],[0.4444444444444444,\"#bd3786\"],[0.5555555555555556,\"#d8576b\"],[0.6666666666666666,\"#ed7953\"],[0.7777777777777778,\"#fb9f3a\"],[0.8888888888888888,\"#fdca26\"],[1.0,\"#f0f921\"]]}],\"mesh3d\":[{\"type\":\"mesh3d\",\"colorbar\":{\"outlinewidth\":0,\"ticks\":\"\"}}],\"scatter\":[{\"fillpattern\":{\"fillmode\":\"overlay\",\"size\":10,\"solidity\":0.2},\"type\":\"scatter\"}],\"parcoords\":[{\"type\":\"parcoords\",\"line\":{\"colorbar\":{\"outlinewidth\":0,\"ticks\":\"\"}}}],\"scatterpolargl\":[{\"type\":\"scatterpolargl\",\"marker\":{\"colorbar\":{\"outlinewidth\":0,\"ticks\":\"\"}}}],\"bar\":[{\"error_x\":{\"color\":\"#2a3f5f\"},\"error_y\":{\"color\":\"#2a3f5f\"},\"marker\":{\"line\":{\"color\":\"#E5ECF6\",\"width\":0.5},\"pattern\":{\"fillmode\":\"overlay\",\"size\":10,\"solidity\":0.2}},\"type\":\"bar\"}],\"scattergeo\":[{\"type\":\"scattergeo\",\"marker\":{\"colorbar\":{\"outlinewidth\":0,\"ticks\":\"\"}}}],\"scatterpolar\":[{\"type\":\"scatterpolar\",\"marker\":{\"colorbar\":{\"outlinewidth\":0,\"ticks\":\"\"}}}],\"histogram\":[{\"marker\":{\"pattern\":{\"fillmode\":\"overlay\",\"size\":10,\"solidity\":0.2}},\"type\":\"histogram\"}],\"scattergl\":[{\"type\":\"scattergl\",\"marker\":{\"colorbar\":{\"outlinewidth\":0,\"ticks\":\"\"}}}],\"scatter3d\":[{\"type\":\"scatter3d\",\"line\":{\"colorbar\":{\"outlinewidth\":0,\"ticks\":\"\"}},\"marker\":{\"colorbar\":{\"outlinewidth\":0,\"ticks\":\"\"}}}],\"scattermapbox\":[{\"type\":\"scattermapbox\",\"marker\":{\"colorbar\":{\"outlinewidth\":0,\"ticks\":\"\"}}}],\"scatterternary\":[{\"type\":\"scatterternary\",\"marker\":{\"colorbar\":{\"outlinewidth\":0,\"ticks\":\"\"}}}],\"scattercarpet\":[{\"type\":\"scattercarpet\",\"marker\":{\"colorbar\":{\"outlinewidth\":0,\"ticks\":\"\"}}}],\"carpet\":[{\"aaxis\":{\"endlinecolor\":\"#2a3f5f\",\"gridcolor\":\"white\",\"linecolor\":\"white\",\"minorgridcolor\":\"white\",\"startlinecolor\":\"#2a3f5f\"},\"baxis\":{\"endlinecolor\":\"#2a3f5f\",\"gridcolor\":\"white\",\"linecolor\":\"white\",\"minorgridcolor\":\"white\",\"startlinecolor\":\"#2a3f5f\"},\"type\":\"carpet\"}],\"table\":[{\"cells\":{\"fill\":{\"color\":\"#EBF0F8\"},\"line\":{\"color\":\"white\"}},\"header\":{\"fill\":{\"color\":\"#C8D4E3\"},\"line\":{\"color\":\"white\"}},\"type\":\"table\"}],\"barpolar\":[{\"marker\":{\"line\":{\"color\":\"#E5ECF6\",\"width\":0.5},\"pattern\":{\"fillmode\":\"overlay\",\"size\":10,\"solidity\":0.2}},\"type\":\"barpolar\"}],\"pie\":[{\"automargin\":true,\"type\":\"pie\"}]},\"layout\":{\"autotypenumbers\":\"strict\",\"colorway\":[\"#636efa\",\"#EF553B\",\"#00cc96\",\"#ab63fa\",\"#FFA15A\",\"#19d3f3\",\"#FF6692\",\"#B6E880\",\"#FF97FF\",\"#FECB52\"],\"font\":{\"color\":\"#2a3f5f\"},\"hovermode\":\"closest\",\"hoverlabel\":{\"align\":\"left\"},\"paper_bgcolor\":\"white\",\"plot_bgcolor\":\"#E5ECF6\",\"polar\":{\"bgcolor\":\"#E5ECF6\",\"angularaxis\":{\"gridcolor\":\"white\",\"linecolor\":\"white\",\"ticks\":\"\"},\"radialaxis\":{\"gridcolor\":\"white\",\"linecolor\":\"white\",\"ticks\":\"\"}},\"ternary\":{\"bgcolor\":\"#E5ECF6\",\"aaxis\":{\"gridcolor\":\"white\",\"linecolor\":\"white\",\"ticks\":\"\"},\"baxis\":{\"gridcolor\":\"white\",\"linecolor\":\"white\",\"ticks\":\"\"},\"caxis\":{\"gridcolor\":\"white\",\"linecolor\":\"white\",\"ticks\":\"\"}},\"coloraxis\":{\"colorbar\":{\"outlinewidth\":0,\"ticks\":\"\"}},\"colorscale\":{\"sequential\":[[0.0,\"#0d0887\"],[0.1111111111111111,\"#46039f\"],[0.2222222222222222,\"#7201a8\"],[0.3333333333333333,\"#9c179e\"],[0.4444444444444444,\"#bd3786\"],[0.5555555555555556,\"#d8576b\"],[0.6666666666666666,\"#ed7953\"],[0.7777777777777778,\"#fb9f3a\"],[0.8888888888888888,\"#fdca26\"],[1.0,\"#f0f921\"]],\"sequentialminus\":[[0.0,\"#0d0887\"],[0.1111111111111111,\"#46039f\"],[0.2222222222222222,\"#7201a8\"],[0.3333333333333333,\"#9c179e\"],[0.4444444444444444,\"#bd3786\"],[0.5555555555555556,\"#d8576b\"],[0.6666666666666666,\"#ed7953\"],[0.7777777777777778,\"#fb9f3a\"],[0.8888888888888888,\"#fdca26\"],[1.0,\"#f0f921\"]],\"diverging\":[[0,\"#8e0152\"],[0.1,\"#c51b7d\"],[0.2,\"#de77ae\"],[0.3,\"#f1b6da\"],[0.4,\"#fde0ef\"],[0.5,\"#f7f7f7\"],[0.6,\"#e6f5d0\"],[0.7,\"#b8e186\"],[0.8,\"#7fbc41\"],[0.9,\"#4d9221\"],[1,\"#276419\"]]},\"xaxis\":{\"gridcolor\":\"white\",\"linecolor\":\"white\",\"ticks\":\"\",\"title\":{\"standoff\":15},\"zerolinecolor\":\"white\",\"automargin\":true,\"zerolinewidth\":2},\"yaxis\":{\"gridcolor\":\"white\",\"linecolor\":\"white\",\"ticks\":\"\",\"title\":{\"standoff\":15},\"zerolinecolor\":\"white\",\"automargin\":true,\"zerolinewidth\":2},\"scene\":{\"xaxis\":{\"backgroundcolor\":\"#E5ECF6\",\"gridcolor\":\"white\",\"linecolor\":\"white\",\"showbackground\":true,\"ticks\":\"\",\"zerolinecolor\":\"white\",\"gridwidth\":2},\"yaxis\":{\"backgroundcolor\":\"#E5ECF6\",\"gridcolor\":\"white\",\"linecolor\":\"white\",\"showbackground\":true,\"ticks\":\"\",\"zerolinecolor\":\"white\",\"gridwidth\":2},\"zaxis\":{\"backgroundcolor\":\"#E5ECF6\",\"gridcolor\":\"white\",\"linecolor\":\"white\",\"showbackground\":true,\"ticks\":\"\",\"zerolinecolor\":\"white\",\"gridwidth\":2}},\"shapedefaults\":{\"line\":{\"color\":\"#2a3f5f\"}},\"annotationdefaults\":{\"arrowcolor\":\"#2a3f5f\",\"arrowhead\":0,\"arrowwidth\":1},\"geo\":{\"bgcolor\":\"white\",\"landcolor\":\"#E5ECF6\",\"subunitcolor\":\"white\",\"showland\":true,\"showlakes\":true,\"lakecolor\":\"white\"},\"title\":{\"x\":0.05},\"mapbox\":{\"style\":\"light\"}}},\"xaxis\":{\"anchor\":\"y\",\"domain\":[0.0,1.0],\"title\":{\"text\":\"value\"}},\"yaxis\":{\"anchor\":\"x\",\"domain\":[0.0,1.0],\"title\":{\"text\":\"Ville\"}},\"legend\":{\"title\":{\"text\":\"variable\"},\"tracegroupgap\":0},\"margin\":{\"t\":60},\"barmode\":\"relative\"},                        {\"responsive\": true}                    ).then(function(){\n",
       "                            \n",
       "var gd = document.getElementById('eed995ce-8470-412e-ab8d-d782eb7562cf');\n",
       "var x = new MutationObserver(function (mutations, observer) {{\n",
       "        var display = window.getComputedStyle(gd).display;\n",
       "        if (!display || display === 'none') {{\n",
       "            console.log([gd, 'removed!']);\n",
       "            Plotly.purge(gd);\n",
       "            observer.disconnect();\n",
       "        }}\n",
       "}});\n",
       "\n",
       "// Listen for the removal of the full notebook cells\n",
       "var notebookContainer = gd.closest('#notebook-container');\n",
       "if (notebookContainer) {{\n",
       "    x.observe(notebookContainer, {childList: true});\n",
       "}}\n",
       "\n",
       "// Listen for the clearing of the current output cell\n",
       "var outputEl = gd.closest('.output');\n",
       "if (outputEl) {{\n",
       "    x.observe(outputEl, {childList: true});\n",
       "}}\n",
       "\n",
       "                        })                };                });            </script>        </div>"
      ]
     },
     "metadata": {},
     "output_type": "display_data"
    }
   ],
   "source": [
    "fig = px.bar(villes, x=[\"prix_01\",\"prix_02\",\"prix_03\",\"prix_04\",\"prix_05\",\"prix_06\",\"prix_07\",\"prix_08\",\"prix_09\", \"prix_10\", \"prix_11\", \"prix_12\"], y = \"Ville\")\n",
    "fig.show()"
   ]
  },
  {
   "cell_type": "code",
   "execution_count": 49,
   "id": "cd0f45ed",
   "metadata": {},
   "outputs": [
    {
     "data": {
      "application/vnd.plotly.v1+json": {
       "config": {
        "plotlyServerURL": "https://plot.ly"
       },
       "data": [
        {
         "hovertemplate": "variable=prix_01<br>Ville=%{x}<br>value=%{y}<extra></extra>",
         "legendgroup": "prix_01",
         "line": {
          "color": "#636efa",
          "dash": "solid"
         },
         "marker": {
          "symbol": "circle"
         },
         "mode": "lines",
         "name": "prix_01",
         "orientation": "v",
         "showlegend": true,
         "type": "scatter",
         "x": [
          "Agde",
          "Chamonix-Mont-Blanc",
          "Carnac",
          "Argelès-sur-Mer",
          "Quiberon",
          "Le Lavandou",
          "La Grande-Motte",
          "Ramatuelle",
          "Saint-Raphaël",
          "La Baule-Escoublac"
         ],
         "xaxis": "x",
         "y": [
          57,
          115.55555555555556,
          85.11111111111111,
          62,
          80.66666666666667,
          78.83333333333333,
          51.77777777777778,
          79.16666666666667,
          91.27777777777776,
          77.83333333333333
         ],
         "yaxis": "y"
        },
        {
         "hovertemplate": "variable=prix_02<br>Ville=%{x}<br>value=%{y}<extra></extra>",
         "legendgroup": "prix_02",
         "line": {
          "color": "#EF553B",
          "dash": "solid"
         },
         "marker": {
          "symbol": "circle"
         },
         "mode": "lines",
         "name": "prix_02",
         "orientation": "v",
         "showlegend": true,
         "type": "scatter",
         "x": [
          "Agde",
          "Chamonix-Mont-Blanc",
          "Carnac",
          "Argelès-sur-Mer",
          "Quiberon",
          "Le Lavandou",
          "La Grande-Motte",
          "Ramatuelle",
          "Saint-Raphaël",
          "La Baule-Escoublac"
         ],
         "xaxis": "x",
         "y": [
          60.77777777777778,
          159,
          74.94444444444444,
          67.55555555555556,
          94.77777777777776,
          76.5,
          66.77777777777777,
          89.66666666666667,
          84.33333333333333,
          89.94444444444444
         ],
         "yaxis": "y"
        },
        {
         "hovertemplate": "variable=prix_03<br>Ville=%{x}<br>value=%{y}<extra></extra>",
         "legendgroup": "prix_03",
         "line": {
          "color": "#00cc96",
          "dash": "solid"
         },
         "marker": {
          "symbol": "circle"
         },
         "mode": "lines",
         "name": "prix_03",
         "orientation": "v",
         "showlegend": true,
         "type": "scatter",
         "x": [
          "Agde",
          "Chamonix-Mont-Blanc",
          "Carnac",
          "Argelès-sur-Mer",
          "Quiberon",
          "Le Lavandou",
          "La Grande-Motte",
          "Ramatuelle",
          "Saint-Raphaël",
          "La Baule-Escoublac"
         ],
         "xaxis": "x",
         "y": [
          52.94444444444444,
          113.38888888888889,
          72.55555555555556,
          74.27777777777777,
          88.94444444444444,
          76.33333333333333,
          55.333333333333336,
          80.94444444444444,
          74.83333333333333,
          88
         ],
         "yaxis": "y"
        },
        {
         "hovertemplate": "variable=prix_04<br>Ville=%{x}<br>value=%{y}<extra></extra>",
         "legendgroup": "prix_04",
         "line": {
          "color": "#ab63fa",
          "dash": "solid"
         },
         "marker": {
          "symbol": "circle"
         },
         "mode": "lines",
         "name": "prix_04",
         "orientation": "v",
         "showlegend": true,
         "type": "scatter",
         "x": [
          "Agde",
          "Chamonix-Mont-Blanc",
          "Carnac",
          "Argelès-sur-Mer",
          "Quiberon",
          "Le Lavandou",
          "La Grande-Motte",
          "Ramatuelle",
          "Saint-Raphaël",
          "La Baule-Escoublac"
         ],
         "xaxis": "x",
         "y": [
          70.11111111111111,
          121.66666666666669,
          79.5,
          77.55555555555556,
          93.61111111111111,
          87.61111111111111,
          73.55555555555556,
          117.77777777777776,
          81.61111111111111,
          91.61111111111111
         ],
         "yaxis": "y"
        },
        {
         "hovertemplate": "variable=prix_05<br>Ville=%{x}<br>value=%{y}<extra></extra>",
         "legendgroup": "prix_05",
         "line": {
          "color": "#FFA15A",
          "dash": "solid"
         },
         "marker": {
          "symbol": "circle"
         },
         "mode": "lines",
         "name": "prix_05",
         "orientation": "v",
         "showlegend": true,
         "type": "scatter",
         "x": [
          "Agde",
          "Chamonix-Mont-Blanc",
          "Carnac",
          "Argelès-sur-Mer",
          "Quiberon",
          "Le Lavandou",
          "La Grande-Motte",
          "Ramatuelle",
          "Saint-Raphaël",
          "La Baule-Escoublac"
         ],
         "xaxis": "x",
         "y": [
          74.55555555555556,
          100.88888888888889,
          81.72222222222223,
          87.22222222222223,
          94.38888888888889,
          88.11111111111111,
          77.66666666666667,
          143.66666666666666,
          83.94444444444444,
          98.22222222222224
         ],
         "yaxis": "y"
        },
        {
         "hovertemplate": "variable=prix_06<br>Ville=%{x}<br>value=%{y}<extra></extra>",
         "legendgroup": "prix_06",
         "line": {
          "color": "#19d3f3",
          "dash": "solid"
         },
         "marker": {
          "symbol": "circle"
         },
         "mode": "lines",
         "name": "prix_06",
         "orientation": "v",
         "showlegend": true,
         "type": "scatter",
         "x": [
          "Agde",
          "Chamonix-Mont-Blanc",
          "Carnac",
          "Argelès-sur-Mer",
          "Quiberon",
          "Le Lavandou",
          "La Grande-Motte",
          "Ramatuelle",
          "Saint-Raphaël",
          "La Baule-Escoublac"
         ],
         "xaxis": "x",
         "y": [
          72.72222222222223,
          107.55555555555556,
          93.33333333333331,
          76.22222222222223,
          94.27777777777776,
          95.77777777777776,
          69.83333333333333,
          147.22222222222223,
          97.72222222222224,
          85.33333333333333
         ],
         "yaxis": "y"
        },
        {
         "hovertemplate": "variable=prix_07<br>Ville=%{x}<br>value=%{y}<extra></extra>",
         "legendgroup": "prix_07",
         "line": {
          "color": "#FF6692",
          "dash": "solid"
         },
         "marker": {
          "symbol": "circle"
         },
         "mode": "lines",
         "name": "prix_07",
         "orientation": "v",
         "showlegend": true,
         "type": "scatter",
         "x": [
          "Agde",
          "Chamonix-Mont-Blanc",
          "Carnac",
          "Argelès-sur-Mer",
          "Quiberon",
          "Le Lavandou",
          "La Grande-Motte",
          "Ramatuelle",
          "Saint-Raphaël",
          "La Baule-Escoublac"
         ],
         "xaxis": "x",
         "y": [
          126.66666666666669,
          120.27777777777776,
          108.11111111111111,
          110.66666666666669,
          111.5,
          134.88888888888889,
          86.77777777777777,
          176.22222222222223,
          126.27777777777776,
          101.38888888888889
         ],
         "yaxis": "y"
        },
        {
         "hovertemplate": "variable=prix_08<br>Ville=%{x}<br>value=%{y}<extra></extra>",
         "legendgroup": "prix_08",
         "line": {
          "color": "#B6E880",
          "dash": "solid"
         },
         "marker": {
          "symbol": "circle"
         },
         "mode": "lines",
         "name": "prix_08",
         "orientation": "v",
         "showlegend": true,
         "type": "scatter",
         "x": [
          "Agde",
          "Chamonix-Mont-Blanc",
          "Carnac",
          "Argelès-sur-Mer",
          "Quiberon",
          "Le Lavandou",
          "La Grande-Motte",
          "Ramatuelle",
          "Saint-Raphaël",
          "La Baule-Escoublac"
         ],
         "xaxis": "x",
         "y": [
          131.22222222222223,
          133.61111111111111,
          128.72222222222223,
          113.22222222222224,
          129.22222222222223,
          152.88888888888889,
          86.44444444444444,
          211,
          131.55555555555554,
          102.61111111111111
         ],
         "yaxis": "y"
        }
       ],
       "layout": {
        "legend": {
         "title": {
          "text": "variable"
         },
         "tracegroupgap": 0
        },
        "margin": {
         "t": 60
        },
        "template": {
         "data": {
          "bar": [
           {
            "error_x": {
             "color": "#2a3f5f"
            },
            "error_y": {
             "color": "#2a3f5f"
            },
            "marker": {
             "line": {
              "color": "#E5ECF6",
              "width": 0.5
             },
             "pattern": {
              "fillmode": "overlay",
              "size": 10,
              "solidity": 0.2
             }
            },
            "type": "bar"
           }
          ],
          "barpolar": [
           {
            "marker": {
             "line": {
              "color": "#E5ECF6",
              "width": 0.5
             },
             "pattern": {
              "fillmode": "overlay",
              "size": 10,
              "solidity": 0.2
             }
            },
            "type": "barpolar"
           }
          ],
          "carpet": [
           {
            "aaxis": {
             "endlinecolor": "#2a3f5f",
             "gridcolor": "white",
             "linecolor": "white",
             "minorgridcolor": "white",
             "startlinecolor": "#2a3f5f"
            },
            "baxis": {
             "endlinecolor": "#2a3f5f",
             "gridcolor": "white",
             "linecolor": "white",
             "minorgridcolor": "white",
             "startlinecolor": "#2a3f5f"
            },
            "type": "carpet"
           }
          ],
          "choropleth": [
           {
            "colorbar": {
             "outlinewidth": 0,
             "ticks": ""
            },
            "type": "choropleth"
           }
          ],
          "contour": [
           {
            "colorbar": {
             "outlinewidth": 0,
             "ticks": ""
            },
            "colorscale": [
             [
              0,
              "#0d0887"
             ],
             [
              0.1111111111111111,
              "#46039f"
             ],
             [
              0.2222222222222222,
              "#7201a8"
             ],
             [
              0.3333333333333333,
              "#9c179e"
             ],
             [
              0.4444444444444444,
              "#bd3786"
             ],
             [
              0.5555555555555556,
              "#d8576b"
             ],
             [
              0.6666666666666666,
              "#ed7953"
             ],
             [
              0.7777777777777778,
              "#fb9f3a"
             ],
             [
              0.8888888888888888,
              "#fdca26"
             ],
             [
              1,
              "#f0f921"
             ]
            ],
            "type": "contour"
           }
          ],
          "contourcarpet": [
           {
            "colorbar": {
             "outlinewidth": 0,
             "ticks": ""
            },
            "type": "contourcarpet"
           }
          ],
          "heatmap": [
           {
            "colorbar": {
             "outlinewidth": 0,
             "ticks": ""
            },
            "colorscale": [
             [
              0,
              "#0d0887"
             ],
             [
              0.1111111111111111,
              "#46039f"
             ],
             [
              0.2222222222222222,
              "#7201a8"
             ],
             [
              0.3333333333333333,
              "#9c179e"
             ],
             [
              0.4444444444444444,
              "#bd3786"
             ],
             [
              0.5555555555555556,
              "#d8576b"
             ],
             [
              0.6666666666666666,
              "#ed7953"
             ],
             [
              0.7777777777777778,
              "#fb9f3a"
             ],
             [
              0.8888888888888888,
              "#fdca26"
             ],
             [
              1,
              "#f0f921"
             ]
            ],
            "type": "heatmap"
           }
          ],
          "heatmapgl": [
           {
            "colorbar": {
             "outlinewidth": 0,
             "ticks": ""
            },
            "colorscale": [
             [
              0,
              "#0d0887"
             ],
             [
              0.1111111111111111,
              "#46039f"
             ],
             [
              0.2222222222222222,
              "#7201a8"
             ],
             [
              0.3333333333333333,
              "#9c179e"
             ],
             [
              0.4444444444444444,
              "#bd3786"
             ],
             [
              0.5555555555555556,
              "#d8576b"
             ],
             [
              0.6666666666666666,
              "#ed7953"
             ],
             [
              0.7777777777777778,
              "#fb9f3a"
             ],
             [
              0.8888888888888888,
              "#fdca26"
             ],
             [
              1,
              "#f0f921"
             ]
            ],
            "type": "heatmapgl"
           }
          ],
          "histogram": [
           {
            "marker": {
             "pattern": {
              "fillmode": "overlay",
              "size": 10,
              "solidity": 0.2
             }
            },
            "type": "histogram"
           }
          ],
          "histogram2d": [
           {
            "colorbar": {
             "outlinewidth": 0,
             "ticks": ""
            },
            "colorscale": [
             [
              0,
              "#0d0887"
             ],
             [
              0.1111111111111111,
              "#46039f"
             ],
             [
              0.2222222222222222,
              "#7201a8"
             ],
             [
              0.3333333333333333,
              "#9c179e"
             ],
             [
              0.4444444444444444,
              "#bd3786"
             ],
             [
              0.5555555555555556,
              "#d8576b"
             ],
             [
              0.6666666666666666,
              "#ed7953"
             ],
             [
              0.7777777777777778,
              "#fb9f3a"
             ],
             [
              0.8888888888888888,
              "#fdca26"
             ],
             [
              1,
              "#f0f921"
             ]
            ],
            "type": "histogram2d"
           }
          ],
          "histogram2dcontour": [
           {
            "colorbar": {
             "outlinewidth": 0,
             "ticks": ""
            },
            "colorscale": [
             [
              0,
              "#0d0887"
             ],
             [
              0.1111111111111111,
              "#46039f"
             ],
             [
              0.2222222222222222,
              "#7201a8"
             ],
             [
              0.3333333333333333,
              "#9c179e"
             ],
             [
              0.4444444444444444,
              "#bd3786"
             ],
             [
              0.5555555555555556,
              "#d8576b"
             ],
             [
              0.6666666666666666,
              "#ed7953"
             ],
             [
              0.7777777777777778,
              "#fb9f3a"
             ],
             [
              0.8888888888888888,
              "#fdca26"
             ],
             [
              1,
              "#f0f921"
             ]
            ],
            "type": "histogram2dcontour"
           }
          ],
          "mesh3d": [
           {
            "colorbar": {
             "outlinewidth": 0,
             "ticks": ""
            },
            "type": "mesh3d"
           }
          ],
          "parcoords": [
           {
            "line": {
             "colorbar": {
              "outlinewidth": 0,
              "ticks": ""
             }
            },
            "type": "parcoords"
           }
          ],
          "pie": [
           {
            "automargin": true,
            "type": "pie"
           }
          ],
          "scatter": [
           {
            "fillpattern": {
             "fillmode": "overlay",
             "size": 10,
             "solidity": 0.2
            },
            "type": "scatter"
           }
          ],
          "scatter3d": [
           {
            "line": {
             "colorbar": {
              "outlinewidth": 0,
              "ticks": ""
             }
            },
            "marker": {
             "colorbar": {
              "outlinewidth": 0,
              "ticks": ""
             }
            },
            "type": "scatter3d"
           }
          ],
          "scattercarpet": [
           {
            "marker": {
             "colorbar": {
              "outlinewidth": 0,
              "ticks": ""
             }
            },
            "type": "scattercarpet"
           }
          ],
          "scattergeo": [
           {
            "marker": {
             "colorbar": {
              "outlinewidth": 0,
              "ticks": ""
             }
            },
            "type": "scattergeo"
           }
          ],
          "scattergl": [
           {
            "marker": {
             "colorbar": {
              "outlinewidth": 0,
              "ticks": ""
             }
            },
            "type": "scattergl"
           }
          ],
          "scattermapbox": [
           {
            "marker": {
             "colorbar": {
              "outlinewidth": 0,
              "ticks": ""
             }
            },
            "type": "scattermapbox"
           }
          ],
          "scatterpolar": [
           {
            "marker": {
             "colorbar": {
              "outlinewidth": 0,
              "ticks": ""
             }
            },
            "type": "scatterpolar"
           }
          ],
          "scatterpolargl": [
           {
            "marker": {
             "colorbar": {
              "outlinewidth": 0,
              "ticks": ""
             }
            },
            "type": "scatterpolargl"
           }
          ],
          "scatterternary": [
           {
            "marker": {
             "colorbar": {
              "outlinewidth": 0,
              "ticks": ""
             }
            },
            "type": "scatterternary"
           }
          ],
          "surface": [
           {
            "colorbar": {
             "outlinewidth": 0,
             "ticks": ""
            },
            "colorscale": [
             [
              0,
              "#0d0887"
             ],
             [
              0.1111111111111111,
              "#46039f"
             ],
             [
              0.2222222222222222,
              "#7201a8"
             ],
             [
              0.3333333333333333,
              "#9c179e"
             ],
             [
              0.4444444444444444,
              "#bd3786"
             ],
             [
              0.5555555555555556,
              "#d8576b"
             ],
             [
              0.6666666666666666,
              "#ed7953"
             ],
             [
              0.7777777777777778,
              "#fb9f3a"
             ],
             [
              0.8888888888888888,
              "#fdca26"
             ],
             [
              1,
              "#f0f921"
             ]
            ],
            "type": "surface"
           }
          ],
          "table": [
           {
            "cells": {
             "fill": {
              "color": "#EBF0F8"
             },
             "line": {
              "color": "white"
             }
            },
            "header": {
             "fill": {
              "color": "#C8D4E3"
             },
             "line": {
              "color": "white"
             }
            },
            "type": "table"
           }
          ]
         },
         "layout": {
          "annotationdefaults": {
           "arrowcolor": "#2a3f5f",
           "arrowhead": 0,
           "arrowwidth": 1
          },
          "autotypenumbers": "strict",
          "coloraxis": {
           "colorbar": {
            "outlinewidth": 0,
            "ticks": ""
           }
          },
          "colorscale": {
           "diverging": [
            [
             0,
             "#8e0152"
            ],
            [
             0.1,
             "#c51b7d"
            ],
            [
             0.2,
             "#de77ae"
            ],
            [
             0.3,
             "#f1b6da"
            ],
            [
             0.4,
             "#fde0ef"
            ],
            [
             0.5,
             "#f7f7f7"
            ],
            [
             0.6,
             "#e6f5d0"
            ],
            [
             0.7,
             "#b8e186"
            ],
            [
             0.8,
             "#7fbc41"
            ],
            [
             0.9,
             "#4d9221"
            ],
            [
             1,
             "#276419"
            ]
           ],
           "sequential": [
            [
             0,
             "#0d0887"
            ],
            [
             0.1111111111111111,
             "#46039f"
            ],
            [
             0.2222222222222222,
             "#7201a8"
            ],
            [
             0.3333333333333333,
             "#9c179e"
            ],
            [
             0.4444444444444444,
             "#bd3786"
            ],
            [
             0.5555555555555556,
             "#d8576b"
            ],
            [
             0.6666666666666666,
             "#ed7953"
            ],
            [
             0.7777777777777778,
             "#fb9f3a"
            ],
            [
             0.8888888888888888,
             "#fdca26"
            ],
            [
             1,
             "#f0f921"
            ]
           ],
           "sequentialminus": [
            [
             0,
             "#0d0887"
            ],
            [
             0.1111111111111111,
             "#46039f"
            ],
            [
             0.2222222222222222,
             "#7201a8"
            ],
            [
             0.3333333333333333,
             "#9c179e"
            ],
            [
             0.4444444444444444,
             "#bd3786"
            ],
            [
             0.5555555555555556,
             "#d8576b"
            ],
            [
             0.6666666666666666,
             "#ed7953"
            ],
            [
             0.7777777777777778,
             "#fb9f3a"
            ],
            [
             0.8888888888888888,
             "#fdca26"
            ],
            [
             1,
             "#f0f921"
            ]
           ]
          },
          "colorway": [
           "#636efa",
           "#EF553B",
           "#00cc96",
           "#ab63fa",
           "#FFA15A",
           "#19d3f3",
           "#FF6692",
           "#B6E880",
           "#FF97FF",
           "#FECB52"
          ],
          "font": {
           "color": "#2a3f5f"
          },
          "geo": {
           "bgcolor": "white",
           "lakecolor": "white",
           "landcolor": "#E5ECF6",
           "showlakes": true,
           "showland": true,
           "subunitcolor": "white"
          },
          "hoverlabel": {
           "align": "left"
          },
          "hovermode": "closest",
          "mapbox": {
           "style": "light"
          },
          "paper_bgcolor": "white",
          "plot_bgcolor": "#E5ECF6",
          "polar": {
           "angularaxis": {
            "gridcolor": "white",
            "linecolor": "white",
            "ticks": ""
           },
           "bgcolor": "#E5ECF6",
           "radialaxis": {
            "gridcolor": "white",
            "linecolor": "white",
            "ticks": ""
           }
          },
          "scene": {
           "xaxis": {
            "backgroundcolor": "#E5ECF6",
            "gridcolor": "white",
            "gridwidth": 2,
            "linecolor": "white",
            "showbackground": true,
            "ticks": "",
            "zerolinecolor": "white"
           },
           "yaxis": {
            "backgroundcolor": "#E5ECF6",
            "gridcolor": "white",
            "gridwidth": 2,
            "linecolor": "white",
            "showbackground": true,
            "ticks": "",
            "zerolinecolor": "white"
           },
           "zaxis": {
            "backgroundcolor": "#E5ECF6",
            "gridcolor": "white",
            "gridwidth": 2,
            "linecolor": "white",
            "showbackground": true,
            "ticks": "",
            "zerolinecolor": "white"
           }
          },
          "shapedefaults": {
           "line": {
            "color": "#2a3f5f"
           }
          },
          "ternary": {
           "aaxis": {
            "gridcolor": "white",
            "linecolor": "white",
            "ticks": ""
           },
           "baxis": {
            "gridcolor": "white",
            "linecolor": "white",
            "ticks": ""
           },
           "bgcolor": "#E5ECF6",
           "caxis": {
            "gridcolor": "white",
            "linecolor": "white",
            "ticks": ""
           }
          },
          "title": {
           "x": 0.05
          },
          "xaxis": {
           "automargin": true,
           "gridcolor": "white",
           "linecolor": "white",
           "ticks": "",
           "title": {
            "standoff": 15
           },
           "zerolinecolor": "white",
           "zerolinewidth": 2
          },
          "yaxis": {
           "automargin": true,
           "gridcolor": "white",
           "linecolor": "white",
           "ticks": "",
           "title": {
            "standoff": 15
           },
           "zerolinecolor": "white",
           "zerolinewidth": 2
          }
         }
        },
        "xaxis": {
         "anchor": "y",
         "domain": [
          0,
          1
         ],
         "title": {
          "text": "Ville"
         }
        },
        "yaxis": {
         "anchor": "x",
         "domain": [
          0,
          1
         ],
         "title": {
          "text": "value"
         }
        }
       }
      },
      "text/html": [
       "<div>                            <div id=\"039584d3-c090-42ff-aa7c-9e7d5f6c5e40\" class=\"plotly-graph-div\" style=\"height:525px; width:100%;\"></div>            <script type=\"text/javascript\">                require([\"plotly\"], function(Plotly) {                    window.PLOTLYENV=window.PLOTLYENV || {};                                    if (document.getElementById(\"039584d3-c090-42ff-aa7c-9e7d5f6c5e40\")) {                    Plotly.newPlot(                        \"039584d3-c090-42ff-aa7c-9e7d5f6c5e40\",                        [{\"hovertemplate\":\"variable=prix_01<br>Ville=%{x}<br>value=%{y}<extra></extra>\",\"legendgroup\":\"prix_01\",\"line\":{\"color\":\"#636efa\",\"dash\":\"solid\"},\"marker\":{\"symbol\":\"circle\"},\"mode\":\"lines\",\"name\":\"prix_01\",\"orientation\":\"v\",\"showlegend\":true,\"x\":[\"Agde\",\"Chamonix-Mont-Blanc\",\"Carnac\",\"Argel\\u00e8s-sur-Mer\",\"Quiberon\",\"Le Lavandou\",\"La Grande-Motte\",\"Ramatuelle\",\"Saint-Rapha\\u00ebl\",\"La Baule-Escoublac\"],\"xaxis\":\"x\",\"y\":[57.0,115.55555555555556,85.11111111111111,62.0,80.66666666666667,78.83333333333333,51.77777777777778,79.16666666666667,91.27777777777776,77.83333333333333],\"yaxis\":\"y\",\"type\":\"scatter\"},{\"hovertemplate\":\"variable=prix_02<br>Ville=%{x}<br>value=%{y}<extra></extra>\",\"legendgroup\":\"prix_02\",\"line\":{\"color\":\"#EF553B\",\"dash\":\"solid\"},\"marker\":{\"symbol\":\"circle\"},\"mode\":\"lines\",\"name\":\"prix_02\",\"orientation\":\"v\",\"showlegend\":true,\"x\":[\"Agde\",\"Chamonix-Mont-Blanc\",\"Carnac\",\"Argel\\u00e8s-sur-Mer\",\"Quiberon\",\"Le Lavandou\",\"La Grande-Motte\",\"Ramatuelle\",\"Saint-Rapha\\u00ebl\",\"La Baule-Escoublac\"],\"xaxis\":\"x\",\"y\":[60.77777777777778,159.0,74.94444444444444,67.55555555555556,94.77777777777776,76.5,66.77777777777777,89.66666666666667,84.33333333333333,89.94444444444444],\"yaxis\":\"y\",\"type\":\"scatter\"},{\"hovertemplate\":\"variable=prix_03<br>Ville=%{x}<br>value=%{y}<extra></extra>\",\"legendgroup\":\"prix_03\",\"line\":{\"color\":\"#00cc96\",\"dash\":\"solid\"},\"marker\":{\"symbol\":\"circle\"},\"mode\":\"lines\",\"name\":\"prix_03\",\"orientation\":\"v\",\"showlegend\":true,\"x\":[\"Agde\",\"Chamonix-Mont-Blanc\",\"Carnac\",\"Argel\\u00e8s-sur-Mer\",\"Quiberon\",\"Le Lavandou\",\"La Grande-Motte\",\"Ramatuelle\",\"Saint-Rapha\\u00ebl\",\"La Baule-Escoublac\"],\"xaxis\":\"x\",\"y\":[52.94444444444444,113.38888888888889,72.55555555555556,74.27777777777777,88.94444444444444,76.33333333333333,55.333333333333336,80.94444444444444,74.83333333333333,88.0],\"yaxis\":\"y\",\"type\":\"scatter\"},{\"hovertemplate\":\"variable=prix_04<br>Ville=%{x}<br>value=%{y}<extra></extra>\",\"legendgroup\":\"prix_04\",\"line\":{\"color\":\"#ab63fa\",\"dash\":\"solid\"},\"marker\":{\"symbol\":\"circle\"},\"mode\":\"lines\",\"name\":\"prix_04\",\"orientation\":\"v\",\"showlegend\":true,\"x\":[\"Agde\",\"Chamonix-Mont-Blanc\",\"Carnac\",\"Argel\\u00e8s-sur-Mer\",\"Quiberon\",\"Le Lavandou\",\"La Grande-Motte\",\"Ramatuelle\",\"Saint-Rapha\\u00ebl\",\"La Baule-Escoublac\"],\"xaxis\":\"x\",\"y\":[70.11111111111111,121.66666666666669,79.5,77.55555555555556,93.61111111111111,87.61111111111111,73.55555555555556,117.77777777777776,81.61111111111111,91.61111111111111],\"yaxis\":\"y\",\"type\":\"scatter\"},{\"hovertemplate\":\"variable=prix_05<br>Ville=%{x}<br>value=%{y}<extra></extra>\",\"legendgroup\":\"prix_05\",\"line\":{\"color\":\"#FFA15A\",\"dash\":\"solid\"},\"marker\":{\"symbol\":\"circle\"},\"mode\":\"lines\",\"name\":\"prix_05\",\"orientation\":\"v\",\"showlegend\":true,\"x\":[\"Agde\",\"Chamonix-Mont-Blanc\",\"Carnac\",\"Argel\\u00e8s-sur-Mer\",\"Quiberon\",\"Le Lavandou\",\"La Grande-Motte\",\"Ramatuelle\",\"Saint-Rapha\\u00ebl\",\"La Baule-Escoublac\"],\"xaxis\":\"x\",\"y\":[74.55555555555556,100.88888888888889,81.72222222222223,87.22222222222223,94.38888888888889,88.11111111111111,77.66666666666667,143.66666666666666,83.94444444444444,98.22222222222224],\"yaxis\":\"y\",\"type\":\"scatter\"},{\"hovertemplate\":\"variable=prix_06<br>Ville=%{x}<br>value=%{y}<extra></extra>\",\"legendgroup\":\"prix_06\",\"line\":{\"color\":\"#19d3f3\",\"dash\":\"solid\"},\"marker\":{\"symbol\":\"circle\"},\"mode\":\"lines\",\"name\":\"prix_06\",\"orientation\":\"v\",\"showlegend\":true,\"x\":[\"Agde\",\"Chamonix-Mont-Blanc\",\"Carnac\",\"Argel\\u00e8s-sur-Mer\",\"Quiberon\",\"Le Lavandou\",\"La Grande-Motte\",\"Ramatuelle\",\"Saint-Rapha\\u00ebl\",\"La Baule-Escoublac\"],\"xaxis\":\"x\",\"y\":[72.72222222222223,107.55555555555556,93.33333333333331,76.22222222222223,94.27777777777776,95.77777777777776,69.83333333333333,147.22222222222223,97.72222222222224,85.33333333333333],\"yaxis\":\"y\",\"type\":\"scatter\"},{\"hovertemplate\":\"variable=prix_07<br>Ville=%{x}<br>value=%{y}<extra></extra>\",\"legendgroup\":\"prix_07\",\"line\":{\"color\":\"#FF6692\",\"dash\":\"solid\"},\"marker\":{\"symbol\":\"circle\"},\"mode\":\"lines\",\"name\":\"prix_07\",\"orientation\":\"v\",\"showlegend\":true,\"x\":[\"Agde\",\"Chamonix-Mont-Blanc\",\"Carnac\",\"Argel\\u00e8s-sur-Mer\",\"Quiberon\",\"Le Lavandou\",\"La Grande-Motte\",\"Ramatuelle\",\"Saint-Rapha\\u00ebl\",\"La Baule-Escoublac\"],\"xaxis\":\"x\",\"y\":[126.66666666666669,120.27777777777776,108.11111111111111,110.66666666666669,111.5,134.88888888888889,86.77777777777777,176.22222222222223,126.27777777777776,101.38888888888889],\"yaxis\":\"y\",\"type\":\"scatter\"},{\"hovertemplate\":\"variable=prix_08<br>Ville=%{x}<br>value=%{y}<extra></extra>\",\"legendgroup\":\"prix_08\",\"line\":{\"color\":\"#B6E880\",\"dash\":\"solid\"},\"marker\":{\"symbol\":\"circle\"},\"mode\":\"lines\",\"name\":\"prix_08\",\"orientation\":\"v\",\"showlegend\":true,\"x\":[\"Agde\",\"Chamonix-Mont-Blanc\",\"Carnac\",\"Argel\\u00e8s-sur-Mer\",\"Quiberon\",\"Le Lavandou\",\"La Grande-Motte\",\"Ramatuelle\",\"Saint-Rapha\\u00ebl\",\"La Baule-Escoublac\"],\"xaxis\":\"x\",\"y\":[131.22222222222223,133.61111111111111,128.72222222222223,113.22222222222224,129.22222222222223,152.88888888888889,86.44444444444444,211.0,131.55555555555554,102.61111111111111],\"yaxis\":\"y\",\"type\":\"scatter\"}],                        {\"template\":{\"data\":{\"histogram2dcontour\":[{\"type\":\"histogram2dcontour\",\"colorbar\":{\"outlinewidth\":0,\"ticks\":\"\"},\"colorscale\":[[0.0,\"#0d0887\"],[0.1111111111111111,\"#46039f\"],[0.2222222222222222,\"#7201a8\"],[0.3333333333333333,\"#9c179e\"],[0.4444444444444444,\"#bd3786\"],[0.5555555555555556,\"#d8576b\"],[0.6666666666666666,\"#ed7953\"],[0.7777777777777778,\"#fb9f3a\"],[0.8888888888888888,\"#fdca26\"],[1.0,\"#f0f921\"]]}],\"choropleth\":[{\"type\":\"choropleth\",\"colorbar\":{\"outlinewidth\":0,\"ticks\":\"\"}}],\"histogram2d\":[{\"type\":\"histogram2d\",\"colorbar\":{\"outlinewidth\":0,\"ticks\":\"\"},\"colorscale\":[[0.0,\"#0d0887\"],[0.1111111111111111,\"#46039f\"],[0.2222222222222222,\"#7201a8\"],[0.3333333333333333,\"#9c179e\"],[0.4444444444444444,\"#bd3786\"],[0.5555555555555556,\"#d8576b\"],[0.6666666666666666,\"#ed7953\"],[0.7777777777777778,\"#fb9f3a\"],[0.8888888888888888,\"#fdca26\"],[1.0,\"#f0f921\"]]}],\"heatmap\":[{\"type\":\"heatmap\",\"colorbar\":{\"outlinewidth\":0,\"ticks\":\"\"},\"colorscale\":[[0.0,\"#0d0887\"],[0.1111111111111111,\"#46039f\"],[0.2222222222222222,\"#7201a8\"],[0.3333333333333333,\"#9c179e\"],[0.4444444444444444,\"#bd3786\"],[0.5555555555555556,\"#d8576b\"],[0.6666666666666666,\"#ed7953\"],[0.7777777777777778,\"#fb9f3a\"],[0.8888888888888888,\"#fdca26\"],[1.0,\"#f0f921\"]]}],\"heatmapgl\":[{\"type\":\"heatmapgl\",\"colorbar\":{\"outlinewidth\":0,\"ticks\":\"\"},\"colorscale\":[[0.0,\"#0d0887\"],[0.1111111111111111,\"#46039f\"],[0.2222222222222222,\"#7201a8\"],[0.3333333333333333,\"#9c179e\"],[0.4444444444444444,\"#bd3786\"],[0.5555555555555556,\"#d8576b\"],[0.6666666666666666,\"#ed7953\"],[0.7777777777777778,\"#fb9f3a\"],[0.8888888888888888,\"#fdca26\"],[1.0,\"#f0f921\"]]}],\"contourcarpet\":[{\"type\":\"contourcarpet\",\"colorbar\":{\"outlinewidth\":0,\"ticks\":\"\"}}],\"contour\":[{\"type\":\"contour\",\"colorbar\":{\"outlinewidth\":0,\"ticks\":\"\"},\"colorscale\":[[0.0,\"#0d0887\"],[0.1111111111111111,\"#46039f\"],[0.2222222222222222,\"#7201a8\"],[0.3333333333333333,\"#9c179e\"],[0.4444444444444444,\"#bd3786\"],[0.5555555555555556,\"#d8576b\"],[0.6666666666666666,\"#ed7953\"],[0.7777777777777778,\"#fb9f3a\"],[0.8888888888888888,\"#fdca26\"],[1.0,\"#f0f921\"]]}],\"surface\":[{\"type\":\"surface\",\"colorbar\":{\"outlinewidth\":0,\"ticks\":\"\"},\"colorscale\":[[0.0,\"#0d0887\"],[0.1111111111111111,\"#46039f\"],[0.2222222222222222,\"#7201a8\"],[0.3333333333333333,\"#9c179e\"],[0.4444444444444444,\"#bd3786\"],[0.5555555555555556,\"#d8576b\"],[0.6666666666666666,\"#ed7953\"],[0.7777777777777778,\"#fb9f3a\"],[0.8888888888888888,\"#fdca26\"],[1.0,\"#f0f921\"]]}],\"mesh3d\":[{\"type\":\"mesh3d\",\"colorbar\":{\"outlinewidth\":0,\"ticks\":\"\"}}],\"scatter\":[{\"fillpattern\":{\"fillmode\":\"overlay\",\"size\":10,\"solidity\":0.2},\"type\":\"scatter\"}],\"parcoords\":[{\"type\":\"parcoords\",\"line\":{\"colorbar\":{\"outlinewidth\":0,\"ticks\":\"\"}}}],\"scatterpolargl\":[{\"type\":\"scatterpolargl\",\"marker\":{\"colorbar\":{\"outlinewidth\":0,\"ticks\":\"\"}}}],\"bar\":[{\"error_x\":{\"color\":\"#2a3f5f\"},\"error_y\":{\"color\":\"#2a3f5f\"},\"marker\":{\"line\":{\"color\":\"#E5ECF6\",\"width\":0.5},\"pattern\":{\"fillmode\":\"overlay\",\"size\":10,\"solidity\":0.2}},\"type\":\"bar\"}],\"scattergeo\":[{\"type\":\"scattergeo\",\"marker\":{\"colorbar\":{\"outlinewidth\":0,\"ticks\":\"\"}}}],\"scatterpolar\":[{\"type\":\"scatterpolar\",\"marker\":{\"colorbar\":{\"outlinewidth\":0,\"ticks\":\"\"}}}],\"histogram\":[{\"marker\":{\"pattern\":{\"fillmode\":\"overlay\",\"size\":10,\"solidity\":0.2}},\"type\":\"histogram\"}],\"scattergl\":[{\"type\":\"scattergl\",\"marker\":{\"colorbar\":{\"outlinewidth\":0,\"ticks\":\"\"}}}],\"scatter3d\":[{\"type\":\"scatter3d\",\"line\":{\"colorbar\":{\"outlinewidth\":0,\"ticks\":\"\"}},\"marker\":{\"colorbar\":{\"outlinewidth\":0,\"ticks\":\"\"}}}],\"scattermapbox\":[{\"type\":\"scattermapbox\",\"marker\":{\"colorbar\":{\"outlinewidth\":0,\"ticks\":\"\"}}}],\"scatterternary\":[{\"type\":\"scatterternary\",\"marker\":{\"colorbar\":{\"outlinewidth\":0,\"ticks\":\"\"}}}],\"scattercarpet\":[{\"type\":\"scattercarpet\",\"marker\":{\"colorbar\":{\"outlinewidth\":0,\"ticks\":\"\"}}}],\"carpet\":[{\"aaxis\":{\"endlinecolor\":\"#2a3f5f\",\"gridcolor\":\"white\",\"linecolor\":\"white\",\"minorgridcolor\":\"white\",\"startlinecolor\":\"#2a3f5f\"},\"baxis\":{\"endlinecolor\":\"#2a3f5f\",\"gridcolor\":\"white\",\"linecolor\":\"white\",\"minorgridcolor\":\"white\",\"startlinecolor\":\"#2a3f5f\"},\"type\":\"carpet\"}],\"table\":[{\"cells\":{\"fill\":{\"color\":\"#EBF0F8\"},\"line\":{\"color\":\"white\"}},\"header\":{\"fill\":{\"color\":\"#C8D4E3\"},\"line\":{\"color\":\"white\"}},\"type\":\"table\"}],\"barpolar\":[{\"marker\":{\"line\":{\"color\":\"#E5ECF6\",\"width\":0.5},\"pattern\":{\"fillmode\":\"overlay\",\"size\":10,\"solidity\":0.2}},\"type\":\"barpolar\"}],\"pie\":[{\"automargin\":true,\"type\":\"pie\"}]},\"layout\":{\"autotypenumbers\":\"strict\",\"colorway\":[\"#636efa\",\"#EF553B\",\"#00cc96\",\"#ab63fa\",\"#FFA15A\",\"#19d3f3\",\"#FF6692\",\"#B6E880\",\"#FF97FF\",\"#FECB52\"],\"font\":{\"color\":\"#2a3f5f\"},\"hovermode\":\"closest\",\"hoverlabel\":{\"align\":\"left\"},\"paper_bgcolor\":\"white\",\"plot_bgcolor\":\"#E5ECF6\",\"polar\":{\"bgcolor\":\"#E5ECF6\",\"angularaxis\":{\"gridcolor\":\"white\",\"linecolor\":\"white\",\"ticks\":\"\"},\"radialaxis\":{\"gridcolor\":\"white\",\"linecolor\":\"white\",\"ticks\":\"\"}},\"ternary\":{\"bgcolor\":\"#E5ECF6\",\"aaxis\":{\"gridcolor\":\"white\",\"linecolor\":\"white\",\"ticks\":\"\"},\"baxis\":{\"gridcolor\":\"white\",\"linecolor\":\"white\",\"ticks\":\"\"},\"caxis\":{\"gridcolor\":\"white\",\"linecolor\":\"white\",\"ticks\":\"\"}},\"coloraxis\":{\"colorbar\":{\"outlinewidth\":0,\"ticks\":\"\"}},\"colorscale\":{\"sequential\":[[0.0,\"#0d0887\"],[0.1111111111111111,\"#46039f\"],[0.2222222222222222,\"#7201a8\"],[0.3333333333333333,\"#9c179e\"],[0.4444444444444444,\"#bd3786\"],[0.5555555555555556,\"#d8576b\"],[0.6666666666666666,\"#ed7953\"],[0.7777777777777778,\"#fb9f3a\"],[0.8888888888888888,\"#fdca26\"],[1.0,\"#f0f921\"]],\"sequentialminus\":[[0.0,\"#0d0887\"],[0.1111111111111111,\"#46039f\"],[0.2222222222222222,\"#7201a8\"],[0.3333333333333333,\"#9c179e\"],[0.4444444444444444,\"#bd3786\"],[0.5555555555555556,\"#d8576b\"],[0.6666666666666666,\"#ed7953\"],[0.7777777777777778,\"#fb9f3a\"],[0.8888888888888888,\"#fdca26\"],[1.0,\"#f0f921\"]],\"diverging\":[[0,\"#8e0152\"],[0.1,\"#c51b7d\"],[0.2,\"#de77ae\"],[0.3,\"#f1b6da\"],[0.4,\"#fde0ef\"],[0.5,\"#f7f7f7\"],[0.6,\"#e6f5d0\"],[0.7,\"#b8e186\"],[0.8,\"#7fbc41\"],[0.9,\"#4d9221\"],[1,\"#276419\"]]},\"xaxis\":{\"gridcolor\":\"white\",\"linecolor\":\"white\",\"ticks\":\"\",\"title\":{\"standoff\":15},\"zerolinecolor\":\"white\",\"automargin\":true,\"zerolinewidth\":2},\"yaxis\":{\"gridcolor\":\"white\",\"linecolor\":\"white\",\"ticks\":\"\",\"title\":{\"standoff\":15},\"zerolinecolor\":\"white\",\"automargin\":true,\"zerolinewidth\":2},\"scene\":{\"xaxis\":{\"backgroundcolor\":\"#E5ECF6\",\"gridcolor\":\"white\",\"linecolor\":\"white\",\"showbackground\":true,\"ticks\":\"\",\"zerolinecolor\":\"white\",\"gridwidth\":2},\"yaxis\":{\"backgroundcolor\":\"#E5ECF6\",\"gridcolor\":\"white\",\"linecolor\":\"white\",\"showbackground\":true,\"ticks\":\"\",\"zerolinecolor\":\"white\",\"gridwidth\":2},\"zaxis\":{\"backgroundcolor\":\"#E5ECF6\",\"gridcolor\":\"white\",\"linecolor\":\"white\",\"showbackground\":true,\"ticks\":\"\",\"zerolinecolor\":\"white\",\"gridwidth\":2}},\"shapedefaults\":{\"line\":{\"color\":\"#2a3f5f\"}},\"annotationdefaults\":{\"arrowcolor\":\"#2a3f5f\",\"arrowhead\":0,\"arrowwidth\":1},\"geo\":{\"bgcolor\":\"white\",\"landcolor\":\"#E5ECF6\",\"subunitcolor\":\"white\",\"showland\":true,\"showlakes\":true,\"lakecolor\":\"white\"},\"title\":{\"x\":0.05},\"mapbox\":{\"style\":\"light\"}}},\"xaxis\":{\"anchor\":\"y\",\"domain\":[0.0,1.0],\"title\":{\"text\":\"Ville\"}},\"yaxis\":{\"anchor\":\"x\",\"domain\":[0.0,1.0],\"title\":{\"text\":\"value\"}},\"legend\":{\"title\":{\"text\":\"variable\"},\"tracegroupgap\":0},\"margin\":{\"t\":60}},                        {\"responsive\": true}                    ).then(function(){\n",
       "                            \n",
       "var gd = document.getElementById('039584d3-c090-42ff-aa7c-9e7d5f6c5e40');\n",
       "var x = new MutationObserver(function (mutations, observer) {{\n",
       "        var display = window.getComputedStyle(gd).display;\n",
       "        if (!display || display === 'none') {{\n",
       "            console.log([gd, 'removed!']);\n",
       "            Plotly.purge(gd);\n",
       "            observer.disconnect();\n",
       "        }}\n",
       "}});\n",
       "\n",
       "// Listen for the removal of the full notebook cells\n",
       "var notebookContainer = gd.closest('#notebook-container');\n",
       "if (notebookContainer) {{\n",
       "    x.observe(notebookContainer, {childList: true});\n",
       "}}\n",
       "\n",
       "// Listen for the clearing of the current output cell\n",
       "var outputEl = gd.closest('.output');\n",
       "if (outputEl) {{\n",
       "    x.observe(outputEl, {childList: true});\n",
       "}}\n",
       "\n",
       "                        })                };                });            </script>        </div>"
      ]
     },
     "metadata": {},
     "output_type": "display_data"
    }
   ],
   "source": [
    "fig = px.line(\n",
    "    villes, \n",
    "    x = 'Ville',\n",
    "    y = [\"prix_01\",\"prix_02\",\"prix_03\",\"prix_04\",\"prix_05\",\"prix_06\",\"prix_07\",\"prix_08\"]\n",
    ")\n",
    "\n",
    "fig.show()"
   ]
  },
  {
   "cell_type": "code",
   "execution_count": 50,
   "id": "604a36f4",
   "metadata": {},
   "outputs": [
    {
     "data": {
      "text/html": [
       "<div>\n",
       "<style scoped>\n",
       "    .dataframe tbody tr th:only-of-type {\n",
       "        vertical-align: middle;\n",
       "    }\n",
       "\n",
       "    .dataframe tbody tr th {\n",
       "        vertical-align: top;\n",
       "    }\n",
       "\n",
       "    .dataframe thead th {\n",
       "        text-align: right;\n",
       "    }\n",
       "</style>\n",
       "<table border=\"1\" class=\"dataframe\">\n",
       "  <thead>\n",
       "    <tr style=\"text-align: right;\">\n",
       "      <th></th>\n",
       "      <th>Classement</th>\n",
       "      <th>Ville</th>\n",
       "      <th>Région</th>\n",
       "      <th>Code Postal</th>\n",
       "      <th>prix_01</th>\n",
       "      <th>prix_02</th>\n",
       "      <th>prix_03</th>\n",
       "      <th>prix_04</th>\n",
       "      <th>prix_05</th>\n",
       "      <th>prix_06</th>\n",
       "      <th>...</th>\n",
       "      <th>prix_08</th>\n",
       "      <th>prix_09</th>\n",
       "      <th>prix_10</th>\n",
       "      <th>prix_11</th>\n",
       "      <th>prix_12</th>\n",
       "      <th>Ville2</th>\n",
       "      <th>prix_moyen</th>\n",
       "      <th>evolution_3_mois</th>\n",
       "      <th>evolution_6_mois</th>\n",
       "      <th>evolution_12_mois</th>\n",
       "    </tr>\n",
       "  </thead>\n",
       "  <tbody>\n",
       "    <tr>\n",
       "      <th>0</th>\n",
       "      <td>1</td>\n",
       "      <td>Agde</td>\n",
       "      <td>Occitanie</td>\n",
       "      <td>34300</td>\n",
       "      <td>57.000000</td>\n",
       "      <td>60.777778</td>\n",
       "      <td>52.944444</td>\n",
       "      <td>70.111111</td>\n",
       "      <td>74.555556</td>\n",
       "      <td>72.722222</td>\n",
       "      <td>...</td>\n",
       "      <td>131.222222</td>\n",
       "      <td>76.166667</td>\n",
       "      <td>62.333333</td>\n",
       "      <td>59.777778</td>\n",
       "      <td>62.277778</td>\n",
       "      <td>agde</td>\n",
       "      <td>3 080 €</td>\n",
       "      <td>+0.9%</td>\n",
       "      <td>+2.3%</td>\n",
       "      <td>+4.1%</td>\n",
       "    </tr>\n",
       "    <tr>\n",
       "      <th>1</th>\n",
       "      <td>2</td>\n",
       "      <td>Chamonix-Mont-Blanc</td>\n",
       "      <td>Auvergne-Rhône-Alpes</td>\n",
       "      <td>74400</td>\n",
       "      <td>115.555556</td>\n",
       "      <td>159.000000</td>\n",
       "      <td>113.388889</td>\n",
       "      <td>121.666667</td>\n",
       "      <td>100.888889</td>\n",
       "      <td>107.555556</td>\n",
       "      <td>...</td>\n",
       "      <td>133.611111</td>\n",
       "      <td>96.111111</td>\n",
       "      <td>116.722222</td>\n",
       "      <td>121.333333</td>\n",
       "      <td>124.444444</td>\n",
       "      <td>chamonix-mont-blanc</td>\n",
       "      <td>8 710 €</td>\n",
       "      <td>NaN</td>\n",
       "      <td>NaN</td>\n",
       "      <td>NaN</td>\n",
       "    </tr>\n",
       "    <tr>\n",
       "      <th>2</th>\n",
       "      <td>3</td>\n",
       "      <td>Carnac</td>\n",
       "      <td>Bretagne</td>\n",
       "      <td>56340</td>\n",
       "      <td>85.111111</td>\n",
       "      <td>74.944444</td>\n",
       "      <td>72.555556</td>\n",
       "      <td>79.500000</td>\n",
       "      <td>81.722222</td>\n",
       "      <td>93.333333</td>\n",
       "      <td>...</td>\n",
       "      <td>128.722222</td>\n",
       "      <td>89.444444</td>\n",
       "      <td>82.722222</td>\n",
       "      <td>73.111111</td>\n",
       "      <td>74.555556</td>\n",
       "      <td>carnac</td>\n",
       "      <td>5 350 €</td>\n",
       "      <td>+1.1%</td>\n",
       "      <td>+1.7%</td>\n",
       "      <td>+2.9%</td>\n",
       "    </tr>\n",
       "    <tr>\n",
       "      <th>3</th>\n",
       "      <td>4</td>\n",
       "      <td>Argelès-sur-Mer</td>\n",
       "      <td>Occitanie</td>\n",
       "      <td>66700</td>\n",
       "      <td>62.000000</td>\n",
       "      <td>67.555556</td>\n",
       "      <td>74.277778</td>\n",
       "      <td>77.555556</td>\n",
       "      <td>87.222222</td>\n",
       "      <td>76.222222</td>\n",
       "      <td>...</td>\n",
       "      <td>113.222222</td>\n",
       "      <td>72.111111</td>\n",
       "      <td>71.388889</td>\n",
       "      <td>77.222222</td>\n",
       "      <td>77.222222</td>\n",
       "      <td>argeles-sur-mer</td>\n",
       "      <td>3 320 €</td>\n",
       "      <td>NaN</td>\n",
       "      <td>NaN</td>\n",
       "      <td>NaN</td>\n",
       "    </tr>\n",
       "    <tr>\n",
       "      <th>4</th>\n",
       "      <td>5</td>\n",
       "      <td>Quiberon</td>\n",
       "      <td>Bretagne</td>\n",
       "      <td>56170</td>\n",
       "      <td>80.666667</td>\n",
       "      <td>94.777778</td>\n",
       "      <td>88.944444</td>\n",
       "      <td>93.611111</td>\n",
       "      <td>94.388889</td>\n",
       "      <td>94.277778</td>\n",
       "      <td>...</td>\n",
       "      <td>129.222222</td>\n",
       "      <td>87.944444</td>\n",
       "      <td>92.222222</td>\n",
       "      <td>87.500000</td>\n",
       "      <td>86.166667</td>\n",
       "      <td>quiberon</td>\n",
       "      <td>5 610 €</td>\n",
       "      <td>NaN</td>\n",
       "      <td>NaN</td>\n",
       "      <td>NaN</td>\n",
       "    </tr>\n",
       "    <tr>\n",
       "      <th>5</th>\n",
       "      <td>6</td>\n",
       "      <td>Le Lavandou</td>\n",
       "      <td>Provence-Alpes-Côte-D’Azur</td>\n",
       "      <td>83980</td>\n",
       "      <td>78.833333</td>\n",
       "      <td>76.500000</td>\n",
       "      <td>76.333333</td>\n",
       "      <td>87.611111</td>\n",
       "      <td>88.111111</td>\n",
       "      <td>95.777778</td>\n",
       "      <td>...</td>\n",
       "      <td>152.888889</td>\n",
       "      <td>94.388889</td>\n",
       "      <td>87.888889</td>\n",
       "      <td>75.555556</td>\n",
       "      <td>75.611111</td>\n",
       "      <td>le-lavandou</td>\n",
       "      <td>5 410 €</td>\n",
       "      <td>NaN</td>\n",
       "      <td>NaN</td>\n",
       "      <td>NaN</td>\n",
       "    </tr>\n",
       "    <tr>\n",
       "      <th>6</th>\n",
       "      <td>7</td>\n",
       "      <td>La Grande-Motte</td>\n",
       "      <td>Occitanie</td>\n",
       "      <td>34280</td>\n",
       "      <td>51.777778</td>\n",
       "      <td>66.777778</td>\n",
       "      <td>55.333333</td>\n",
       "      <td>73.555556</td>\n",
       "      <td>77.666667</td>\n",
       "      <td>69.833333</td>\n",
       "      <td>...</td>\n",
       "      <td>86.444444</td>\n",
       "      <td>84.000000</td>\n",
       "      <td>78.777778</td>\n",
       "      <td>78.000000</td>\n",
       "      <td>77.833333</td>\n",
       "      <td>la-grande-motte</td>\n",
       "      <td>4 460 €</td>\n",
       "      <td>NaN</td>\n",
       "      <td>NaN</td>\n",
       "      <td>NaN</td>\n",
       "    </tr>\n",
       "    <tr>\n",
       "      <th>7</th>\n",
       "      <td>8</td>\n",
       "      <td>Ramatuelle</td>\n",
       "      <td>Provence-Alpes-Côte-D’Azur</td>\n",
       "      <td>83350</td>\n",
       "      <td>79.166667</td>\n",
       "      <td>89.666667</td>\n",
       "      <td>80.944444</td>\n",
       "      <td>117.777778</td>\n",
       "      <td>143.666667</td>\n",
       "      <td>147.222222</td>\n",
       "      <td>...</td>\n",
       "      <td>211.000000</td>\n",
       "      <td>141.111111</td>\n",
       "      <td>112.833333</td>\n",
       "      <td>102.722222</td>\n",
       "      <td>116.944444</td>\n",
       "      <td>ramatuelle</td>\n",
       "      <td>6 050 €</td>\n",
       "      <td>-0.2%</td>\n",
       "      <td>-0.6%</td>\n",
       "      <td>-1%</td>\n",
       "    </tr>\n",
       "    <tr>\n",
       "      <th>8</th>\n",
       "      <td>9</td>\n",
       "      <td>Saint-Raphaël</td>\n",
       "      <td>Provence-Alpes-Côte-D’Azur</td>\n",
       "      <td>24160</td>\n",
       "      <td>91.277778</td>\n",
       "      <td>84.333333</td>\n",
       "      <td>74.833333</td>\n",
       "      <td>81.611111</td>\n",
       "      <td>83.944444</td>\n",
       "      <td>97.722222</td>\n",
       "      <td>...</td>\n",
       "      <td>131.555556</td>\n",
       "      <td>102.555556</td>\n",
       "      <td>86.222222</td>\n",
       "      <td>85.444444</td>\n",
       "      <td>88.166667</td>\n",
       "      <td>saint-raphael</td>\n",
       "      <td>1 170 €</td>\n",
       "      <td>+1.8%</td>\n",
       "      <td>+2.8%</td>\n",
       "      <td>+2.5%</td>\n",
       "    </tr>\n",
       "    <tr>\n",
       "      <th>9</th>\n",
       "      <td>10</td>\n",
       "      <td>La Baule-Escoublac</td>\n",
       "      <td>Pays de La Loire</td>\n",
       "      <td>44500</td>\n",
       "      <td>77.833333</td>\n",
       "      <td>89.944444</td>\n",
       "      <td>88.000000</td>\n",
       "      <td>91.611111</td>\n",
       "      <td>98.222222</td>\n",
       "      <td>85.333333</td>\n",
       "      <td>...</td>\n",
       "      <td>102.611111</td>\n",
       "      <td>87.388889</td>\n",
       "      <td>80.555556</td>\n",
       "      <td>83.944444</td>\n",
       "      <td>90.666667</td>\n",
       "      <td>la-baule-escoublac</td>\n",
       "      <td>6 090 €</td>\n",
       "      <td>+0.3%</td>\n",
       "      <td>+1%</td>\n",
       "      <td>+3.1%</td>\n",
       "    </tr>\n",
       "  </tbody>\n",
       "</table>\n",
       "<p>10 rows × 21 columns</p>\n",
       "</div>"
      ],
      "text/plain": [
       "   Classement                Ville                      Région  Code Postal  \\\n",
       "0           1                 Agde                   Occitanie        34300   \n",
       "1           2  Chamonix-Mont-Blanc        Auvergne-Rhône-Alpes        74400   \n",
       "2           3               Carnac                    Bretagne        56340   \n",
       "3           4      Argelès-sur-Mer                   Occitanie        66700   \n",
       "4           5             Quiberon                    Bretagne        56170   \n",
       "5           6          Le Lavandou  Provence-Alpes-Côte-D’Azur        83980   \n",
       "6           7      La Grande-Motte                   Occitanie        34280   \n",
       "7           8           Ramatuelle  Provence-Alpes-Côte-D’Azur        83350   \n",
       "8           9        Saint-Raphaël  Provence-Alpes-Côte-D’Azur        24160   \n",
       "9          10   La Baule-Escoublac            Pays de La Loire        44500   \n",
       "\n",
       "      prix_01     prix_02     prix_03     prix_04     prix_05     prix_06  \\\n",
       "0   57.000000   60.777778   52.944444   70.111111   74.555556   72.722222   \n",
       "1  115.555556  159.000000  113.388889  121.666667  100.888889  107.555556   \n",
       "2   85.111111   74.944444   72.555556   79.500000   81.722222   93.333333   \n",
       "3   62.000000   67.555556   74.277778   77.555556   87.222222   76.222222   \n",
       "4   80.666667   94.777778   88.944444   93.611111   94.388889   94.277778   \n",
       "5   78.833333   76.500000   76.333333   87.611111   88.111111   95.777778   \n",
       "6   51.777778   66.777778   55.333333   73.555556   77.666667   69.833333   \n",
       "7   79.166667   89.666667   80.944444  117.777778  143.666667  147.222222   \n",
       "8   91.277778   84.333333   74.833333   81.611111   83.944444   97.722222   \n",
       "9   77.833333   89.944444   88.000000   91.611111   98.222222   85.333333   \n",
       "\n",
       "   ...     prix_08     prix_09     prix_10     prix_11     prix_12  \\\n",
       "0  ...  131.222222   76.166667   62.333333   59.777778   62.277778   \n",
       "1  ...  133.611111   96.111111  116.722222  121.333333  124.444444   \n",
       "2  ...  128.722222   89.444444   82.722222   73.111111   74.555556   \n",
       "3  ...  113.222222   72.111111   71.388889   77.222222   77.222222   \n",
       "4  ...  129.222222   87.944444   92.222222   87.500000   86.166667   \n",
       "5  ...  152.888889   94.388889   87.888889   75.555556   75.611111   \n",
       "6  ...   86.444444   84.000000   78.777778   78.000000   77.833333   \n",
       "7  ...  211.000000  141.111111  112.833333  102.722222  116.944444   \n",
       "8  ...  131.555556  102.555556   86.222222   85.444444   88.166667   \n",
       "9  ...  102.611111   87.388889   80.555556   83.944444   90.666667   \n",
       "\n",
       "                Ville2 prix_moyen evolution_3_mois evolution_6_mois  \\\n",
       "0                 agde    3 080 €            +0.9%            +2.3%   \n",
       "1  chamonix-mont-blanc    8 710 €              NaN              NaN   \n",
       "2               carnac    5 350 €            +1.1%            +1.7%   \n",
       "3      argeles-sur-mer    3 320 €              NaN              NaN   \n",
       "4             quiberon    5 610 €              NaN              NaN   \n",
       "5          le-lavandou    5 410 €              NaN              NaN   \n",
       "6      la-grande-motte    4 460 €              NaN              NaN   \n",
       "7           ramatuelle    6 050 €            -0.2%            -0.6%   \n",
       "8        saint-raphael    1 170 €            +1.8%            +2.8%   \n",
       "9   la-baule-escoublac    6 090 €            +0.3%              +1%   \n",
       "\n",
       "  evolution_12_mois  \n",
       "0             +4.1%  \n",
       "1               NaN  \n",
       "2             +2.9%  \n",
       "3               NaN  \n",
       "4               NaN  \n",
       "5               NaN  \n",
       "6               NaN  \n",
       "7               -1%  \n",
       "8             +2.5%  \n",
       "9             +3.1%  \n",
       "\n",
       "[10 rows x 21 columns]"
      ]
     },
     "execution_count": 50,
     "metadata": {},
     "output_type": "execute_result"
    }
   ],
   "source": [
    "villes"
   ]
  },
  {
   "cell_type": "code",
   "execution_count": 52,
   "id": "3e6978c6",
   "metadata": {},
   "outputs": [
    {
     "data": {
      "text/html": [
       "<div>\n",
       "<style scoped>\n",
       "    .dataframe tbody tr th:only-of-type {\n",
       "        vertical-align: middle;\n",
       "    }\n",
       "\n",
       "    .dataframe tbody tr th {\n",
       "        vertical-align: top;\n",
       "    }\n",
       "\n",
       "    .dataframe thead th {\n",
       "        text-align: right;\n",
       "    }\n",
       "</style>\n",
       "<table border=\"1\" class=\"dataframe\">\n",
       "  <thead>\n",
       "    <tr style=\"text-align: right;\">\n",
       "      <th></th>\n",
       "      <th>prix_01</th>\n",
       "      <th>prix_02</th>\n",
       "      <th>prix_03</th>\n",
       "      <th>prix_04</th>\n",
       "      <th>prix_05</th>\n",
       "      <th>prix_06</th>\n",
       "      <th>prix_07</th>\n",
       "      <th>prix_08</th>\n",
       "      <th>prix_09</th>\n",
       "      <th>prix_10</th>\n",
       "      <th>prix_11</th>\n",
       "      <th>prix_12</th>\n",
       "    </tr>\n",
       "    <tr>\n",
       "      <th>Ville</th>\n",
       "      <th></th>\n",
       "      <th></th>\n",
       "      <th></th>\n",
       "      <th></th>\n",
       "      <th></th>\n",
       "      <th></th>\n",
       "      <th></th>\n",
       "      <th></th>\n",
       "      <th></th>\n",
       "      <th></th>\n",
       "      <th></th>\n",
       "      <th></th>\n",
       "    </tr>\n",
       "  </thead>\n",
       "  <tbody>\n",
       "    <tr>\n",
       "      <th>Agde</th>\n",
       "      <td>57.000000</td>\n",
       "      <td>60.777778</td>\n",
       "      <td>52.944444</td>\n",
       "      <td>70.111111</td>\n",
       "      <td>74.555556</td>\n",
       "      <td>72.722222</td>\n",
       "      <td>126.666667</td>\n",
       "      <td>131.222222</td>\n",
       "      <td>76.166667</td>\n",
       "      <td>62.333333</td>\n",
       "      <td>59.777778</td>\n",
       "      <td>62.277778</td>\n",
       "    </tr>\n",
       "    <tr>\n",
       "      <th>Chamonix-Mont-Blanc</th>\n",
       "      <td>115.555556</td>\n",
       "      <td>159.000000</td>\n",
       "      <td>113.388889</td>\n",
       "      <td>121.666667</td>\n",
       "      <td>100.888889</td>\n",
       "      <td>107.555556</td>\n",
       "      <td>120.277778</td>\n",
       "      <td>133.611111</td>\n",
       "      <td>96.111111</td>\n",
       "      <td>116.722222</td>\n",
       "      <td>121.333333</td>\n",
       "      <td>124.444444</td>\n",
       "    </tr>\n",
       "    <tr>\n",
       "      <th>Carnac</th>\n",
       "      <td>85.111111</td>\n",
       "      <td>74.944444</td>\n",
       "      <td>72.555556</td>\n",
       "      <td>79.500000</td>\n",
       "      <td>81.722222</td>\n",
       "      <td>93.333333</td>\n",
       "      <td>108.111111</td>\n",
       "      <td>128.722222</td>\n",
       "      <td>89.444444</td>\n",
       "      <td>82.722222</td>\n",
       "      <td>73.111111</td>\n",
       "      <td>74.555556</td>\n",
       "    </tr>\n",
       "    <tr>\n",
       "      <th>Argelès-sur-Mer</th>\n",
       "      <td>62.000000</td>\n",
       "      <td>67.555556</td>\n",
       "      <td>74.277778</td>\n",
       "      <td>77.555556</td>\n",
       "      <td>87.222222</td>\n",
       "      <td>76.222222</td>\n",
       "      <td>110.666667</td>\n",
       "      <td>113.222222</td>\n",
       "      <td>72.111111</td>\n",
       "      <td>71.388889</td>\n",
       "      <td>77.222222</td>\n",
       "      <td>77.222222</td>\n",
       "    </tr>\n",
       "    <tr>\n",
       "      <th>Quiberon</th>\n",
       "      <td>80.666667</td>\n",
       "      <td>94.777778</td>\n",
       "      <td>88.944444</td>\n",
       "      <td>93.611111</td>\n",
       "      <td>94.388889</td>\n",
       "      <td>94.277778</td>\n",
       "      <td>111.500000</td>\n",
       "      <td>129.222222</td>\n",
       "      <td>87.944444</td>\n",
       "      <td>92.222222</td>\n",
       "      <td>87.500000</td>\n",
       "      <td>86.166667</td>\n",
       "    </tr>\n",
       "    <tr>\n",
       "      <th>Le Lavandou</th>\n",
       "      <td>78.833333</td>\n",
       "      <td>76.500000</td>\n",
       "      <td>76.333333</td>\n",
       "      <td>87.611111</td>\n",
       "      <td>88.111111</td>\n",
       "      <td>95.777778</td>\n",
       "      <td>134.888889</td>\n",
       "      <td>152.888889</td>\n",
       "      <td>94.388889</td>\n",
       "      <td>87.888889</td>\n",
       "      <td>75.555556</td>\n",
       "      <td>75.611111</td>\n",
       "    </tr>\n",
       "    <tr>\n",
       "      <th>La Grande-Motte</th>\n",
       "      <td>51.777778</td>\n",
       "      <td>66.777778</td>\n",
       "      <td>55.333333</td>\n",
       "      <td>73.555556</td>\n",
       "      <td>77.666667</td>\n",
       "      <td>69.833333</td>\n",
       "      <td>86.777778</td>\n",
       "      <td>86.444444</td>\n",
       "      <td>84.000000</td>\n",
       "      <td>78.777778</td>\n",
       "      <td>78.000000</td>\n",
       "      <td>77.833333</td>\n",
       "    </tr>\n",
       "    <tr>\n",
       "      <th>Ramatuelle</th>\n",
       "      <td>79.166667</td>\n",
       "      <td>89.666667</td>\n",
       "      <td>80.944444</td>\n",
       "      <td>117.777778</td>\n",
       "      <td>143.666667</td>\n",
       "      <td>147.222222</td>\n",
       "      <td>176.222222</td>\n",
       "      <td>211.000000</td>\n",
       "      <td>141.111111</td>\n",
       "      <td>112.833333</td>\n",
       "      <td>102.722222</td>\n",
       "      <td>116.944444</td>\n",
       "    </tr>\n",
       "    <tr>\n",
       "      <th>Saint-Raphaël</th>\n",
       "      <td>91.277778</td>\n",
       "      <td>84.333333</td>\n",
       "      <td>74.833333</td>\n",
       "      <td>81.611111</td>\n",
       "      <td>83.944444</td>\n",
       "      <td>97.722222</td>\n",
       "      <td>126.277778</td>\n",
       "      <td>131.555556</td>\n",
       "      <td>102.555556</td>\n",
       "      <td>86.222222</td>\n",
       "      <td>85.444444</td>\n",
       "      <td>88.166667</td>\n",
       "    </tr>\n",
       "    <tr>\n",
       "      <th>La Baule-Escoublac</th>\n",
       "      <td>77.833333</td>\n",
       "      <td>89.944444</td>\n",
       "      <td>88.000000</td>\n",
       "      <td>91.611111</td>\n",
       "      <td>98.222222</td>\n",
       "      <td>85.333333</td>\n",
       "      <td>101.388889</td>\n",
       "      <td>102.611111</td>\n",
       "      <td>87.388889</td>\n",
       "      <td>80.555556</td>\n",
       "      <td>83.944444</td>\n",
       "      <td>90.666667</td>\n",
       "    </tr>\n",
       "  </tbody>\n",
       "</table>\n",
       "</div>"
      ],
      "text/plain": [
       "                        prix_01     prix_02     prix_03     prix_04  \\\n",
       "Ville                                                                 \n",
       "Agde                  57.000000   60.777778   52.944444   70.111111   \n",
       "Chamonix-Mont-Blanc  115.555556  159.000000  113.388889  121.666667   \n",
       "Carnac                85.111111   74.944444   72.555556   79.500000   \n",
       "Argelès-sur-Mer       62.000000   67.555556   74.277778   77.555556   \n",
       "Quiberon              80.666667   94.777778   88.944444   93.611111   \n",
       "Le Lavandou           78.833333   76.500000   76.333333   87.611111   \n",
       "La Grande-Motte       51.777778   66.777778   55.333333   73.555556   \n",
       "Ramatuelle            79.166667   89.666667   80.944444  117.777778   \n",
       "Saint-Raphaël         91.277778   84.333333   74.833333   81.611111   \n",
       "La Baule-Escoublac    77.833333   89.944444   88.000000   91.611111   \n",
       "\n",
       "                        prix_05     prix_06     prix_07     prix_08  \\\n",
       "Ville                                                                 \n",
       "Agde                  74.555556   72.722222  126.666667  131.222222   \n",
       "Chamonix-Mont-Blanc  100.888889  107.555556  120.277778  133.611111   \n",
       "Carnac                81.722222   93.333333  108.111111  128.722222   \n",
       "Argelès-sur-Mer       87.222222   76.222222  110.666667  113.222222   \n",
       "Quiberon              94.388889   94.277778  111.500000  129.222222   \n",
       "Le Lavandou           88.111111   95.777778  134.888889  152.888889   \n",
       "La Grande-Motte       77.666667   69.833333   86.777778   86.444444   \n",
       "Ramatuelle           143.666667  147.222222  176.222222  211.000000   \n",
       "Saint-Raphaël         83.944444   97.722222  126.277778  131.555556   \n",
       "La Baule-Escoublac    98.222222   85.333333  101.388889  102.611111   \n",
       "\n",
       "                        prix_09     prix_10     prix_11     prix_12  \n",
       "Ville                                                                \n",
       "Agde                  76.166667   62.333333   59.777778   62.277778  \n",
       "Chamonix-Mont-Blanc   96.111111  116.722222  121.333333  124.444444  \n",
       "Carnac                89.444444   82.722222   73.111111   74.555556  \n",
       "Argelès-sur-Mer       72.111111   71.388889   77.222222   77.222222  \n",
       "Quiberon              87.944444   92.222222   87.500000   86.166667  \n",
       "Le Lavandou           94.388889   87.888889   75.555556   75.611111  \n",
       "La Grande-Motte       84.000000   78.777778   78.000000   77.833333  \n",
       "Ramatuelle           141.111111  112.833333  102.722222  116.944444  \n",
       "Saint-Raphaël        102.555556   86.222222   85.444444   88.166667  \n",
       "La Baule-Escoublac    87.388889   80.555556   83.944444   90.666667  "
      ]
     },
     "execution_count": 52,
     "metadata": {},
     "output_type": "execute_result"
    }
   ],
   "source": [
    "villes_bis = villes.drop([\"Classement\", \"Région\", \"Code Postal\", \"Ville2\", \"prix_moyen\", \"evolution_3_mois\", \"evolution_6_mois\", \"evolution_12_mois\"], axis = 1)\n",
    "villes_bis = villes_bis.set_index('Ville')\n",
    "villes_bis"
   ]
  },
  {
   "cell_type": "code",
   "execution_count": 53,
   "id": "1acf6bb1",
   "metadata": {},
   "outputs": [],
   "source": [
    "villes_transpo = villes_bis.transpose()"
   ]
  },
  {
   "cell_type": "code",
   "execution_count": 54,
   "id": "e302b5e2",
   "metadata": {},
   "outputs": [
    {
     "data": {
      "text/html": [
       "<div>\n",
       "<style scoped>\n",
       "    .dataframe tbody tr th:only-of-type {\n",
       "        vertical-align: middle;\n",
       "    }\n",
       "\n",
       "    .dataframe tbody tr th {\n",
       "        vertical-align: top;\n",
       "    }\n",
       "\n",
       "    .dataframe thead th {\n",
       "        text-align: right;\n",
       "    }\n",
       "</style>\n",
       "<table border=\"1\" class=\"dataframe\">\n",
       "  <thead>\n",
       "    <tr style=\"text-align: right;\">\n",
       "      <th>Ville</th>\n",
       "      <th>Agde</th>\n",
       "      <th>Chamonix-Mont-Blanc</th>\n",
       "      <th>Carnac</th>\n",
       "      <th>Argelès-sur-Mer</th>\n",
       "      <th>Quiberon</th>\n",
       "      <th>Le Lavandou</th>\n",
       "      <th>La Grande-Motte</th>\n",
       "      <th>Ramatuelle</th>\n",
       "      <th>Saint-Raphaël</th>\n",
       "      <th>La Baule-Escoublac</th>\n",
       "    </tr>\n",
       "  </thead>\n",
       "  <tbody>\n",
       "    <tr>\n",
       "      <th>prix_01</th>\n",
       "      <td>57.000000</td>\n",
       "      <td>115.555556</td>\n",
       "      <td>85.111111</td>\n",
       "      <td>62.000000</td>\n",
       "      <td>80.666667</td>\n",
       "      <td>78.833333</td>\n",
       "      <td>51.777778</td>\n",
       "      <td>79.166667</td>\n",
       "      <td>91.277778</td>\n",
       "      <td>77.833333</td>\n",
       "    </tr>\n",
       "    <tr>\n",
       "      <th>prix_02</th>\n",
       "      <td>60.777778</td>\n",
       "      <td>159.000000</td>\n",
       "      <td>74.944444</td>\n",
       "      <td>67.555556</td>\n",
       "      <td>94.777778</td>\n",
       "      <td>76.500000</td>\n",
       "      <td>66.777778</td>\n",
       "      <td>89.666667</td>\n",
       "      <td>84.333333</td>\n",
       "      <td>89.944444</td>\n",
       "    </tr>\n",
       "    <tr>\n",
       "      <th>prix_03</th>\n",
       "      <td>52.944444</td>\n",
       "      <td>113.388889</td>\n",
       "      <td>72.555556</td>\n",
       "      <td>74.277778</td>\n",
       "      <td>88.944444</td>\n",
       "      <td>76.333333</td>\n",
       "      <td>55.333333</td>\n",
       "      <td>80.944444</td>\n",
       "      <td>74.833333</td>\n",
       "      <td>88.000000</td>\n",
       "    </tr>\n",
       "    <tr>\n",
       "      <th>prix_04</th>\n",
       "      <td>70.111111</td>\n",
       "      <td>121.666667</td>\n",
       "      <td>79.500000</td>\n",
       "      <td>77.555556</td>\n",
       "      <td>93.611111</td>\n",
       "      <td>87.611111</td>\n",
       "      <td>73.555556</td>\n",
       "      <td>117.777778</td>\n",
       "      <td>81.611111</td>\n",
       "      <td>91.611111</td>\n",
       "    </tr>\n",
       "    <tr>\n",
       "      <th>prix_05</th>\n",
       "      <td>74.555556</td>\n",
       "      <td>100.888889</td>\n",
       "      <td>81.722222</td>\n",
       "      <td>87.222222</td>\n",
       "      <td>94.388889</td>\n",
       "      <td>88.111111</td>\n",
       "      <td>77.666667</td>\n",
       "      <td>143.666667</td>\n",
       "      <td>83.944444</td>\n",
       "      <td>98.222222</td>\n",
       "    </tr>\n",
       "    <tr>\n",
       "      <th>prix_06</th>\n",
       "      <td>72.722222</td>\n",
       "      <td>107.555556</td>\n",
       "      <td>93.333333</td>\n",
       "      <td>76.222222</td>\n",
       "      <td>94.277778</td>\n",
       "      <td>95.777778</td>\n",
       "      <td>69.833333</td>\n",
       "      <td>147.222222</td>\n",
       "      <td>97.722222</td>\n",
       "      <td>85.333333</td>\n",
       "    </tr>\n",
       "    <tr>\n",
       "      <th>prix_07</th>\n",
       "      <td>126.666667</td>\n",
       "      <td>120.277778</td>\n",
       "      <td>108.111111</td>\n",
       "      <td>110.666667</td>\n",
       "      <td>111.500000</td>\n",
       "      <td>134.888889</td>\n",
       "      <td>86.777778</td>\n",
       "      <td>176.222222</td>\n",
       "      <td>126.277778</td>\n",
       "      <td>101.388889</td>\n",
       "    </tr>\n",
       "    <tr>\n",
       "      <th>prix_08</th>\n",
       "      <td>131.222222</td>\n",
       "      <td>133.611111</td>\n",
       "      <td>128.722222</td>\n",
       "      <td>113.222222</td>\n",
       "      <td>129.222222</td>\n",
       "      <td>152.888889</td>\n",
       "      <td>86.444444</td>\n",
       "      <td>211.000000</td>\n",
       "      <td>131.555556</td>\n",
       "      <td>102.611111</td>\n",
       "    </tr>\n",
       "    <tr>\n",
       "      <th>prix_09</th>\n",
       "      <td>76.166667</td>\n",
       "      <td>96.111111</td>\n",
       "      <td>89.444444</td>\n",
       "      <td>72.111111</td>\n",
       "      <td>87.944444</td>\n",
       "      <td>94.388889</td>\n",
       "      <td>84.000000</td>\n",
       "      <td>141.111111</td>\n",
       "      <td>102.555556</td>\n",
       "      <td>87.388889</td>\n",
       "    </tr>\n",
       "    <tr>\n",
       "      <th>prix_10</th>\n",
       "      <td>62.333333</td>\n",
       "      <td>116.722222</td>\n",
       "      <td>82.722222</td>\n",
       "      <td>71.388889</td>\n",
       "      <td>92.222222</td>\n",
       "      <td>87.888889</td>\n",
       "      <td>78.777778</td>\n",
       "      <td>112.833333</td>\n",
       "      <td>86.222222</td>\n",
       "      <td>80.555556</td>\n",
       "    </tr>\n",
       "    <tr>\n",
       "      <th>prix_11</th>\n",
       "      <td>59.777778</td>\n",
       "      <td>121.333333</td>\n",
       "      <td>73.111111</td>\n",
       "      <td>77.222222</td>\n",
       "      <td>87.500000</td>\n",
       "      <td>75.555556</td>\n",
       "      <td>78.000000</td>\n",
       "      <td>102.722222</td>\n",
       "      <td>85.444444</td>\n",
       "      <td>83.944444</td>\n",
       "    </tr>\n",
       "    <tr>\n",
       "      <th>prix_12</th>\n",
       "      <td>62.277778</td>\n",
       "      <td>124.444444</td>\n",
       "      <td>74.555556</td>\n",
       "      <td>77.222222</td>\n",
       "      <td>86.166667</td>\n",
       "      <td>75.611111</td>\n",
       "      <td>77.833333</td>\n",
       "      <td>116.944444</td>\n",
       "      <td>88.166667</td>\n",
       "      <td>90.666667</td>\n",
       "    </tr>\n",
       "  </tbody>\n",
       "</table>\n",
       "</div>"
      ],
      "text/plain": [
       "Ville          Agde  Chamonix-Mont-Blanc      Carnac  Argelès-sur-Mer  \\\n",
       "prix_01   57.000000           115.555556   85.111111        62.000000   \n",
       "prix_02   60.777778           159.000000   74.944444        67.555556   \n",
       "prix_03   52.944444           113.388889   72.555556        74.277778   \n",
       "prix_04   70.111111           121.666667   79.500000        77.555556   \n",
       "prix_05   74.555556           100.888889   81.722222        87.222222   \n",
       "prix_06   72.722222           107.555556   93.333333        76.222222   \n",
       "prix_07  126.666667           120.277778  108.111111       110.666667   \n",
       "prix_08  131.222222           133.611111  128.722222       113.222222   \n",
       "prix_09   76.166667            96.111111   89.444444        72.111111   \n",
       "prix_10   62.333333           116.722222   82.722222        71.388889   \n",
       "prix_11   59.777778           121.333333   73.111111        77.222222   \n",
       "prix_12   62.277778           124.444444   74.555556        77.222222   \n",
       "\n",
       "Ville      Quiberon  Le Lavandou  La Grande-Motte  Ramatuelle  Saint-Raphaël  \\\n",
       "prix_01   80.666667    78.833333        51.777778   79.166667      91.277778   \n",
       "prix_02   94.777778    76.500000        66.777778   89.666667      84.333333   \n",
       "prix_03   88.944444    76.333333        55.333333   80.944444      74.833333   \n",
       "prix_04   93.611111    87.611111        73.555556  117.777778      81.611111   \n",
       "prix_05   94.388889    88.111111        77.666667  143.666667      83.944444   \n",
       "prix_06   94.277778    95.777778        69.833333  147.222222      97.722222   \n",
       "prix_07  111.500000   134.888889        86.777778  176.222222     126.277778   \n",
       "prix_08  129.222222   152.888889        86.444444  211.000000     131.555556   \n",
       "prix_09   87.944444    94.388889        84.000000  141.111111     102.555556   \n",
       "prix_10   92.222222    87.888889        78.777778  112.833333      86.222222   \n",
       "prix_11   87.500000    75.555556        78.000000  102.722222      85.444444   \n",
       "prix_12   86.166667    75.611111        77.833333  116.944444      88.166667   \n",
       "\n",
       "Ville    La Baule-Escoublac  \n",
       "prix_01           77.833333  \n",
       "prix_02           89.944444  \n",
       "prix_03           88.000000  \n",
       "prix_04           91.611111  \n",
       "prix_05           98.222222  \n",
       "prix_06           85.333333  \n",
       "prix_07          101.388889  \n",
       "prix_08          102.611111  \n",
       "prix_09           87.388889  \n",
       "prix_10           80.555556  \n",
       "prix_11           83.944444  \n",
       "prix_12           90.666667  "
      ]
     },
     "execution_count": 54,
     "metadata": {},
     "output_type": "execute_result"
    }
   ],
   "source": [
    "villes_transpo"
   ]
  },
  {
   "cell_type": "code",
   "execution_count": 62,
   "id": "a78d1879",
   "metadata": {},
   "outputs": [
    {
     "data": {
      "application/vnd.plotly.v1+json": {
       "config": {
        "plotlyServerURL": "https://plot.ly"
       },
       "data": [
        {
         "alignmentgroup": "True",
         "hovertemplate": "variable=Agde<br>x=%{x}<br>value=%{y}<extra></extra>",
         "legendgroup": "Agde",
         "marker": {
          "color": "#636efa",
          "pattern": {
           "shape": ""
          }
         },
         "name": "Agde",
         "offsetgroup": "Agde",
         "orientation": "v",
         "showlegend": true,
         "textposition": "auto",
         "type": "bar",
         "x": [
          "prix_01",
          "prix_02",
          "prix_03",
          "prix_04",
          "prix_05",
          "prix_06",
          "prix_07",
          "prix_08",
          "prix_09",
          "prix_10",
          "prix_11",
          "prix_12"
         ],
         "xaxis": "x",
         "y": [
          57,
          60.77777777777778,
          52.94444444444444,
          70.11111111111111,
          74.55555555555556,
          72.72222222222223,
          126.66666666666669,
          131.22222222222223,
          76.16666666666667,
          62.333333333333336,
          59.77777777777778,
          62.27777777777778
         ],
         "yaxis": "y"
        },
        {
         "alignmentgroup": "True",
         "hovertemplate": "variable=Chamonix-Mont-Blanc<br>x=%{x}<br>value=%{y}<extra></extra>",
         "legendgroup": "Chamonix-Mont-Blanc",
         "marker": {
          "color": "#EF553B",
          "pattern": {
           "shape": ""
          }
         },
         "name": "Chamonix-Mont-Blanc",
         "offsetgroup": "Chamonix-Mont-Blanc",
         "orientation": "v",
         "showlegend": true,
         "textposition": "auto",
         "type": "bar",
         "x": [
          "prix_01",
          "prix_02",
          "prix_03",
          "prix_04",
          "prix_05",
          "prix_06",
          "prix_07",
          "prix_08",
          "prix_09",
          "prix_10",
          "prix_11",
          "prix_12"
         ],
         "xaxis": "x",
         "y": [
          115.55555555555556,
          159,
          113.38888888888889,
          121.66666666666669,
          100.88888888888889,
          107.55555555555556,
          120.27777777777776,
          133.61111111111111,
          96.11111111111111,
          116.72222222222224,
          121.33333333333331,
          124.44444444444444
         ],
         "yaxis": "y"
        },
        {
         "alignmentgroup": "True",
         "hovertemplate": "variable=Carnac<br>x=%{x}<br>value=%{y}<extra></extra>",
         "legendgroup": "Carnac",
         "marker": {
          "color": "#00cc96",
          "pattern": {
           "shape": ""
          }
         },
         "name": "Carnac",
         "offsetgroup": "Carnac",
         "orientation": "v",
         "showlegend": true,
         "textposition": "auto",
         "type": "bar",
         "x": [
          "prix_01",
          "prix_02",
          "prix_03",
          "prix_04",
          "prix_05",
          "prix_06",
          "prix_07",
          "prix_08",
          "prix_09",
          "prix_10",
          "prix_11",
          "prix_12"
         ],
         "xaxis": "x",
         "y": [
          85.11111111111111,
          74.94444444444444,
          72.55555555555556,
          79.5,
          81.72222222222223,
          93.33333333333331,
          108.11111111111111,
          128.72222222222223,
          89.44444444444444,
          82.72222222222223,
          73.11111111111111,
          74.55555555555556
         ],
         "yaxis": "y"
        },
        {
         "alignmentgroup": "True",
         "hovertemplate": "variable=Argelès-sur-Mer<br>x=%{x}<br>value=%{y}<extra></extra>",
         "legendgroup": "Argelès-sur-Mer",
         "marker": {
          "color": "#ab63fa",
          "pattern": {
           "shape": ""
          }
         },
         "name": "Argelès-sur-Mer",
         "offsetgroup": "Argelès-sur-Mer",
         "orientation": "v",
         "showlegend": true,
         "textposition": "auto",
         "type": "bar",
         "x": [
          "prix_01",
          "prix_02",
          "prix_03",
          "prix_04",
          "prix_05",
          "prix_06",
          "prix_07",
          "prix_08",
          "prix_09",
          "prix_10",
          "prix_11",
          "prix_12"
         ],
         "xaxis": "x",
         "y": [
          62,
          67.55555555555556,
          74.27777777777777,
          77.55555555555556,
          87.22222222222223,
          76.22222222222223,
          110.66666666666669,
          113.22222222222224,
          72.11111111111111,
          71.38888888888889,
          77.22222222222223,
          77.22222222222223
         ],
         "yaxis": "y"
        },
        {
         "alignmentgroup": "True",
         "hovertemplate": "variable=Quiberon<br>x=%{x}<br>value=%{y}<extra></extra>",
         "legendgroup": "Quiberon",
         "marker": {
          "color": "#FFA15A",
          "pattern": {
           "shape": ""
          }
         },
         "name": "Quiberon",
         "offsetgroup": "Quiberon",
         "orientation": "v",
         "showlegend": true,
         "textposition": "auto",
         "type": "bar",
         "x": [
          "prix_01",
          "prix_02",
          "prix_03",
          "prix_04",
          "prix_05",
          "prix_06",
          "prix_07",
          "prix_08",
          "prix_09",
          "prix_10",
          "prix_11",
          "prix_12"
         ],
         "xaxis": "x",
         "y": [
          80.66666666666667,
          94.77777777777776,
          88.94444444444444,
          93.61111111111111,
          94.38888888888889,
          94.27777777777776,
          111.5,
          129.22222222222223,
          87.94444444444444,
          92.22222222222224,
          87.5,
          86.16666666666667
         ],
         "yaxis": "y"
        },
        {
         "alignmentgroup": "True",
         "hovertemplate": "variable=Le Lavandou<br>x=%{x}<br>value=%{y}<extra></extra>",
         "legendgroup": "Le Lavandou",
         "marker": {
          "color": "#19d3f3",
          "pattern": {
           "shape": ""
          }
         },
         "name": "Le Lavandou",
         "offsetgroup": "Le Lavandou",
         "orientation": "v",
         "showlegend": true,
         "textposition": "auto",
         "type": "bar",
         "x": [
          "prix_01",
          "prix_02",
          "prix_03",
          "prix_04",
          "prix_05",
          "prix_06",
          "prix_07",
          "prix_08",
          "prix_09",
          "prix_10",
          "prix_11",
          "prix_12"
         ],
         "xaxis": "x",
         "y": [
          78.83333333333333,
          76.5,
          76.33333333333333,
          87.61111111111111,
          88.11111111111111,
          95.77777777777776,
          134.88888888888889,
          152.88888888888889,
          94.38888888888889,
          87.88888888888889,
          75.55555555555556,
          75.61111111111111
         ],
         "yaxis": "y"
        },
        {
         "alignmentgroup": "True",
         "hovertemplate": "variable=La Grande-Motte<br>x=%{x}<br>value=%{y}<extra></extra>",
         "legendgroup": "La Grande-Motte",
         "marker": {
          "color": "#FF6692",
          "pattern": {
           "shape": ""
          }
         },
         "name": "La Grande-Motte",
         "offsetgroup": "La Grande-Motte",
         "orientation": "v",
         "showlegend": true,
         "textposition": "auto",
         "type": "bar",
         "x": [
          "prix_01",
          "prix_02",
          "prix_03",
          "prix_04",
          "prix_05",
          "prix_06",
          "prix_07",
          "prix_08",
          "prix_09",
          "prix_10",
          "prix_11",
          "prix_12"
         ],
         "xaxis": "x",
         "y": [
          51.77777777777778,
          66.77777777777777,
          55.333333333333336,
          73.55555555555556,
          77.66666666666667,
          69.83333333333333,
          86.77777777777777,
          86.44444444444444,
          84,
          78.77777777777777,
          78,
          77.83333333333333
         ],
         "yaxis": "y"
        },
        {
         "alignmentgroup": "True",
         "hovertemplate": "variable=Ramatuelle<br>x=%{x}<br>value=%{y}<extra></extra>",
         "legendgroup": "Ramatuelle",
         "marker": {
          "color": "#B6E880",
          "pattern": {
           "shape": ""
          }
         },
         "name": "Ramatuelle",
         "offsetgroup": "Ramatuelle",
         "orientation": "v",
         "showlegend": true,
         "textposition": "auto",
         "type": "bar",
         "x": [
          "prix_01",
          "prix_02",
          "prix_03",
          "prix_04",
          "prix_05",
          "prix_06",
          "prix_07",
          "prix_08",
          "prix_09",
          "prix_10",
          "prix_11",
          "prix_12"
         ],
         "xaxis": "x",
         "y": [
          79.16666666666667,
          89.66666666666667,
          80.94444444444444,
          117.77777777777776,
          143.66666666666666,
          147.22222222222223,
          176.22222222222223,
          211,
          141.11111111111111,
          112.83333333333331,
          102.72222222222224,
          116.94444444444444
         ],
         "yaxis": "y"
        },
        {
         "alignmentgroup": "True",
         "hovertemplate": "variable=Saint-Raphaël<br>x=%{x}<br>value=%{y}<extra></extra>",
         "legendgroup": "Saint-Raphaël",
         "marker": {
          "color": "#FF97FF",
          "pattern": {
           "shape": ""
          }
         },
         "name": "Saint-Raphaël",
         "offsetgroup": "Saint-Raphaël",
         "orientation": "v",
         "showlegend": true,
         "textposition": "auto",
         "type": "bar",
         "x": [
          "prix_01",
          "prix_02",
          "prix_03",
          "prix_04",
          "prix_05",
          "prix_06",
          "prix_07",
          "prix_08",
          "prix_09",
          "prix_10",
          "prix_11",
          "prix_12"
         ],
         "xaxis": "x",
         "y": [
          91.27777777777776,
          84.33333333333333,
          74.83333333333333,
          81.61111111111111,
          83.94444444444444,
          97.72222222222224,
          126.27777777777776,
          131.55555555555554,
          102.55555555555556,
          86.22222222222223,
          85.44444444444444,
          88.16666666666667
         ],
         "yaxis": "y"
        },
        {
         "alignmentgroup": "True",
         "hovertemplate": "variable=La Baule-Escoublac<br>x=%{x}<br>value=%{y}<extra></extra>",
         "legendgroup": "La Baule-Escoublac",
         "marker": {
          "color": "#FECB52",
          "pattern": {
           "shape": ""
          }
         },
         "name": "La Baule-Escoublac",
         "offsetgroup": "La Baule-Escoublac",
         "orientation": "v",
         "showlegend": true,
         "textposition": "auto",
         "type": "bar",
         "x": [
          "prix_01",
          "prix_02",
          "prix_03",
          "prix_04",
          "prix_05",
          "prix_06",
          "prix_07",
          "prix_08",
          "prix_09",
          "prix_10",
          "prix_11",
          "prix_12"
         ],
         "xaxis": "x",
         "y": [
          77.83333333333333,
          89.94444444444444,
          88,
          91.61111111111111,
          98.22222222222224,
          85.33333333333333,
          101.38888888888889,
          102.61111111111111,
          87.38888888888889,
          80.55555555555556,
          83.94444444444444,
          90.66666666666669
         ],
         "yaxis": "y"
        }
       ],
       "layout": {
        "barmode": "relative",
        "legend": {
         "title": {
          "text": "variable"
         },
         "tracegroupgap": 0
        },
        "margin": {
         "t": 60
        },
        "template": {
         "data": {
          "bar": [
           {
            "error_x": {
             "color": "#2a3f5f"
            },
            "error_y": {
             "color": "#2a3f5f"
            },
            "marker": {
             "line": {
              "color": "#E5ECF6",
              "width": 0.5
             },
             "pattern": {
              "fillmode": "overlay",
              "size": 10,
              "solidity": 0.2
             }
            },
            "type": "bar"
           }
          ],
          "barpolar": [
           {
            "marker": {
             "line": {
              "color": "#E5ECF6",
              "width": 0.5
             },
             "pattern": {
              "fillmode": "overlay",
              "size": 10,
              "solidity": 0.2
             }
            },
            "type": "barpolar"
           }
          ],
          "carpet": [
           {
            "aaxis": {
             "endlinecolor": "#2a3f5f",
             "gridcolor": "white",
             "linecolor": "white",
             "minorgridcolor": "white",
             "startlinecolor": "#2a3f5f"
            },
            "baxis": {
             "endlinecolor": "#2a3f5f",
             "gridcolor": "white",
             "linecolor": "white",
             "minorgridcolor": "white",
             "startlinecolor": "#2a3f5f"
            },
            "type": "carpet"
           }
          ],
          "choropleth": [
           {
            "colorbar": {
             "outlinewidth": 0,
             "ticks": ""
            },
            "type": "choropleth"
           }
          ],
          "contour": [
           {
            "colorbar": {
             "outlinewidth": 0,
             "ticks": ""
            },
            "colorscale": [
             [
              0,
              "#0d0887"
             ],
             [
              0.1111111111111111,
              "#46039f"
             ],
             [
              0.2222222222222222,
              "#7201a8"
             ],
             [
              0.3333333333333333,
              "#9c179e"
             ],
             [
              0.4444444444444444,
              "#bd3786"
             ],
             [
              0.5555555555555556,
              "#d8576b"
             ],
             [
              0.6666666666666666,
              "#ed7953"
             ],
             [
              0.7777777777777778,
              "#fb9f3a"
             ],
             [
              0.8888888888888888,
              "#fdca26"
             ],
             [
              1,
              "#f0f921"
             ]
            ],
            "type": "contour"
           }
          ],
          "contourcarpet": [
           {
            "colorbar": {
             "outlinewidth": 0,
             "ticks": ""
            },
            "type": "contourcarpet"
           }
          ],
          "heatmap": [
           {
            "colorbar": {
             "outlinewidth": 0,
             "ticks": ""
            },
            "colorscale": [
             [
              0,
              "#0d0887"
             ],
             [
              0.1111111111111111,
              "#46039f"
             ],
             [
              0.2222222222222222,
              "#7201a8"
             ],
             [
              0.3333333333333333,
              "#9c179e"
             ],
             [
              0.4444444444444444,
              "#bd3786"
             ],
             [
              0.5555555555555556,
              "#d8576b"
             ],
             [
              0.6666666666666666,
              "#ed7953"
             ],
             [
              0.7777777777777778,
              "#fb9f3a"
             ],
             [
              0.8888888888888888,
              "#fdca26"
             ],
             [
              1,
              "#f0f921"
             ]
            ],
            "type": "heatmap"
           }
          ],
          "heatmapgl": [
           {
            "colorbar": {
             "outlinewidth": 0,
             "ticks": ""
            },
            "colorscale": [
             [
              0,
              "#0d0887"
             ],
             [
              0.1111111111111111,
              "#46039f"
             ],
             [
              0.2222222222222222,
              "#7201a8"
             ],
             [
              0.3333333333333333,
              "#9c179e"
             ],
             [
              0.4444444444444444,
              "#bd3786"
             ],
             [
              0.5555555555555556,
              "#d8576b"
             ],
             [
              0.6666666666666666,
              "#ed7953"
             ],
             [
              0.7777777777777778,
              "#fb9f3a"
             ],
             [
              0.8888888888888888,
              "#fdca26"
             ],
             [
              1,
              "#f0f921"
             ]
            ],
            "type": "heatmapgl"
           }
          ],
          "histogram": [
           {
            "marker": {
             "pattern": {
              "fillmode": "overlay",
              "size": 10,
              "solidity": 0.2
             }
            },
            "type": "histogram"
           }
          ],
          "histogram2d": [
           {
            "colorbar": {
             "outlinewidth": 0,
             "ticks": ""
            },
            "colorscale": [
             [
              0,
              "#0d0887"
             ],
             [
              0.1111111111111111,
              "#46039f"
             ],
             [
              0.2222222222222222,
              "#7201a8"
             ],
             [
              0.3333333333333333,
              "#9c179e"
             ],
             [
              0.4444444444444444,
              "#bd3786"
             ],
             [
              0.5555555555555556,
              "#d8576b"
             ],
             [
              0.6666666666666666,
              "#ed7953"
             ],
             [
              0.7777777777777778,
              "#fb9f3a"
             ],
             [
              0.8888888888888888,
              "#fdca26"
             ],
             [
              1,
              "#f0f921"
             ]
            ],
            "type": "histogram2d"
           }
          ],
          "histogram2dcontour": [
           {
            "colorbar": {
             "outlinewidth": 0,
             "ticks": ""
            },
            "colorscale": [
             [
              0,
              "#0d0887"
             ],
             [
              0.1111111111111111,
              "#46039f"
             ],
             [
              0.2222222222222222,
              "#7201a8"
             ],
             [
              0.3333333333333333,
              "#9c179e"
             ],
             [
              0.4444444444444444,
              "#bd3786"
             ],
             [
              0.5555555555555556,
              "#d8576b"
             ],
             [
              0.6666666666666666,
              "#ed7953"
             ],
             [
              0.7777777777777778,
              "#fb9f3a"
             ],
             [
              0.8888888888888888,
              "#fdca26"
             ],
             [
              1,
              "#f0f921"
             ]
            ],
            "type": "histogram2dcontour"
           }
          ],
          "mesh3d": [
           {
            "colorbar": {
             "outlinewidth": 0,
             "ticks": ""
            },
            "type": "mesh3d"
           }
          ],
          "parcoords": [
           {
            "line": {
             "colorbar": {
              "outlinewidth": 0,
              "ticks": ""
             }
            },
            "type": "parcoords"
           }
          ],
          "pie": [
           {
            "automargin": true,
            "type": "pie"
           }
          ],
          "scatter": [
           {
            "fillpattern": {
             "fillmode": "overlay",
             "size": 10,
             "solidity": 0.2
            },
            "type": "scatter"
           }
          ],
          "scatter3d": [
           {
            "line": {
             "colorbar": {
              "outlinewidth": 0,
              "ticks": ""
             }
            },
            "marker": {
             "colorbar": {
              "outlinewidth": 0,
              "ticks": ""
             }
            },
            "type": "scatter3d"
           }
          ],
          "scattercarpet": [
           {
            "marker": {
             "colorbar": {
              "outlinewidth": 0,
              "ticks": ""
             }
            },
            "type": "scattercarpet"
           }
          ],
          "scattergeo": [
           {
            "marker": {
             "colorbar": {
              "outlinewidth": 0,
              "ticks": ""
             }
            },
            "type": "scattergeo"
           }
          ],
          "scattergl": [
           {
            "marker": {
             "colorbar": {
              "outlinewidth": 0,
              "ticks": ""
             }
            },
            "type": "scattergl"
           }
          ],
          "scattermapbox": [
           {
            "marker": {
             "colorbar": {
              "outlinewidth": 0,
              "ticks": ""
             }
            },
            "type": "scattermapbox"
           }
          ],
          "scatterpolar": [
           {
            "marker": {
             "colorbar": {
              "outlinewidth": 0,
              "ticks": ""
             }
            },
            "type": "scatterpolar"
           }
          ],
          "scatterpolargl": [
           {
            "marker": {
             "colorbar": {
              "outlinewidth": 0,
              "ticks": ""
             }
            },
            "type": "scatterpolargl"
           }
          ],
          "scatterternary": [
           {
            "marker": {
             "colorbar": {
              "outlinewidth": 0,
              "ticks": ""
             }
            },
            "type": "scatterternary"
           }
          ],
          "surface": [
           {
            "colorbar": {
             "outlinewidth": 0,
             "ticks": ""
            },
            "colorscale": [
             [
              0,
              "#0d0887"
             ],
             [
              0.1111111111111111,
              "#46039f"
             ],
             [
              0.2222222222222222,
              "#7201a8"
             ],
             [
              0.3333333333333333,
              "#9c179e"
             ],
             [
              0.4444444444444444,
              "#bd3786"
             ],
             [
              0.5555555555555556,
              "#d8576b"
             ],
             [
              0.6666666666666666,
              "#ed7953"
             ],
             [
              0.7777777777777778,
              "#fb9f3a"
             ],
             [
              0.8888888888888888,
              "#fdca26"
             ],
             [
              1,
              "#f0f921"
             ]
            ],
            "type": "surface"
           }
          ],
          "table": [
           {
            "cells": {
             "fill": {
              "color": "#EBF0F8"
             },
             "line": {
              "color": "white"
             }
            },
            "header": {
             "fill": {
              "color": "#C8D4E3"
             },
             "line": {
              "color": "white"
             }
            },
            "type": "table"
           }
          ]
         },
         "layout": {
          "annotationdefaults": {
           "arrowcolor": "#2a3f5f",
           "arrowhead": 0,
           "arrowwidth": 1
          },
          "autotypenumbers": "strict",
          "coloraxis": {
           "colorbar": {
            "outlinewidth": 0,
            "ticks": ""
           }
          },
          "colorscale": {
           "diverging": [
            [
             0,
             "#8e0152"
            ],
            [
             0.1,
             "#c51b7d"
            ],
            [
             0.2,
             "#de77ae"
            ],
            [
             0.3,
             "#f1b6da"
            ],
            [
             0.4,
             "#fde0ef"
            ],
            [
             0.5,
             "#f7f7f7"
            ],
            [
             0.6,
             "#e6f5d0"
            ],
            [
             0.7,
             "#b8e186"
            ],
            [
             0.8,
             "#7fbc41"
            ],
            [
             0.9,
             "#4d9221"
            ],
            [
             1,
             "#276419"
            ]
           ],
           "sequential": [
            [
             0,
             "#0d0887"
            ],
            [
             0.1111111111111111,
             "#46039f"
            ],
            [
             0.2222222222222222,
             "#7201a8"
            ],
            [
             0.3333333333333333,
             "#9c179e"
            ],
            [
             0.4444444444444444,
             "#bd3786"
            ],
            [
             0.5555555555555556,
             "#d8576b"
            ],
            [
             0.6666666666666666,
             "#ed7953"
            ],
            [
             0.7777777777777778,
             "#fb9f3a"
            ],
            [
             0.8888888888888888,
             "#fdca26"
            ],
            [
             1,
             "#f0f921"
            ]
           ],
           "sequentialminus": [
            [
             0,
             "#0d0887"
            ],
            [
             0.1111111111111111,
             "#46039f"
            ],
            [
             0.2222222222222222,
             "#7201a8"
            ],
            [
             0.3333333333333333,
             "#9c179e"
            ],
            [
             0.4444444444444444,
             "#bd3786"
            ],
            [
             0.5555555555555556,
             "#d8576b"
            ],
            [
             0.6666666666666666,
             "#ed7953"
            ],
            [
             0.7777777777777778,
             "#fb9f3a"
            ],
            [
             0.8888888888888888,
             "#fdca26"
            ],
            [
             1,
             "#f0f921"
            ]
           ]
          },
          "colorway": [
           "#636efa",
           "#EF553B",
           "#00cc96",
           "#ab63fa",
           "#FFA15A",
           "#19d3f3",
           "#FF6692",
           "#B6E880",
           "#FF97FF",
           "#FECB52"
          ],
          "font": {
           "color": "#2a3f5f"
          },
          "geo": {
           "bgcolor": "white",
           "lakecolor": "white",
           "landcolor": "#E5ECF6",
           "showlakes": true,
           "showland": true,
           "subunitcolor": "white"
          },
          "hoverlabel": {
           "align": "left"
          },
          "hovermode": "closest",
          "mapbox": {
           "style": "light"
          },
          "paper_bgcolor": "white",
          "plot_bgcolor": "#E5ECF6",
          "polar": {
           "angularaxis": {
            "gridcolor": "white",
            "linecolor": "white",
            "ticks": ""
           },
           "bgcolor": "#E5ECF6",
           "radialaxis": {
            "gridcolor": "white",
            "linecolor": "white",
            "ticks": ""
           }
          },
          "scene": {
           "xaxis": {
            "backgroundcolor": "#E5ECF6",
            "gridcolor": "white",
            "gridwidth": 2,
            "linecolor": "white",
            "showbackground": true,
            "ticks": "",
            "zerolinecolor": "white"
           },
           "yaxis": {
            "backgroundcolor": "#E5ECF6",
            "gridcolor": "white",
            "gridwidth": 2,
            "linecolor": "white",
            "showbackground": true,
            "ticks": "",
            "zerolinecolor": "white"
           },
           "zaxis": {
            "backgroundcolor": "#E5ECF6",
            "gridcolor": "white",
            "gridwidth": 2,
            "linecolor": "white",
            "showbackground": true,
            "ticks": "",
            "zerolinecolor": "white"
           }
          },
          "shapedefaults": {
           "line": {
            "color": "#2a3f5f"
           }
          },
          "ternary": {
           "aaxis": {
            "gridcolor": "white",
            "linecolor": "white",
            "ticks": ""
           },
           "baxis": {
            "gridcolor": "white",
            "linecolor": "white",
            "ticks": ""
           },
           "bgcolor": "#E5ECF6",
           "caxis": {
            "gridcolor": "white",
            "linecolor": "white",
            "ticks": ""
           }
          },
          "title": {
           "x": 0.05
          },
          "xaxis": {
           "automargin": true,
           "gridcolor": "white",
           "linecolor": "white",
           "ticks": "",
           "title": {
            "standoff": 15
           },
           "zerolinecolor": "white",
           "zerolinewidth": 2
          },
          "yaxis": {
           "automargin": true,
           "gridcolor": "white",
           "linecolor": "white",
           "ticks": "",
           "title": {
            "standoff": 15
           },
           "zerolinecolor": "white",
           "zerolinewidth": 2
          }
         }
        },
        "xaxis": {
         "anchor": "y",
         "domain": [
          0,
          1
         ],
         "title": {
          "text": "x"
         }
        },
        "yaxis": {
         "anchor": "x",
         "domain": [
          0,
          1
         ],
         "title": {
          "text": "value"
         }
        }
       }
      },
      "text/html": [
       "<div>                            <div id=\"c2e65bec-bd1e-4e84-b13c-8fdbab588ed0\" class=\"plotly-graph-div\" style=\"height:525px; width:100%;\"></div>            <script type=\"text/javascript\">                require([\"plotly\"], function(Plotly) {                    window.PLOTLYENV=window.PLOTLYENV || {};                                    if (document.getElementById(\"c2e65bec-bd1e-4e84-b13c-8fdbab588ed0\")) {                    Plotly.newPlot(                        \"c2e65bec-bd1e-4e84-b13c-8fdbab588ed0\",                        [{\"alignmentgroup\":\"True\",\"hovertemplate\":\"variable=Agde<br>x=%{x}<br>value=%{y}<extra></extra>\",\"legendgroup\":\"Agde\",\"marker\":{\"color\":\"#636efa\",\"pattern\":{\"shape\":\"\"}},\"name\":\"Agde\",\"offsetgroup\":\"Agde\",\"orientation\":\"v\",\"showlegend\":true,\"textposition\":\"auto\",\"x\":[\"prix_01\",\"prix_02\",\"prix_03\",\"prix_04\",\"prix_05\",\"prix_06\",\"prix_07\",\"prix_08\",\"prix_09\",\"prix_10\",\"prix_11\",\"prix_12\"],\"xaxis\":\"x\",\"y\":[57.0,60.77777777777778,52.94444444444444,70.11111111111111,74.55555555555556,72.72222222222223,126.66666666666669,131.22222222222223,76.16666666666667,62.333333333333336,59.77777777777778,62.27777777777778],\"yaxis\":\"y\",\"type\":\"bar\"},{\"alignmentgroup\":\"True\",\"hovertemplate\":\"variable=Chamonix-Mont-Blanc<br>x=%{x}<br>value=%{y}<extra></extra>\",\"legendgroup\":\"Chamonix-Mont-Blanc\",\"marker\":{\"color\":\"#EF553B\",\"pattern\":{\"shape\":\"\"}},\"name\":\"Chamonix-Mont-Blanc\",\"offsetgroup\":\"Chamonix-Mont-Blanc\",\"orientation\":\"v\",\"showlegend\":true,\"textposition\":\"auto\",\"x\":[\"prix_01\",\"prix_02\",\"prix_03\",\"prix_04\",\"prix_05\",\"prix_06\",\"prix_07\",\"prix_08\",\"prix_09\",\"prix_10\",\"prix_11\",\"prix_12\"],\"xaxis\":\"x\",\"y\":[115.55555555555556,159.0,113.38888888888889,121.66666666666669,100.88888888888889,107.55555555555556,120.27777777777776,133.61111111111111,96.11111111111111,116.72222222222224,121.33333333333331,124.44444444444444],\"yaxis\":\"y\",\"type\":\"bar\"},{\"alignmentgroup\":\"True\",\"hovertemplate\":\"variable=Carnac<br>x=%{x}<br>value=%{y}<extra></extra>\",\"legendgroup\":\"Carnac\",\"marker\":{\"color\":\"#00cc96\",\"pattern\":{\"shape\":\"\"}},\"name\":\"Carnac\",\"offsetgroup\":\"Carnac\",\"orientation\":\"v\",\"showlegend\":true,\"textposition\":\"auto\",\"x\":[\"prix_01\",\"prix_02\",\"prix_03\",\"prix_04\",\"prix_05\",\"prix_06\",\"prix_07\",\"prix_08\",\"prix_09\",\"prix_10\",\"prix_11\",\"prix_12\"],\"xaxis\":\"x\",\"y\":[85.11111111111111,74.94444444444444,72.55555555555556,79.5,81.72222222222223,93.33333333333331,108.11111111111111,128.72222222222223,89.44444444444444,82.72222222222223,73.11111111111111,74.55555555555556],\"yaxis\":\"y\",\"type\":\"bar\"},{\"alignmentgroup\":\"True\",\"hovertemplate\":\"variable=Argel\\u00e8s-sur-Mer<br>x=%{x}<br>value=%{y}<extra></extra>\",\"legendgroup\":\"Argel\\u00e8s-sur-Mer\",\"marker\":{\"color\":\"#ab63fa\",\"pattern\":{\"shape\":\"\"}},\"name\":\"Argel\\u00e8s-sur-Mer\",\"offsetgroup\":\"Argel\\u00e8s-sur-Mer\",\"orientation\":\"v\",\"showlegend\":true,\"textposition\":\"auto\",\"x\":[\"prix_01\",\"prix_02\",\"prix_03\",\"prix_04\",\"prix_05\",\"prix_06\",\"prix_07\",\"prix_08\",\"prix_09\",\"prix_10\",\"prix_11\",\"prix_12\"],\"xaxis\":\"x\",\"y\":[62.0,67.55555555555556,74.27777777777777,77.55555555555556,87.22222222222223,76.22222222222223,110.66666666666669,113.22222222222224,72.11111111111111,71.38888888888889,77.22222222222223,77.22222222222223],\"yaxis\":\"y\",\"type\":\"bar\"},{\"alignmentgroup\":\"True\",\"hovertemplate\":\"variable=Quiberon<br>x=%{x}<br>value=%{y}<extra></extra>\",\"legendgroup\":\"Quiberon\",\"marker\":{\"color\":\"#FFA15A\",\"pattern\":{\"shape\":\"\"}},\"name\":\"Quiberon\",\"offsetgroup\":\"Quiberon\",\"orientation\":\"v\",\"showlegend\":true,\"textposition\":\"auto\",\"x\":[\"prix_01\",\"prix_02\",\"prix_03\",\"prix_04\",\"prix_05\",\"prix_06\",\"prix_07\",\"prix_08\",\"prix_09\",\"prix_10\",\"prix_11\",\"prix_12\"],\"xaxis\":\"x\",\"y\":[80.66666666666667,94.77777777777776,88.94444444444444,93.61111111111111,94.38888888888889,94.27777777777776,111.5,129.22222222222223,87.94444444444444,92.22222222222224,87.5,86.16666666666667],\"yaxis\":\"y\",\"type\":\"bar\"},{\"alignmentgroup\":\"True\",\"hovertemplate\":\"variable=Le Lavandou<br>x=%{x}<br>value=%{y}<extra></extra>\",\"legendgroup\":\"Le Lavandou\",\"marker\":{\"color\":\"#19d3f3\",\"pattern\":{\"shape\":\"\"}},\"name\":\"Le Lavandou\",\"offsetgroup\":\"Le Lavandou\",\"orientation\":\"v\",\"showlegend\":true,\"textposition\":\"auto\",\"x\":[\"prix_01\",\"prix_02\",\"prix_03\",\"prix_04\",\"prix_05\",\"prix_06\",\"prix_07\",\"prix_08\",\"prix_09\",\"prix_10\",\"prix_11\",\"prix_12\"],\"xaxis\":\"x\",\"y\":[78.83333333333333,76.5,76.33333333333333,87.61111111111111,88.11111111111111,95.77777777777776,134.88888888888889,152.88888888888889,94.38888888888889,87.88888888888889,75.55555555555556,75.61111111111111],\"yaxis\":\"y\",\"type\":\"bar\"},{\"alignmentgroup\":\"True\",\"hovertemplate\":\"variable=La Grande-Motte<br>x=%{x}<br>value=%{y}<extra></extra>\",\"legendgroup\":\"La Grande-Motte\",\"marker\":{\"color\":\"#FF6692\",\"pattern\":{\"shape\":\"\"}},\"name\":\"La Grande-Motte\",\"offsetgroup\":\"La Grande-Motte\",\"orientation\":\"v\",\"showlegend\":true,\"textposition\":\"auto\",\"x\":[\"prix_01\",\"prix_02\",\"prix_03\",\"prix_04\",\"prix_05\",\"prix_06\",\"prix_07\",\"prix_08\",\"prix_09\",\"prix_10\",\"prix_11\",\"prix_12\"],\"xaxis\":\"x\",\"y\":[51.77777777777778,66.77777777777777,55.333333333333336,73.55555555555556,77.66666666666667,69.83333333333333,86.77777777777777,86.44444444444444,84.0,78.77777777777777,78.0,77.83333333333333],\"yaxis\":\"y\",\"type\":\"bar\"},{\"alignmentgroup\":\"True\",\"hovertemplate\":\"variable=Ramatuelle<br>x=%{x}<br>value=%{y}<extra></extra>\",\"legendgroup\":\"Ramatuelle\",\"marker\":{\"color\":\"#B6E880\",\"pattern\":{\"shape\":\"\"}},\"name\":\"Ramatuelle\",\"offsetgroup\":\"Ramatuelle\",\"orientation\":\"v\",\"showlegend\":true,\"textposition\":\"auto\",\"x\":[\"prix_01\",\"prix_02\",\"prix_03\",\"prix_04\",\"prix_05\",\"prix_06\",\"prix_07\",\"prix_08\",\"prix_09\",\"prix_10\",\"prix_11\",\"prix_12\"],\"xaxis\":\"x\",\"y\":[79.16666666666667,89.66666666666667,80.94444444444444,117.77777777777776,143.66666666666666,147.22222222222223,176.22222222222223,211.0,141.11111111111111,112.83333333333331,102.72222222222224,116.94444444444444],\"yaxis\":\"y\",\"type\":\"bar\"},{\"alignmentgroup\":\"True\",\"hovertemplate\":\"variable=Saint-Rapha\\u00ebl<br>x=%{x}<br>value=%{y}<extra></extra>\",\"legendgroup\":\"Saint-Rapha\\u00ebl\",\"marker\":{\"color\":\"#FF97FF\",\"pattern\":{\"shape\":\"\"}},\"name\":\"Saint-Rapha\\u00ebl\",\"offsetgroup\":\"Saint-Rapha\\u00ebl\",\"orientation\":\"v\",\"showlegend\":true,\"textposition\":\"auto\",\"x\":[\"prix_01\",\"prix_02\",\"prix_03\",\"prix_04\",\"prix_05\",\"prix_06\",\"prix_07\",\"prix_08\",\"prix_09\",\"prix_10\",\"prix_11\",\"prix_12\"],\"xaxis\":\"x\",\"y\":[91.27777777777776,84.33333333333333,74.83333333333333,81.61111111111111,83.94444444444444,97.72222222222224,126.27777777777776,131.55555555555554,102.55555555555556,86.22222222222223,85.44444444444444,88.16666666666667],\"yaxis\":\"y\",\"type\":\"bar\"},{\"alignmentgroup\":\"True\",\"hovertemplate\":\"variable=La Baule-Escoublac<br>x=%{x}<br>value=%{y}<extra></extra>\",\"legendgroup\":\"La Baule-Escoublac\",\"marker\":{\"color\":\"#FECB52\",\"pattern\":{\"shape\":\"\"}},\"name\":\"La Baule-Escoublac\",\"offsetgroup\":\"La Baule-Escoublac\",\"orientation\":\"v\",\"showlegend\":true,\"textposition\":\"auto\",\"x\":[\"prix_01\",\"prix_02\",\"prix_03\",\"prix_04\",\"prix_05\",\"prix_06\",\"prix_07\",\"prix_08\",\"prix_09\",\"prix_10\",\"prix_11\",\"prix_12\"],\"xaxis\":\"x\",\"y\":[77.83333333333333,89.94444444444444,88.0,91.61111111111111,98.22222222222224,85.33333333333333,101.38888888888889,102.61111111111111,87.38888888888889,80.55555555555556,83.94444444444444,90.66666666666669],\"yaxis\":\"y\",\"type\":\"bar\"}],                        {\"template\":{\"data\":{\"histogram2dcontour\":[{\"type\":\"histogram2dcontour\",\"colorbar\":{\"outlinewidth\":0,\"ticks\":\"\"},\"colorscale\":[[0.0,\"#0d0887\"],[0.1111111111111111,\"#46039f\"],[0.2222222222222222,\"#7201a8\"],[0.3333333333333333,\"#9c179e\"],[0.4444444444444444,\"#bd3786\"],[0.5555555555555556,\"#d8576b\"],[0.6666666666666666,\"#ed7953\"],[0.7777777777777778,\"#fb9f3a\"],[0.8888888888888888,\"#fdca26\"],[1.0,\"#f0f921\"]]}],\"choropleth\":[{\"type\":\"choropleth\",\"colorbar\":{\"outlinewidth\":0,\"ticks\":\"\"}}],\"histogram2d\":[{\"type\":\"histogram2d\",\"colorbar\":{\"outlinewidth\":0,\"ticks\":\"\"},\"colorscale\":[[0.0,\"#0d0887\"],[0.1111111111111111,\"#46039f\"],[0.2222222222222222,\"#7201a8\"],[0.3333333333333333,\"#9c179e\"],[0.4444444444444444,\"#bd3786\"],[0.5555555555555556,\"#d8576b\"],[0.6666666666666666,\"#ed7953\"],[0.7777777777777778,\"#fb9f3a\"],[0.8888888888888888,\"#fdca26\"],[1.0,\"#f0f921\"]]}],\"heatmap\":[{\"type\":\"heatmap\",\"colorbar\":{\"outlinewidth\":0,\"ticks\":\"\"},\"colorscale\":[[0.0,\"#0d0887\"],[0.1111111111111111,\"#46039f\"],[0.2222222222222222,\"#7201a8\"],[0.3333333333333333,\"#9c179e\"],[0.4444444444444444,\"#bd3786\"],[0.5555555555555556,\"#d8576b\"],[0.6666666666666666,\"#ed7953\"],[0.7777777777777778,\"#fb9f3a\"],[0.8888888888888888,\"#fdca26\"],[1.0,\"#f0f921\"]]}],\"heatmapgl\":[{\"type\":\"heatmapgl\",\"colorbar\":{\"outlinewidth\":0,\"ticks\":\"\"},\"colorscale\":[[0.0,\"#0d0887\"],[0.1111111111111111,\"#46039f\"],[0.2222222222222222,\"#7201a8\"],[0.3333333333333333,\"#9c179e\"],[0.4444444444444444,\"#bd3786\"],[0.5555555555555556,\"#d8576b\"],[0.6666666666666666,\"#ed7953\"],[0.7777777777777778,\"#fb9f3a\"],[0.8888888888888888,\"#fdca26\"],[1.0,\"#f0f921\"]]}],\"contourcarpet\":[{\"type\":\"contourcarpet\",\"colorbar\":{\"outlinewidth\":0,\"ticks\":\"\"}}],\"contour\":[{\"type\":\"contour\",\"colorbar\":{\"outlinewidth\":0,\"ticks\":\"\"},\"colorscale\":[[0.0,\"#0d0887\"],[0.1111111111111111,\"#46039f\"],[0.2222222222222222,\"#7201a8\"],[0.3333333333333333,\"#9c179e\"],[0.4444444444444444,\"#bd3786\"],[0.5555555555555556,\"#d8576b\"],[0.6666666666666666,\"#ed7953\"],[0.7777777777777778,\"#fb9f3a\"],[0.8888888888888888,\"#fdca26\"],[1.0,\"#f0f921\"]]}],\"surface\":[{\"type\":\"surface\",\"colorbar\":{\"outlinewidth\":0,\"ticks\":\"\"},\"colorscale\":[[0.0,\"#0d0887\"],[0.1111111111111111,\"#46039f\"],[0.2222222222222222,\"#7201a8\"],[0.3333333333333333,\"#9c179e\"],[0.4444444444444444,\"#bd3786\"],[0.5555555555555556,\"#d8576b\"],[0.6666666666666666,\"#ed7953\"],[0.7777777777777778,\"#fb9f3a\"],[0.8888888888888888,\"#fdca26\"],[1.0,\"#f0f921\"]]}],\"mesh3d\":[{\"type\":\"mesh3d\",\"colorbar\":{\"outlinewidth\":0,\"ticks\":\"\"}}],\"scatter\":[{\"fillpattern\":{\"fillmode\":\"overlay\",\"size\":10,\"solidity\":0.2},\"type\":\"scatter\"}],\"parcoords\":[{\"type\":\"parcoords\",\"line\":{\"colorbar\":{\"outlinewidth\":0,\"ticks\":\"\"}}}],\"scatterpolargl\":[{\"type\":\"scatterpolargl\",\"marker\":{\"colorbar\":{\"outlinewidth\":0,\"ticks\":\"\"}}}],\"bar\":[{\"error_x\":{\"color\":\"#2a3f5f\"},\"error_y\":{\"color\":\"#2a3f5f\"},\"marker\":{\"line\":{\"color\":\"#E5ECF6\",\"width\":0.5},\"pattern\":{\"fillmode\":\"overlay\",\"size\":10,\"solidity\":0.2}},\"type\":\"bar\"}],\"scattergeo\":[{\"type\":\"scattergeo\",\"marker\":{\"colorbar\":{\"outlinewidth\":0,\"ticks\":\"\"}}}],\"scatterpolar\":[{\"type\":\"scatterpolar\",\"marker\":{\"colorbar\":{\"outlinewidth\":0,\"ticks\":\"\"}}}],\"histogram\":[{\"marker\":{\"pattern\":{\"fillmode\":\"overlay\",\"size\":10,\"solidity\":0.2}},\"type\":\"histogram\"}],\"scattergl\":[{\"type\":\"scattergl\",\"marker\":{\"colorbar\":{\"outlinewidth\":0,\"ticks\":\"\"}}}],\"scatter3d\":[{\"type\":\"scatter3d\",\"line\":{\"colorbar\":{\"outlinewidth\":0,\"ticks\":\"\"}},\"marker\":{\"colorbar\":{\"outlinewidth\":0,\"ticks\":\"\"}}}],\"scattermapbox\":[{\"type\":\"scattermapbox\",\"marker\":{\"colorbar\":{\"outlinewidth\":0,\"ticks\":\"\"}}}],\"scatterternary\":[{\"type\":\"scatterternary\",\"marker\":{\"colorbar\":{\"outlinewidth\":0,\"ticks\":\"\"}}}],\"scattercarpet\":[{\"type\":\"scattercarpet\",\"marker\":{\"colorbar\":{\"outlinewidth\":0,\"ticks\":\"\"}}}],\"carpet\":[{\"aaxis\":{\"endlinecolor\":\"#2a3f5f\",\"gridcolor\":\"white\",\"linecolor\":\"white\",\"minorgridcolor\":\"white\",\"startlinecolor\":\"#2a3f5f\"},\"baxis\":{\"endlinecolor\":\"#2a3f5f\",\"gridcolor\":\"white\",\"linecolor\":\"white\",\"minorgridcolor\":\"white\",\"startlinecolor\":\"#2a3f5f\"},\"type\":\"carpet\"}],\"table\":[{\"cells\":{\"fill\":{\"color\":\"#EBF0F8\"},\"line\":{\"color\":\"white\"}},\"header\":{\"fill\":{\"color\":\"#C8D4E3\"},\"line\":{\"color\":\"white\"}},\"type\":\"table\"}],\"barpolar\":[{\"marker\":{\"line\":{\"color\":\"#E5ECF6\",\"width\":0.5},\"pattern\":{\"fillmode\":\"overlay\",\"size\":10,\"solidity\":0.2}},\"type\":\"barpolar\"}],\"pie\":[{\"automargin\":true,\"type\":\"pie\"}]},\"layout\":{\"autotypenumbers\":\"strict\",\"colorway\":[\"#636efa\",\"#EF553B\",\"#00cc96\",\"#ab63fa\",\"#FFA15A\",\"#19d3f3\",\"#FF6692\",\"#B6E880\",\"#FF97FF\",\"#FECB52\"],\"font\":{\"color\":\"#2a3f5f\"},\"hovermode\":\"closest\",\"hoverlabel\":{\"align\":\"left\"},\"paper_bgcolor\":\"white\",\"plot_bgcolor\":\"#E5ECF6\",\"polar\":{\"bgcolor\":\"#E5ECF6\",\"angularaxis\":{\"gridcolor\":\"white\",\"linecolor\":\"white\",\"ticks\":\"\"},\"radialaxis\":{\"gridcolor\":\"white\",\"linecolor\":\"white\",\"ticks\":\"\"}},\"ternary\":{\"bgcolor\":\"#E5ECF6\",\"aaxis\":{\"gridcolor\":\"white\",\"linecolor\":\"white\",\"ticks\":\"\"},\"baxis\":{\"gridcolor\":\"white\",\"linecolor\":\"white\",\"ticks\":\"\"},\"caxis\":{\"gridcolor\":\"white\",\"linecolor\":\"white\",\"ticks\":\"\"}},\"coloraxis\":{\"colorbar\":{\"outlinewidth\":0,\"ticks\":\"\"}},\"colorscale\":{\"sequential\":[[0.0,\"#0d0887\"],[0.1111111111111111,\"#46039f\"],[0.2222222222222222,\"#7201a8\"],[0.3333333333333333,\"#9c179e\"],[0.4444444444444444,\"#bd3786\"],[0.5555555555555556,\"#d8576b\"],[0.6666666666666666,\"#ed7953\"],[0.7777777777777778,\"#fb9f3a\"],[0.8888888888888888,\"#fdca26\"],[1.0,\"#f0f921\"]],\"sequentialminus\":[[0.0,\"#0d0887\"],[0.1111111111111111,\"#46039f\"],[0.2222222222222222,\"#7201a8\"],[0.3333333333333333,\"#9c179e\"],[0.4444444444444444,\"#bd3786\"],[0.5555555555555556,\"#d8576b\"],[0.6666666666666666,\"#ed7953\"],[0.7777777777777778,\"#fb9f3a\"],[0.8888888888888888,\"#fdca26\"],[1.0,\"#f0f921\"]],\"diverging\":[[0,\"#8e0152\"],[0.1,\"#c51b7d\"],[0.2,\"#de77ae\"],[0.3,\"#f1b6da\"],[0.4,\"#fde0ef\"],[0.5,\"#f7f7f7\"],[0.6,\"#e6f5d0\"],[0.7,\"#b8e186\"],[0.8,\"#7fbc41\"],[0.9,\"#4d9221\"],[1,\"#276419\"]]},\"xaxis\":{\"gridcolor\":\"white\",\"linecolor\":\"white\",\"ticks\":\"\",\"title\":{\"standoff\":15},\"zerolinecolor\":\"white\",\"automargin\":true,\"zerolinewidth\":2},\"yaxis\":{\"gridcolor\":\"white\",\"linecolor\":\"white\",\"ticks\":\"\",\"title\":{\"standoff\":15},\"zerolinecolor\":\"white\",\"automargin\":true,\"zerolinewidth\":2},\"scene\":{\"xaxis\":{\"backgroundcolor\":\"#E5ECF6\",\"gridcolor\":\"white\",\"linecolor\":\"white\",\"showbackground\":true,\"ticks\":\"\",\"zerolinecolor\":\"white\",\"gridwidth\":2},\"yaxis\":{\"backgroundcolor\":\"#E5ECF6\",\"gridcolor\":\"white\",\"linecolor\":\"white\",\"showbackground\":true,\"ticks\":\"\",\"zerolinecolor\":\"white\",\"gridwidth\":2},\"zaxis\":{\"backgroundcolor\":\"#E5ECF6\",\"gridcolor\":\"white\",\"linecolor\":\"white\",\"showbackground\":true,\"ticks\":\"\",\"zerolinecolor\":\"white\",\"gridwidth\":2}},\"shapedefaults\":{\"line\":{\"color\":\"#2a3f5f\"}},\"annotationdefaults\":{\"arrowcolor\":\"#2a3f5f\",\"arrowhead\":0,\"arrowwidth\":1},\"geo\":{\"bgcolor\":\"white\",\"landcolor\":\"#E5ECF6\",\"subunitcolor\":\"white\",\"showland\":true,\"showlakes\":true,\"lakecolor\":\"white\"},\"title\":{\"x\":0.05},\"mapbox\":{\"style\":\"light\"}}},\"xaxis\":{\"anchor\":\"y\",\"domain\":[0.0,1.0],\"title\":{\"text\":\"x\"}},\"yaxis\":{\"anchor\":\"x\",\"domain\":[0.0,1.0],\"title\":{\"text\":\"value\"}},\"legend\":{\"title\":{\"text\":\"variable\"},\"tracegroupgap\":0},\"margin\":{\"t\":60},\"barmode\":\"relative\"},                        {\"responsive\": true}                    ).then(function(){\n",
       "                            \n",
       "var gd = document.getElementById('c2e65bec-bd1e-4e84-b13c-8fdbab588ed0');\n",
       "var x = new MutationObserver(function (mutations, observer) {{\n",
       "        var display = window.getComputedStyle(gd).display;\n",
       "        if (!display || display === 'none') {{\n",
       "            console.log([gd, 'removed!']);\n",
       "            Plotly.purge(gd);\n",
       "            observer.disconnect();\n",
       "        }}\n",
       "}});\n",
       "\n",
       "// Listen for the removal of the full notebook cells\n",
       "var notebookContainer = gd.closest('#notebook-container');\n",
       "if (notebookContainer) {{\n",
       "    x.observe(notebookContainer, {childList: true});\n",
       "}}\n",
       "\n",
       "// Listen for the clearing of the current output cell\n",
       "var outputEl = gd.closest('.output');\n",
       "if (outputEl) {{\n",
       "    x.observe(outputEl, {childList: true});\n",
       "}}\n",
       "\n",
       "                        })                };                });            </script>        </div>"
      ]
     },
     "metadata": {},
     "output_type": "display_data"
    }
   ],
   "source": [
    "fig = px.bar(\n",
    "    villes_transpo, \n",
    "    y = ['Agde', \"Chamonix-Mont-Blanc\", 'Carnac', 'Argelès-sur-Mer', 'Quiberon', 'Le Lavandou', 'La Grande-Motte', 'Ramatuelle', 'Saint-Raphaël', 'La Baule-Escoublac'],\n",
    "    x = [\"prix_01\",\"prix_02\",\"prix_03\",\"prix_04\",\"prix_05\",\"prix_06\",\"prix_07\",\"prix_08\",\"prix_09\", \"prix_10\", \"prix_11\", \"prix_12\"]\n",
    ")\n",
    "\n",
    "fig.show()"
   ]
  },
  {
   "cell_type": "code",
   "execution_count": 63,
   "id": "29667081",
   "metadata": {},
   "outputs": [
    {
     "data": {
      "text/html": [
       "<div>\n",
       "<style scoped>\n",
       "    .dataframe tbody tr th:only-of-type {\n",
       "        vertical-align: middle;\n",
       "    }\n",
       "\n",
       "    .dataframe tbody tr th {\n",
       "        vertical-align: top;\n",
       "    }\n",
       "\n",
       "    .dataframe thead th {\n",
       "        text-align: right;\n",
       "    }\n",
       "</style>\n",
       "<table border=\"1\" class=\"dataframe\">\n",
       "  <thead>\n",
       "    <tr style=\"text-align: right;\">\n",
       "      <th></th>\n",
       "      <th>Classement</th>\n",
       "      <th>Ville</th>\n",
       "      <th>Région</th>\n",
       "      <th>Code Postal</th>\n",
       "      <th>prix_01</th>\n",
       "      <th>prix_02</th>\n",
       "      <th>prix_03</th>\n",
       "      <th>prix_04</th>\n",
       "      <th>prix_05</th>\n",
       "      <th>prix_06</th>\n",
       "      <th>...</th>\n",
       "      <th>prix_08</th>\n",
       "      <th>prix_09</th>\n",
       "      <th>prix_10</th>\n",
       "      <th>prix_11</th>\n",
       "      <th>prix_12</th>\n",
       "      <th>Ville2</th>\n",
       "      <th>prix_moyen</th>\n",
       "      <th>evolution_3_mois</th>\n",
       "      <th>evolution_6_mois</th>\n",
       "      <th>evolution_12_mois</th>\n",
       "    </tr>\n",
       "  </thead>\n",
       "  <tbody>\n",
       "    <tr>\n",
       "      <th>0</th>\n",
       "      <td>1</td>\n",
       "      <td>Agde</td>\n",
       "      <td>Occitanie</td>\n",
       "      <td>34300</td>\n",
       "      <td>57.000000</td>\n",
       "      <td>60.777778</td>\n",
       "      <td>52.944444</td>\n",
       "      <td>70.111111</td>\n",
       "      <td>74.555556</td>\n",
       "      <td>72.722222</td>\n",
       "      <td>...</td>\n",
       "      <td>131.222222</td>\n",
       "      <td>76.166667</td>\n",
       "      <td>62.333333</td>\n",
       "      <td>59.777778</td>\n",
       "      <td>62.277778</td>\n",
       "      <td>agde</td>\n",
       "      <td>3 080 €</td>\n",
       "      <td>+0.9%</td>\n",
       "      <td>+2.3%</td>\n",
       "      <td>+4.1%</td>\n",
       "    </tr>\n",
       "    <tr>\n",
       "      <th>1</th>\n",
       "      <td>2</td>\n",
       "      <td>Chamonix-Mont-Blanc</td>\n",
       "      <td>Auvergne-Rhône-Alpes</td>\n",
       "      <td>74400</td>\n",
       "      <td>115.555556</td>\n",
       "      <td>159.000000</td>\n",
       "      <td>113.388889</td>\n",
       "      <td>121.666667</td>\n",
       "      <td>100.888889</td>\n",
       "      <td>107.555556</td>\n",
       "      <td>...</td>\n",
       "      <td>133.611111</td>\n",
       "      <td>96.111111</td>\n",
       "      <td>116.722222</td>\n",
       "      <td>121.333333</td>\n",
       "      <td>124.444444</td>\n",
       "      <td>chamonix-mont-blanc</td>\n",
       "      <td>8 710 €</td>\n",
       "      <td>NaN</td>\n",
       "      <td>NaN</td>\n",
       "      <td>NaN</td>\n",
       "    </tr>\n",
       "    <tr>\n",
       "      <th>2</th>\n",
       "      <td>3</td>\n",
       "      <td>Carnac</td>\n",
       "      <td>Bretagne</td>\n",
       "      <td>56340</td>\n",
       "      <td>85.111111</td>\n",
       "      <td>74.944444</td>\n",
       "      <td>72.555556</td>\n",
       "      <td>79.500000</td>\n",
       "      <td>81.722222</td>\n",
       "      <td>93.333333</td>\n",
       "      <td>...</td>\n",
       "      <td>128.722222</td>\n",
       "      <td>89.444444</td>\n",
       "      <td>82.722222</td>\n",
       "      <td>73.111111</td>\n",
       "      <td>74.555556</td>\n",
       "      <td>carnac</td>\n",
       "      <td>5 350 €</td>\n",
       "      <td>+1.1%</td>\n",
       "      <td>+1.7%</td>\n",
       "      <td>+2.9%</td>\n",
       "    </tr>\n",
       "    <tr>\n",
       "      <th>3</th>\n",
       "      <td>4</td>\n",
       "      <td>Argelès-sur-Mer</td>\n",
       "      <td>Occitanie</td>\n",
       "      <td>66700</td>\n",
       "      <td>62.000000</td>\n",
       "      <td>67.555556</td>\n",
       "      <td>74.277778</td>\n",
       "      <td>77.555556</td>\n",
       "      <td>87.222222</td>\n",
       "      <td>76.222222</td>\n",
       "      <td>...</td>\n",
       "      <td>113.222222</td>\n",
       "      <td>72.111111</td>\n",
       "      <td>71.388889</td>\n",
       "      <td>77.222222</td>\n",
       "      <td>77.222222</td>\n",
       "      <td>argeles-sur-mer</td>\n",
       "      <td>3 320 €</td>\n",
       "      <td>NaN</td>\n",
       "      <td>NaN</td>\n",
       "      <td>NaN</td>\n",
       "    </tr>\n",
       "    <tr>\n",
       "      <th>4</th>\n",
       "      <td>5</td>\n",
       "      <td>Quiberon</td>\n",
       "      <td>Bretagne</td>\n",
       "      <td>56170</td>\n",
       "      <td>80.666667</td>\n",
       "      <td>94.777778</td>\n",
       "      <td>88.944444</td>\n",
       "      <td>93.611111</td>\n",
       "      <td>94.388889</td>\n",
       "      <td>94.277778</td>\n",
       "      <td>...</td>\n",
       "      <td>129.222222</td>\n",
       "      <td>87.944444</td>\n",
       "      <td>92.222222</td>\n",
       "      <td>87.500000</td>\n",
       "      <td>86.166667</td>\n",
       "      <td>quiberon</td>\n",
       "      <td>5 610 €</td>\n",
       "      <td>NaN</td>\n",
       "      <td>NaN</td>\n",
       "      <td>NaN</td>\n",
       "    </tr>\n",
       "    <tr>\n",
       "      <th>5</th>\n",
       "      <td>6</td>\n",
       "      <td>Le Lavandou</td>\n",
       "      <td>Provence-Alpes-Côte-D’Azur</td>\n",
       "      <td>83980</td>\n",
       "      <td>78.833333</td>\n",
       "      <td>76.500000</td>\n",
       "      <td>76.333333</td>\n",
       "      <td>87.611111</td>\n",
       "      <td>88.111111</td>\n",
       "      <td>95.777778</td>\n",
       "      <td>...</td>\n",
       "      <td>152.888889</td>\n",
       "      <td>94.388889</td>\n",
       "      <td>87.888889</td>\n",
       "      <td>75.555556</td>\n",
       "      <td>75.611111</td>\n",
       "      <td>le-lavandou</td>\n",
       "      <td>5 410 €</td>\n",
       "      <td>NaN</td>\n",
       "      <td>NaN</td>\n",
       "      <td>NaN</td>\n",
       "    </tr>\n",
       "    <tr>\n",
       "      <th>6</th>\n",
       "      <td>7</td>\n",
       "      <td>La Grande-Motte</td>\n",
       "      <td>Occitanie</td>\n",
       "      <td>34280</td>\n",
       "      <td>51.777778</td>\n",
       "      <td>66.777778</td>\n",
       "      <td>55.333333</td>\n",
       "      <td>73.555556</td>\n",
       "      <td>77.666667</td>\n",
       "      <td>69.833333</td>\n",
       "      <td>...</td>\n",
       "      <td>86.444444</td>\n",
       "      <td>84.000000</td>\n",
       "      <td>78.777778</td>\n",
       "      <td>78.000000</td>\n",
       "      <td>77.833333</td>\n",
       "      <td>la-grande-motte</td>\n",
       "      <td>4 460 €</td>\n",
       "      <td>NaN</td>\n",
       "      <td>NaN</td>\n",
       "      <td>NaN</td>\n",
       "    </tr>\n",
       "    <tr>\n",
       "      <th>7</th>\n",
       "      <td>8</td>\n",
       "      <td>Ramatuelle</td>\n",
       "      <td>Provence-Alpes-Côte-D’Azur</td>\n",
       "      <td>83350</td>\n",
       "      <td>79.166667</td>\n",
       "      <td>89.666667</td>\n",
       "      <td>80.944444</td>\n",
       "      <td>117.777778</td>\n",
       "      <td>143.666667</td>\n",
       "      <td>147.222222</td>\n",
       "      <td>...</td>\n",
       "      <td>211.000000</td>\n",
       "      <td>141.111111</td>\n",
       "      <td>112.833333</td>\n",
       "      <td>102.722222</td>\n",
       "      <td>116.944444</td>\n",
       "      <td>ramatuelle</td>\n",
       "      <td>6 050 €</td>\n",
       "      <td>-0.2%</td>\n",
       "      <td>-0.6%</td>\n",
       "      <td>-1%</td>\n",
       "    </tr>\n",
       "    <tr>\n",
       "      <th>8</th>\n",
       "      <td>9</td>\n",
       "      <td>Saint-Raphaël</td>\n",
       "      <td>Provence-Alpes-Côte-D’Azur</td>\n",
       "      <td>24160</td>\n",
       "      <td>91.277778</td>\n",
       "      <td>84.333333</td>\n",
       "      <td>74.833333</td>\n",
       "      <td>81.611111</td>\n",
       "      <td>83.944444</td>\n",
       "      <td>97.722222</td>\n",
       "      <td>...</td>\n",
       "      <td>131.555556</td>\n",
       "      <td>102.555556</td>\n",
       "      <td>86.222222</td>\n",
       "      <td>85.444444</td>\n",
       "      <td>88.166667</td>\n",
       "      <td>saint-raphael</td>\n",
       "      <td>1 170 €</td>\n",
       "      <td>+1.8%</td>\n",
       "      <td>+2.8%</td>\n",
       "      <td>+2.5%</td>\n",
       "    </tr>\n",
       "    <tr>\n",
       "      <th>9</th>\n",
       "      <td>10</td>\n",
       "      <td>La Baule-Escoublac</td>\n",
       "      <td>Pays de La Loire</td>\n",
       "      <td>44500</td>\n",
       "      <td>77.833333</td>\n",
       "      <td>89.944444</td>\n",
       "      <td>88.000000</td>\n",
       "      <td>91.611111</td>\n",
       "      <td>98.222222</td>\n",
       "      <td>85.333333</td>\n",
       "      <td>...</td>\n",
       "      <td>102.611111</td>\n",
       "      <td>87.388889</td>\n",
       "      <td>80.555556</td>\n",
       "      <td>83.944444</td>\n",
       "      <td>90.666667</td>\n",
       "      <td>la-baule-escoublac</td>\n",
       "      <td>6 090 €</td>\n",
       "      <td>+0.3%</td>\n",
       "      <td>+1%</td>\n",
       "      <td>+3.1%</td>\n",
       "    </tr>\n",
       "  </tbody>\n",
       "</table>\n",
       "<p>10 rows × 21 columns</p>\n",
       "</div>"
      ],
      "text/plain": [
       "   Classement                Ville                      Région  Code Postal  \\\n",
       "0           1                 Agde                   Occitanie        34300   \n",
       "1           2  Chamonix-Mont-Blanc        Auvergne-Rhône-Alpes        74400   \n",
       "2           3               Carnac                    Bretagne        56340   \n",
       "3           4      Argelès-sur-Mer                   Occitanie        66700   \n",
       "4           5             Quiberon                    Bretagne        56170   \n",
       "5           6          Le Lavandou  Provence-Alpes-Côte-D’Azur        83980   \n",
       "6           7      La Grande-Motte                   Occitanie        34280   \n",
       "7           8           Ramatuelle  Provence-Alpes-Côte-D’Azur        83350   \n",
       "8           9        Saint-Raphaël  Provence-Alpes-Côte-D’Azur        24160   \n",
       "9          10   La Baule-Escoublac            Pays de La Loire        44500   \n",
       "\n",
       "      prix_01     prix_02     prix_03     prix_04     prix_05     prix_06  \\\n",
       "0   57.000000   60.777778   52.944444   70.111111   74.555556   72.722222   \n",
       "1  115.555556  159.000000  113.388889  121.666667  100.888889  107.555556   \n",
       "2   85.111111   74.944444   72.555556   79.500000   81.722222   93.333333   \n",
       "3   62.000000   67.555556   74.277778   77.555556   87.222222   76.222222   \n",
       "4   80.666667   94.777778   88.944444   93.611111   94.388889   94.277778   \n",
       "5   78.833333   76.500000   76.333333   87.611111   88.111111   95.777778   \n",
       "6   51.777778   66.777778   55.333333   73.555556   77.666667   69.833333   \n",
       "7   79.166667   89.666667   80.944444  117.777778  143.666667  147.222222   \n",
       "8   91.277778   84.333333   74.833333   81.611111   83.944444   97.722222   \n",
       "9   77.833333   89.944444   88.000000   91.611111   98.222222   85.333333   \n",
       "\n",
       "   ...     prix_08     prix_09     prix_10     prix_11     prix_12  \\\n",
       "0  ...  131.222222   76.166667   62.333333   59.777778   62.277778   \n",
       "1  ...  133.611111   96.111111  116.722222  121.333333  124.444444   \n",
       "2  ...  128.722222   89.444444   82.722222   73.111111   74.555556   \n",
       "3  ...  113.222222   72.111111   71.388889   77.222222   77.222222   \n",
       "4  ...  129.222222   87.944444   92.222222   87.500000   86.166667   \n",
       "5  ...  152.888889   94.388889   87.888889   75.555556   75.611111   \n",
       "6  ...   86.444444   84.000000   78.777778   78.000000   77.833333   \n",
       "7  ...  211.000000  141.111111  112.833333  102.722222  116.944444   \n",
       "8  ...  131.555556  102.555556   86.222222   85.444444   88.166667   \n",
       "9  ...  102.611111   87.388889   80.555556   83.944444   90.666667   \n",
       "\n",
       "                Ville2 prix_moyen evolution_3_mois evolution_6_mois  \\\n",
       "0                 agde    3 080 €            +0.9%            +2.3%   \n",
       "1  chamonix-mont-blanc    8 710 €              NaN              NaN   \n",
       "2               carnac    5 350 €            +1.1%            +1.7%   \n",
       "3      argeles-sur-mer    3 320 €              NaN              NaN   \n",
       "4             quiberon    5 610 €              NaN              NaN   \n",
       "5          le-lavandou    5 410 €              NaN              NaN   \n",
       "6      la-grande-motte    4 460 €              NaN              NaN   \n",
       "7           ramatuelle    6 050 €            -0.2%            -0.6%   \n",
       "8        saint-raphael    1 170 €            +1.8%            +2.8%   \n",
       "9   la-baule-escoublac    6 090 €            +0.3%              +1%   \n",
       "\n",
       "  evolution_12_mois  \n",
       "0             +4.1%  \n",
       "1               NaN  \n",
       "2             +2.9%  \n",
       "3               NaN  \n",
       "4               NaN  \n",
       "5               NaN  \n",
       "6               NaN  \n",
       "7               -1%  \n",
       "8             +2.5%  \n",
       "9             +3.1%  \n",
       "\n",
       "[10 rows x 21 columns]"
      ]
     },
     "execution_count": 63,
     "metadata": {},
     "output_type": "execute_result"
    }
   ],
   "source": [
    "villes"
   ]
  },
  {
   "cell_type": "markdown",
   "id": "d328738a",
   "metadata": {},
   "source": [
    "Appartement pour 2 de 30m2 loué en moyenne 55% du temps"
   ]
  },
  {
   "cell_type": "code",
   "execution_count": 64,
   "id": "8f019377",
   "metadata": {},
   "outputs": [],
   "source": [
    "villes = villes.assign(gain_loc_annuel=lambda x : (x['prix_01']+x['prix_02']+x['prix_03']+x['prix_04']+x['prix_05']+x['prix_06']+x['prix_07']+x['prix_08']+x['prix_07']+x['prix_08']+x['prix_09']+x['prix_10']+x['prix_11']+x['prix_12'])*(365*55/100)/12)"
   ]
  },
  {
   "cell_type": "code",
   "execution_count": 71,
   "id": "0bb71595",
   "metadata": {},
   "outputs": [
    {
     "name": "stderr",
     "output_type": "stream",
     "text": [
      "C:\\Users\\valan\\AppData\\Local\\Temp\\ipykernel_31304\\567957391.py:6: SettingWithCopyWarning:\n",
      "\n",
      "\n",
      "A value is trying to be set on a copy of a slice from a DataFrame\n",
      "\n",
      "See the caveats in the documentation: https://pandas.pydata.org/pandas-docs/stable/user_guide/indexing.html#returning-a-view-versus-a-copy\n",
      "\n"
     ]
    }
   ],
   "source": [
    "for i in villes.index :\n",
    "    prix = villes['prix_moyen'][i]\n",
    "    prix = prix.split(' ')\n",
    "    prix = ''.join(prix[0:2])\n",
    "    prix_int = int(prix)\n",
    "    villes['prix_moyen'][i] = prix_int"
   ]
  },
  {
   "cell_type": "code",
   "execution_count": 74,
   "id": "b68c204d",
   "metadata": {},
   "outputs": [
    {
     "data": {
      "text/html": [
       "<div>\n",
       "<style scoped>\n",
       "    .dataframe tbody tr th:only-of-type {\n",
       "        vertical-align: middle;\n",
       "    }\n",
       "\n",
       "    .dataframe tbody tr th {\n",
       "        vertical-align: top;\n",
       "    }\n",
       "\n",
       "    .dataframe thead th {\n",
       "        text-align: right;\n",
       "    }\n",
       "</style>\n",
       "<table border=\"1\" class=\"dataframe\">\n",
       "  <thead>\n",
       "    <tr style=\"text-align: right;\">\n",
       "      <th></th>\n",
       "      <th>Classement</th>\n",
       "      <th>Ville</th>\n",
       "      <th>Région</th>\n",
       "      <th>Code Postal</th>\n",
       "      <th>prix_01</th>\n",
       "      <th>prix_02</th>\n",
       "      <th>prix_03</th>\n",
       "      <th>prix_04</th>\n",
       "      <th>prix_05</th>\n",
       "      <th>prix_06</th>\n",
       "      <th>...</th>\n",
       "      <th>prix_10</th>\n",
       "      <th>prix_11</th>\n",
       "      <th>prix_12</th>\n",
       "      <th>Ville2</th>\n",
       "      <th>prix_moyen</th>\n",
       "      <th>evolution_3_mois</th>\n",
       "      <th>evolution_6_mois</th>\n",
       "      <th>evolution_12_mois</th>\n",
       "      <th>gain_loc_annuel</th>\n",
       "      <th>prix_30m2</th>\n",
       "    </tr>\n",
       "  </thead>\n",
       "  <tbody>\n",
       "    <tr>\n",
       "      <th>0</th>\n",
       "      <td>1</td>\n",
       "      <td>Agde</td>\n",
       "      <td>Occitanie</td>\n",
       "      <td>34300</td>\n",
       "      <td>57.000000</td>\n",
       "      <td>60.777778</td>\n",
       "      <td>52.944444</td>\n",
       "      <td>70.111111</td>\n",
       "      <td>74.555556</td>\n",
       "      <td>72.722222</td>\n",
       "      <td>...</td>\n",
       "      <td>62.333333</td>\n",
       "      <td>59.777778</td>\n",
       "      <td>62.277778</td>\n",
       "      <td>agde</td>\n",
       "      <td>3080</td>\n",
       "      <td>+0.9%</td>\n",
       "      <td>+2.3%</td>\n",
       "      <td>+4.1%</td>\n",
       "      <td>19480.185185</td>\n",
       "      <td>92400</td>\n",
       "    </tr>\n",
       "    <tr>\n",
       "      <th>1</th>\n",
       "      <td>2</td>\n",
       "      <td>Chamonix-Mont-Blanc</td>\n",
       "      <td>Auvergne-Rhône-Alpes</td>\n",
       "      <td>74400</td>\n",
       "      <td>115.555556</td>\n",
       "      <td>159.000000</td>\n",
       "      <td>113.388889</td>\n",
       "      <td>121.666667</td>\n",
       "      <td>100.888889</td>\n",
       "      <td>107.555556</td>\n",
       "      <td>...</td>\n",
       "      <td>116.722222</td>\n",
       "      <td>121.333333</td>\n",
       "      <td>124.444444</td>\n",
       "      <td>chamonix-mont-blanc</td>\n",
       "      <td>8710</td>\n",
       "      <td>NaN</td>\n",
       "      <td>NaN</td>\n",
       "      <td>NaN</td>\n",
       "      <td>28179.351852</td>\n",
       "      <td>261300</td>\n",
       "    </tr>\n",
       "    <tr>\n",
       "      <th>2</th>\n",
       "      <td>3</td>\n",
       "      <td>Carnac</td>\n",
       "      <td>Bretagne</td>\n",
       "      <td>56340</td>\n",
       "      <td>85.111111</td>\n",
       "      <td>74.944444</td>\n",
       "      <td>72.555556</td>\n",
       "      <td>79.500000</td>\n",
       "      <td>81.722222</td>\n",
       "      <td>93.333333</td>\n",
       "      <td>...</td>\n",
       "      <td>82.722222</td>\n",
       "      <td>73.111111</td>\n",
       "      <td>74.555556</td>\n",
       "      <td>carnac</td>\n",
       "      <td>5350</td>\n",
       "      <td>+1.1%</td>\n",
       "      <td>+1.7%</td>\n",
       "      <td>+2.9%</td>\n",
       "      <td>21424.486111</td>\n",
       "      <td>160500</td>\n",
       "    </tr>\n",
       "    <tr>\n",
       "      <th>3</th>\n",
       "      <td>4</td>\n",
       "      <td>Argelès-sur-Mer</td>\n",
       "      <td>Occitanie</td>\n",
       "      <td>66700</td>\n",
       "      <td>62.000000</td>\n",
       "      <td>67.555556</td>\n",
       "      <td>74.277778</td>\n",
       "      <td>77.555556</td>\n",
       "      <td>87.222222</td>\n",
       "      <td>76.222222</td>\n",
       "      <td>...</td>\n",
       "      <td>71.388889</td>\n",
       "      <td>77.222222</td>\n",
       "      <td>77.222222</td>\n",
       "      <td>argeles-sur-mer</td>\n",
       "      <td>3320</td>\n",
       "      <td>NaN</td>\n",
       "      <td>NaN</td>\n",
       "      <td>NaN</td>\n",
       "      <td>19917.002315</td>\n",
       "      <td>99600</td>\n",
       "    </tr>\n",
       "    <tr>\n",
       "      <th>4</th>\n",
       "      <td>5</td>\n",
       "      <td>Quiberon</td>\n",
       "      <td>Bretagne</td>\n",
       "      <td>56170</td>\n",
       "      <td>80.666667</td>\n",
       "      <td>94.777778</td>\n",
       "      <td>88.944444</td>\n",
       "      <td>93.611111</td>\n",
       "      <td>94.388889</td>\n",
       "      <td>94.277778</td>\n",
       "      <td>...</td>\n",
       "      <td>92.222222</td>\n",
       "      <td>87.500000</td>\n",
       "      <td>86.166667</td>\n",
       "      <td>quiberon</td>\n",
       "      <td>5610</td>\n",
       "      <td>NaN</td>\n",
       "      <td>NaN</td>\n",
       "      <td>NaN</td>\n",
       "      <td>23118.778935</td>\n",
       "      <td>168300</td>\n",
       "    </tr>\n",
       "    <tr>\n",
       "      <th>5</th>\n",
       "      <td>6</td>\n",
       "      <td>Le Lavandou</td>\n",
       "      <td>Provence-Alpes-Côte-D’Azur</td>\n",
       "      <td>83980</td>\n",
       "      <td>78.833333</td>\n",
       "      <td>76.500000</td>\n",
       "      <td>76.333333</td>\n",
       "      <td>87.611111</td>\n",
       "      <td>88.111111</td>\n",
       "      <td>95.777778</td>\n",
       "      <td>...</td>\n",
       "      <td>87.888889</td>\n",
       "      <td>75.555556</td>\n",
       "      <td>75.611111</td>\n",
       "      <td>le-lavandou</td>\n",
       "      <td>5410</td>\n",
       "      <td>NaN</td>\n",
       "      <td>NaN</td>\n",
       "      <td>NaN</td>\n",
       "      <td>23624.371528</td>\n",
       "      <td>162300</td>\n",
       "    </tr>\n",
       "    <tr>\n",
       "      <th>6</th>\n",
       "      <td>7</td>\n",
       "      <td>La Grande-Motte</td>\n",
       "      <td>Occitanie</td>\n",
       "      <td>34280</td>\n",
       "      <td>51.777778</td>\n",
       "      <td>66.777778</td>\n",
       "      <td>55.333333</td>\n",
       "      <td>73.555556</td>\n",
       "      <td>77.666667</td>\n",
       "      <td>69.833333</td>\n",
       "      <td>...</td>\n",
       "      <td>78.777778</td>\n",
       "      <td>78.000000</td>\n",
       "      <td>77.833333</td>\n",
       "      <td>la-grande-motte</td>\n",
       "      <td>4460</td>\n",
       "      <td>NaN</td>\n",
       "      <td>NaN</td>\n",
       "      <td>NaN</td>\n",
       "      <td>17732.916667</td>\n",
       "      <td>133800</td>\n",
       "    </tr>\n",
       "    <tr>\n",
       "      <th>7</th>\n",
       "      <td>8</td>\n",
       "      <td>Ramatuelle</td>\n",
       "      <td>Provence-Alpes-Côte-D’Azur</td>\n",
       "      <td>83350</td>\n",
       "      <td>79.166667</td>\n",
       "      <td>89.666667</td>\n",
       "      <td>80.944444</td>\n",
       "      <td>117.777778</td>\n",
       "      <td>143.666667</td>\n",
       "      <td>147.222222</td>\n",
       "      <td>...</td>\n",
       "      <td>112.833333</td>\n",
       "      <td>102.722222</td>\n",
       "      <td>116.944444</td>\n",
       "      <td>ramatuelle</td>\n",
       "      <td>6050</td>\n",
       "      <td>-0.2%</td>\n",
       "      <td>-0.6%</td>\n",
       "      <td>-1%</td>\n",
       "      <td>31894.156250</td>\n",
       "      <td>181500</td>\n",
       "    </tr>\n",
       "    <tr>\n",
       "      <th>8</th>\n",
       "      <td>9</td>\n",
       "      <td>Saint-Raphaël</td>\n",
       "      <td>Provence-Alpes-Côte-D’Azur</td>\n",
       "      <td>24160</td>\n",
       "      <td>91.277778</td>\n",
       "      <td>84.333333</td>\n",
       "      <td>74.833333</td>\n",
       "      <td>81.611111</td>\n",
       "      <td>83.944444</td>\n",
       "      <td>97.722222</td>\n",
       "      <td>...</td>\n",
       "      <td>86.222222</td>\n",
       "      <td>85.444444</td>\n",
       "      <td>88.166667</td>\n",
       "      <td>saint-raphael</td>\n",
       "      <td>1170</td>\n",
       "      <td>+1.8%</td>\n",
       "      <td>+2.8%</td>\n",
       "      <td>+2.5%</td>\n",
       "      <td>23283.282407</td>\n",
       "      <td>35100</td>\n",
       "    </tr>\n",
       "    <tr>\n",
       "      <th>9</th>\n",
       "      <td>10</td>\n",
       "      <td>La Baule-Escoublac</td>\n",
       "      <td>Pays de La Loire</td>\n",
       "      <td>44500</td>\n",
       "      <td>77.833333</td>\n",
       "      <td>89.944444</td>\n",
       "      <td>88.000000</td>\n",
       "      <td>91.611111</td>\n",
       "      <td>98.222222</td>\n",
       "      <td>85.333333</td>\n",
       "      <td>...</td>\n",
       "      <td>80.555556</td>\n",
       "      <td>83.944444</td>\n",
       "      <td>90.666667</td>\n",
       "      <td>la-baule-escoublac</td>\n",
       "      <td>6090</td>\n",
       "      <td>+0.3%</td>\n",
       "      <td>+1%</td>\n",
       "      <td>+3.1%</td>\n",
       "      <td>21438.427083</td>\n",
       "      <td>182700</td>\n",
       "    </tr>\n",
       "  </tbody>\n",
       "</table>\n",
       "<p>10 rows × 23 columns</p>\n",
       "</div>"
      ],
      "text/plain": [
       "   Classement                Ville                      Région  Code Postal  \\\n",
       "0           1                 Agde                   Occitanie        34300   \n",
       "1           2  Chamonix-Mont-Blanc        Auvergne-Rhône-Alpes        74400   \n",
       "2           3               Carnac                    Bretagne        56340   \n",
       "3           4      Argelès-sur-Mer                   Occitanie        66700   \n",
       "4           5             Quiberon                    Bretagne        56170   \n",
       "5           6          Le Lavandou  Provence-Alpes-Côte-D’Azur        83980   \n",
       "6           7      La Grande-Motte                   Occitanie        34280   \n",
       "7           8           Ramatuelle  Provence-Alpes-Côte-D’Azur        83350   \n",
       "8           9        Saint-Raphaël  Provence-Alpes-Côte-D’Azur        24160   \n",
       "9          10   La Baule-Escoublac            Pays de La Loire        44500   \n",
       "\n",
       "      prix_01     prix_02     prix_03     prix_04     prix_05     prix_06  \\\n",
       "0   57.000000   60.777778   52.944444   70.111111   74.555556   72.722222   \n",
       "1  115.555556  159.000000  113.388889  121.666667  100.888889  107.555556   \n",
       "2   85.111111   74.944444   72.555556   79.500000   81.722222   93.333333   \n",
       "3   62.000000   67.555556   74.277778   77.555556   87.222222   76.222222   \n",
       "4   80.666667   94.777778   88.944444   93.611111   94.388889   94.277778   \n",
       "5   78.833333   76.500000   76.333333   87.611111   88.111111   95.777778   \n",
       "6   51.777778   66.777778   55.333333   73.555556   77.666667   69.833333   \n",
       "7   79.166667   89.666667   80.944444  117.777778  143.666667  147.222222   \n",
       "8   91.277778   84.333333   74.833333   81.611111   83.944444   97.722222   \n",
       "9   77.833333   89.944444   88.000000   91.611111   98.222222   85.333333   \n",
       "\n",
       "   ...     prix_10     prix_11     prix_12               Ville2  prix_moyen  \\\n",
       "0  ...   62.333333   59.777778   62.277778                 agde        3080   \n",
       "1  ...  116.722222  121.333333  124.444444  chamonix-mont-blanc        8710   \n",
       "2  ...   82.722222   73.111111   74.555556               carnac        5350   \n",
       "3  ...   71.388889   77.222222   77.222222      argeles-sur-mer        3320   \n",
       "4  ...   92.222222   87.500000   86.166667             quiberon        5610   \n",
       "5  ...   87.888889   75.555556   75.611111          le-lavandou        5410   \n",
       "6  ...   78.777778   78.000000   77.833333      la-grande-motte        4460   \n",
       "7  ...  112.833333  102.722222  116.944444           ramatuelle        6050   \n",
       "8  ...   86.222222   85.444444   88.166667        saint-raphael        1170   \n",
       "9  ...   80.555556   83.944444   90.666667   la-baule-escoublac        6090   \n",
       "\n",
       "   evolution_3_mois evolution_6_mois evolution_12_mois gain_loc_annuel  \\\n",
       "0             +0.9%            +2.3%             +4.1%    19480.185185   \n",
       "1               NaN              NaN               NaN    28179.351852   \n",
       "2             +1.1%            +1.7%             +2.9%    21424.486111   \n",
       "3               NaN              NaN               NaN    19917.002315   \n",
       "4               NaN              NaN               NaN    23118.778935   \n",
       "5               NaN              NaN               NaN    23624.371528   \n",
       "6               NaN              NaN               NaN    17732.916667   \n",
       "7             -0.2%            -0.6%               -1%    31894.156250   \n",
       "8             +1.8%            +2.8%             +2.5%    23283.282407   \n",
       "9             +0.3%              +1%             +3.1%    21438.427083   \n",
       "\n",
       "  prix_30m2  \n",
       "0     92400  \n",
       "1    261300  \n",
       "2    160500  \n",
       "3     99600  \n",
       "4    168300  \n",
       "5    162300  \n",
       "6    133800  \n",
       "7    181500  \n",
       "8     35100  \n",
       "9    182700  \n",
       "\n",
       "[10 rows x 23 columns]"
      ]
     },
     "execution_count": 74,
     "metadata": {},
     "output_type": "execute_result"
    }
   ],
   "source": [
    "villes"
   ]
  },
  {
   "cell_type": "code",
   "execution_count": 73,
   "id": "17cfec8a",
   "metadata": {},
   "outputs": [],
   "source": [
    "villes = villes.assign(prix_30m2 =lambda x : x['prix_moyen']*30)"
   ]
  },
  {
   "cell_type": "code",
   "execution_count": 78,
   "id": "3e44313a",
   "metadata": {},
   "outputs": [],
   "source": [
    "villes = villes.assign(rentabilite_brut = lambda x : (x['gain_loc_annuel']/x['prix_30m2'])*100)"
   ]
  },
  {
   "cell_type": "code",
   "execution_count": 79,
   "id": "306e81ef",
   "metadata": {},
   "outputs": [
    {
     "data": {
      "text/html": [
       "<div>\n",
       "<style scoped>\n",
       "    .dataframe tbody tr th:only-of-type {\n",
       "        vertical-align: middle;\n",
       "    }\n",
       "\n",
       "    .dataframe tbody tr th {\n",
       "        vertical-align: top;\n",
       "    }\n",
       "\n",
       "    .dataframe thead th {\n",
       "        text-align: right;\n",
       "    }\n",
       "</style>\n",
       "<table border=\"1\" class=\"dataframe\">\n",
       "  <thead>\n",
       "    <tr style=\"text-align: right;\">\n",
       "      <th></th>\n",
       "      <th>Classement</th>\n",
       "      <th>Ville</th>\n",
       "      <th>Région</th>\n",
       "      <th>Code Postal</th>\n",
       "      <th>prix_01</th>\n",
       "      <th>prix_02</th>\n",
       "      <th>prix_03</th>\n",
       "      <th>prix_04</th>\n",
       "      <th>prix_05</th>\n",
       "      <th>prix_06</th>\n",
       "      <th>...</th>\n",
       "      <th>prix_11</th>\n",
       "      <th>prix_12</th>\n",
       "      <th>Ville2</th>\n",
       "      <th>prix_moyen</th>\n",
       "      <th>evolution_3_mois</th>\n",
       "      <th>evolution_6_mois</th>\n",
       "      <th>evolution_12_mois</th>\n",
       "      <th>gain_loc_annuel</th>\n",
       "      <th>prix_30m2</th>\n",
       "      <th>rentabilite_brut</th>\n",
       "    </tr>\n",
       "  </thead>\n",
       "  <tbody>\n",
       "    <tr>\n",
       "      <th>0</th>\n",
       "      <td>1</td>\n",
       "      <td>Agde</td>\n",
       "      <td>Occitanie</td>\n",
       "      <td>34300</td>\n",
       "      <td>57.000000</td>\n",
       "      <td>60.777778</td>\n",
       "      <td>52.944444</td>\n",
       "      <td>70.111111</td>\n",
       "      <td>74.555556</td>\n",
       "      <td>72.722222</td>\n",
       "      <td>...</td>\n",
       "      <td>59.777778</td>\n",
       "      <td>62.277778</td>\n",
       "      <td>agde</td>\n",
       "      <td>3080</td>\n",
       "      <td>+0.9%</td>\n",
       "      <td>+2.3%</td>\n",
       "      <td>+4.1%</td>\n",
       "      <td>19480.185185</td>\n",
       "      <td>92400</td>\n",
       "      <td>21.082451</td>\n",
       "    </tr>\n",
       "    <tr>\n",
       "      <th>1</th>\n",
       "      <td>2</td>\n",
       "      <td>Chamonix-Mont-Blanc</td>\n",
       "      <td>Auvergne-Rhône-Alpes</td>\n",
       "      <td>74400</td>\n",
       "      <td>115.555556</td>\n",
       "      <td>159.000000</td>\n",
       "      <td>113.388889</td>\n",
       "      <td>121.666667</td>\n",
       "      <td>100.888889</td>\n",
       "      <td>107.555556</td>\n",
       "      <td>...</td>\n",
       "      <td>121.333333</td>\n",
       "      <td>124.444444</td>\n",
       "      <td>chamonix-mont-blanc</td>\n",
       "      <td>8710</td>\n",
       "      <td>NaN</td>\n",
       "      <td>NaN</td>\n",
       "      <td>NaN</td>\n",
       "      <td>28179.351852</td>\n",
       "      <td>261300</td>\n",
       "      <td>10.784291</td>\n",
       "    </tr>\n",
       "    <tr>\n",
       "      <th>2</th>\n",
       "      <td>3</td>\n",
       "      <td>Carnac</td>\n",
       "      <td>Bretagne</td>\n",
       "      <td>56340</td>\n",
       "      <td>85.111111</td>\n",
       "      <td>74.944444</td>\n",
       "      <td>72.555556</td>\n",
       "      <td>79.500000</td>\n",
       "      <td>81.722222</td>\n",
       "      <td>93.333333</td>\n",
       "      <td>...</td>\n",
       "      <td>73.111111</td>\n",
       "      <td>74.555556</td>\n",
       "      <td>carnac</td>\n",
       "      <td>5350</td>\n",
       "      <td>+1.1%</td>\n",
       "      <td>+1.7%</td>\n",
       "      <td>+2.9%</td>\n",
       "      <td>21424.486111</td>\n",
       "      <td>160500</td>\n",
       "      <td>13.348589</td>\n",
       "    </tr>\n",
       "    <tr>\n",
       "      <th>3</th>\n",
       "      <td>4</td>\n",
       "      <td>Argelès-sur-Mer</td>\n",
       "      <td>Occitanie</td>\n",
       "      <td>66700</td>\n",
       "      <td>62.000000</td>\n",
       "      <td>67.555556</td>\n",
       "      <td>74.277778</td>\n",
       "      <td>77.555556</td>\n",
       "      <td>87.222222</td>\n",
       "      <td>76.222222</td>\n",
       "      <td>...</td>\n",
       "      <td>77.222222</td>\n",
       "      <td>77.222222</td>\n",
       "      <td>argeles-sur-mer</td>\n",
       "      <td>3320</td>\n",
       "      <td>NaN</td>\n",
       "      <td>NaN</td>\n",
       "      <td>NaN</td>\n",
       "      <td>19917.002315</td>\n",
       "      <td>99600</td>\n",
       "      <td>19.99699</td>\n",
       "    </tr>\n",
       "    <tr>\n",
       "      <th>4</th>\n",
       "      <td>5</td>\n",
       "      <td>Quiberon</td>\n",
       "      <td>Bretagne</td>\n",
       "      <td>56170</td>\n",
       "      <td>80.666667</td>\n",
       "      <td>94.777778</td>\n",
       "      <td>88.944444</td>\n",
       "      <td>93.611111</td>\n",
       "      <td>94.388889</td>\n",
       "      <td>94.277778</td>\n",
       "      <td>...</td>\n",
       "      <td>87.500000</td>\n",
       "      <td>86.166667</td>\n",
       "      <td>quiberon</td>\n",
       "      <td>5610</td>\n",
       "      <td>NaN</td>\n",
       "      <td>NaN</td>\n",
       "      <td>NaN</td>\n",
       "      <td>23118.778935</td>\n",
       "      <td>168300</td>\n",
       "      <td>13.736648</td>\n",
       "    </tr>\n",
       "    <tr>\n",
       "      <th>5</th>\n",
       "      <td>6</td>\n",
       "      <td>Le Lavandou</td>\n",
       "      <td>Provence-Alpes-Côte-D’Azur</td>\n",
       "      <td>83980</td>\n",
       "      <td>78.833333</td>\n",
       "      <td>76.500000</td>\n",
       "      <td>76.333333</td>\n",
       "      <td>87.611111</td>\n",
       "      <td>88.111111</td>\n",
       "      <td>95.777778</td>\n",
       "      <td>...</td>\n",
       "      <td>75.555556</td>\n",
       "      <td>75.611111</td>\n",
       "      <td>le-lavandou</td>\n",
       "      <td>5410</td>\n",
       "      <td>NaN</td>\n",
       "      <td>NaN</td>\n",
       "      <td>NaN</td>\n",
       "      <td>23624.371528</td>\n",
       "      <td>162300</td>\n",
       "      <td>14.55599</td>\n",
       "    </tr>\n",
       "    <tr>\n",
       "      <th>6</th>\n",
       "      <td>7</td>\n",
       "      <td>La Grande-Motte</td>\n",
       "      <td>Occitanie</td>\n",
       "      <td>34280</td>\n",
       "      <td>51.777778</td>\n",
       "      <td>66.777778</td>\n",
       "      <td>55.333333</td>\n",
       "      <td>73.555556</td>\n",
       "      <td>77.666667</td>\n",
       "      <td>69.833333</td>\n",
       "      <td>...</td>\n",
       "      <td>78.000000</td>\n",
       "      <td>77.833333</td>\n",
       "      <td>la-grande-motte</td>\n",
       "      <td>4460</td>\n",
       "      <td>NaN</td>\n",
       "      <td>NaN</td>\n",
       "      <td>NaN</td>\n",
       "      <td>17732.916667</td>\n",
       "      <td>133800</td>\n",
       "      <td>13.253301</td>\n",
       "    </tr>\n",
       "    <tr>\n",
       "      <th>7</th>\n",
       "      <td>8</td>\n",
       "      <td>Ramatuelle</td>\n",
       "      <td>Provence-Alpes-Côte-D’Azur</td>\n",
       "      <td>83350</td>\n",
       "      <td>79.166667</td>\n",
       "      <td>89.666667</td>\n",
       "      <td>80.944444</td>\n",
       "      <td>117.777778</td>\n",
       "      <td>143.666667</td>\n",
       "      <td>147.222222</td>\n",
       "      <td>...</td>\n",
       "      <td>102.722222</td>\n",
       "      <td>116.944444</td>\n",
       "      <td>ramatuelle</td>\n",
       "      <td>6050</td>\n",
       "      <td>-0.2%</td>\n",
       "      <td>-0.6%</td>\n",
       "      <td>-1%</td>\n",
       "      <td>31894.156250</td>\n",
       "      <td>181500</td>\n",
       "      <td>17.572538</td>\n",
       "    </tr>\n",
       "    <tr>\n",
       "      <th>8</th>\n",
       "      <td>9</td>\n",
       "      <td>Saint-Raphaël</td>\n",
       "      <td>Provence-Alpes-Côte-D’Azur</td>\n",
       "      <td>24160</td>\n",
       "      <td>91.277778</td>\n",
       "      <td>84.333333</td>\n",
       "      <td>74.833333</td>\n",
       "      <td>81.611111</td>\n",
       "      <td>83.944444</td>\n",
       "      <td>97.722222</td>\n",
       "      <td>...</td>\n",
       "      <td>85.444444</td>\n",
       "      <td>88.166667</td>\n",
       "      <td>saint-raphael</td>\n",
       "      <td>1170</td>\n",
       "      <td>+1.8%</td>\n",
       "      <td>+2.8%</td>\n",
       "      <td>+2.5%</td>\n",
       "      <td>23283.282407</td>\n",
       "      <td>35100</td>\n",
       "      <td>66.334138</td>\n",
       "    </tr>\n",
       "    <tr>\n",
       "      <th>9</th>\n",
       "      <td>10</td>\n",
       "      <td>La Baule-Escoublac</td>\n",
       "      <td>Pays de La Loire</td>\n",
       "      <td>44500</td>\n",
       "      <td>77.833333</td>\n",
       "      <td>89.944444</td>\n",
       "      <td>88.000000</td>\n",
       "      <td>91.611111</td>\n",
       "      <td>98.222222</td>\n",
       "      <td>85.333333</td>\n",
       "      <td>...</td>\n",
       "      <td>83.944444</td>\n",
       "      <td>90.666667</td>\n",
       "      <td>la-baule-escoublac</td>\n",
       "      <td>6090</td>\n",
       "      <td>+0.3%</td>\n",
       "      <td>+1%</td>\n",
       "      <td>+3.1%</td>\n",
       "      <td>21438.427083</td>\n",
       "      <td>182700</td>\n",
       "      <td>11.734224</td>\n",
       "    </tr>\n",
       "  </tbody>\n",
       "</table>\n",
       "<p>10 rows × 24 columns</p>\n",
       "</div>"
      ],
      "text/plain": [
       "   Classement                Ville                      Région  Code Postal  \\\n",
       "0           1                 Agde                   Occitanie        34300   \n",
       "1           2  Chamonix-Mont-Blanc        Auvergne-Rhône-Alpes        74400   \n",
       "2           3               Carnac                    Bretagne        56340   \n",
       "3           4      Argelès-sur-Mer                   Occitanie        66700   \n",
       "4           5             Quiberon                    Bretagne        56170   \n",
       "5           6          Le Lavandou  Provence-Alpes-Côte-D’Azur        83980   \n",
       "6           7      La Grande-Motte                   Occitanie        34280   \n",
       "7           8           Ramatuelle  Provence-Alpes-Côte-D’Azur        83350   \n",
       "8           9        Saint-Raphaël  Provence-Alpes-Côte-D’Azur        24160   \n",
       "9          10   La Baule-Escoublac            Pays de La Loire        44500   \n",
       "\n",
       "      prix_01     prix_02     prix_03     prix_04     prix_05     prix_06  \\\n",
       "0   57.000000   60.777778   52.944444   70.111111   74.555556   72.722222   \n",
       "1  115.555556  159.000000  113.388889  121.666667  100.888889  107.555556   \n",
       "2   85.111111   74.944444   72.555556   79.500000   81.722222   93.333333   \n",
       "3   62.000000   67.555556   74.277778   77.555556   87.222222   76.222222   \n",
       "4   80.666667   94.777778   88.944444   93.611111   94.388889   94.277778   \n",
       "5   78.833333   76.500000   76.333333   87.611111   88.111111   95.777778   \n",
       "6   51.777778   66.777778   55.333333   73.555556   77.666667   69.833333   \n",
       "7   79.166667   89.666667   80.944444  117.777778  143.666667  147.222222   \n",
       "8   91.277778   84.333333   74.833333   81.611111   83.944444   97.722222   \n",
       "9   77.833333   89.944444   88.000000   91.611111   98.222222   85.333333   \n",
       "\n",
       "   ...     prix_11     prix_12               Ville2  prix_moyen  \\\n",
       "0  ...   59.777778   62.277778                 agde        3080   \n",
       "1  ...  121.333333  124.444444  chamonix-mont-blanc        8710   \n",
       "2  ...   73.111111   74.555556               carnac        5350   \n",
       "3  ...   77.222222   77.222222      argeles-sur-mer        3320   \n",
       "4  ...   87.500000   86.166667             quiberon        5610   \n",
       "5  ...   75.555556   75.611111          le-lavandou        5410   \n",
       "6  ...   78.000000   77.833333      la-grande-motte        4460   \n",
       "7  ...  102.722222  116.944444           ramatuelle        6050   \n",
       "8  ...   85.444444   88.166667        saint-raphael        1170   \n",
       "9  ...   83.944444   90.666667   la-baule-escoublac        6090   \n",
       "\n",
       "   evolution_3_mois  evolution_6_mois evolution_12_mois gain_loc_annuel  \\\n",
       "0             +0.9%             +2.3%             +4.1%    19480.185185   \n",
       "1               NaN               NaN               NaN    28179.351852   \n",
       "2             +1.1%             +1.7%             +2.9%    21424.486111   \n",
       "3               NaN               NaN               NaN    19917.002315   \n",
       "4               NaN               NaN               NaN    23118.778935   \n",
       "5               NaN               NaN               NaN    23624.371528   \n",
       "6               NaN               NaN               NaN    17732.916667   \n",
       "7             -0.2%             -0.6%               -1%    31894.156250   \n",
       "8             +1.8%             +2.8%             +2.5%    23283.282407   \n",
       "9             +0.3%               +1%             +3.1%    21438.427083   \n",
       "\n",
       "  prix_30m2 rentabilite_brut  \n",
       "0     92400        21.082451  \n",
       "1    261300        10.784291  \n",
       "2    160500        13.348589  \n",
       "3     99600         19.99699  \n",
       "4    168300        13.736648  \n",
       "5    162300         14.55599  \n",
       "6    133800        13.253301  \n",
       "7    181500        17.572538  \n",
       "8     35100        66.334138  \n",
       "9    182700        11.734224  \n",
       "\n",
       "[10 rows x 24 columns]"
      ]
     },
     "execution_count": 79,
     "metadata": {},
     "output_type": "execute_result"
    }
   ],
   "source": [
    "villes"
   ]
  },
  {
   "cell_type": "code",
   "execution_count": 80,
   "id": "d86768fe",
   "metadata": {},
   "outputs": [],
   "source": [
    "villes.to_csv('rentabilite.csv')"
   ]
  }
 ],
 "metadata": {
  "kernelspec": {
   "display_name": "Python 3 (ipykernel)",
   "language": "python",
   "name": "python3"
  },
  "language_info": {
   "codemirror_mode": {
    "name": "ipython",
    "version": 3
   },
   "file_extension": ".py",
   "mimetype": "text/x-python",
   "name": "python",
   "nbconvert_exporter": "python",
   "pygments_lexer": "ipython3",
   "version": "3.9.13"
  }
 },
 "nbformat": 4,
 "nbformat_minor": 5
}
